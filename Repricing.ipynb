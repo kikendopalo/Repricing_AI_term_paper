{
  "cells": [
    {
      "cell_type": "markdown",
      "metadata": {
        "id": "VY06kSV9mNgR"
      },
      "source": [
        "# Предобработка"
      ]
    },
    {
      "cell_type": "code",
      "execution_count": null,
      "metadata": {
        "id": "-hkNAJdd6l_3"
      },
      "outputs": [],
      "source": [
        "import pandas as pd\n",
        "import numpy as np"
      ]
    },
    {
      "cell_type": "code",
      "execution_count": null,
      "metadata": {
        "id": "xwzPyZrnBVWy"
      },
      "outputs": [],
      "source": [
        "df2 = pd.read_csv('competitors.csv', sep=';')"
      ]
    },
    {
      "cell_type": "code",
      "execution_count": null,
      "metadata": {
        "id": "nv10DXVOBfb7"
      },
      "outputs": [],
      "source": [
        "df2_skus = set(df2['Sku (Sku)'].values)"
      ]
    },
    {
      "cell_type": "code",
      "execution_count": null,
      "metadata": {
        "id": "NSi3ffHbHl8w",
        "scrolled": true
      },
      "outputs": [],
      "source": [
        "df = pd.read_csv('report.csv', sep=';')"
      ]
    },
    {
      "cell_type": "code",
      "execution_count": null,
      "metadata": {
        "id": "hvg62SWuH1DJ"
      },
      "outputs": [],
      "source": [
        "df['Время (CollectedAt)'] = df['Время (CollectedAt)'].apply(lambda x: x.split()[0])\n",
        "df = df[df['Sku (Sku)'].apply(lambda x: x in df2_skus)]\n",
        "norm_size = df.drop_duplicates()"
      ]
    },
    {
      "cell_type": "code",
      "execution_count": null,
      "metadata": {
        "colab": {
          "base_uri": "https://localhost:8080/"
        },
        "id": "245Zp0l018Zu",
        "outputId": "89612fba-0536-4230-d9a2-7e9c35517013"
      },
      "outputs": [
        {
          "data": {
            "text/plain": [
              "29"
            ]
          },
          "execution_count": 167,
          "metadata": {},
          "output_type": "execute_result"
        }
      ],
      "source": [
        "norm_size['Время (CollectedAt)'].nunique()"
      ]
    },
    {
      "cell_type": "code",
      "execution_count": null,
      "metadata": {
        "id": "EXFGUz9KEb-A"
      },
      "outputs": [],
      "source": [
        "norm_size.to_csv('norm_size_time.csv', sep=';', encoding='utf-8-sig', index=False)"
      ]
    },
    {
      "cell_type": "code",
      "execution_count": null,
      "metadata": {
        "id": "jb4O9nypmNga"
      },
      "outputs": [],
      "source": [
        "df_prices = pd.read_csv('norm_size_time.csv', sep=';')"
      ]
    },
    {
      "cell_type": "code",
      "execution_count": null,
      "metadata": {
        "id": "YFfukkSYLWkb"
      },
      "outputs": [],
      "source": [
        "import requests\n",
        "from PIL import Image\n",
        "from io import BytesIO"
      ]
    },
    {
      "cell_type": "code",
      "execution_count": null,
      "metadata": {
        "id": "gsuAe_FkUDor"
      },
      "outputs": [],
      "source": [
        "df2.drop(df2[df2['Фото (CoverImage)'].isna()].index, inplace=True)"
      ]
    },
    {
      "cell_type": "code",
      "execution_count": null,
      "metadata": {
        "id": "cNjW_8eUmNgb"
      },
      "outputs": [],
      "source": [
        "from tqdm import tqdm\n",
        "tqdm.pandas()"
      ]
    },
    {
      "cell_type": "code",
      "execution_count": null,
      "metadata": {
        "id": "qeHlOKSFmNgb",
        "outputId": "90a1730e-d262-41cd-ac7e-720628dcf11c"
      },
      "outputs": [
        {
          "name": "stderr",
          "output_type": "stream",
          "text": [
            "100%|██████████████████████████████████████████████████████████████████████████████| 5562/5562 [12:39<00:00,  7.33it/s]\n"
          ]
        }
      ],
      "source": [
        "df2.loc[:, 'Фото (CoverImage)'] = df2['Фото (CoverImage)'].progress_apply(lambda x: BytesIO(requests.get(x, headers={\"User-Agent\": \"Mozilla/5.0\"}).content).getvalue())"
      ]
    },
    {
      "cell_type": "code",
      "execution_count": null,
      "metadata": {
        "id": "w6blg2C6VdII"
      },
      "outputs": [],
      "source": [
        "df2.to_pickle(\"dataset_with_images.pkl\")"
      ]
    },
    {
      "cell_type": "code",
      "execution_count": null,
      "metadata": {
        "id": "CdhaNvgdmNgb"
      },
      "outputs": [],
      "source": [
        "df2 = pd.read_pickle(\"dataset_with_images.pkl\")"
      ]
    },
    {
      "cell_type": "code",
      "execution_count": null,
      "metadata": {
        "id": "kcos2yL1EQsG"
      },
      "outputs": [],
      "source": [
        "df2.drop(['Цена соинвест (DiscountPrice)', 'Цена по карте (OzonCardPrice)', 'Ошибка загрузки (CrawlerError)', 'Валюта (Currency)', 'Цена до скидки (BasePrice)', 'Рейтинг товара (AvgRating)', 'Количество отзывов (Reviews)', 'SellerProductId (SellerProductId)', 'Rich-контент (RichContent)', 'Link (Link)', 'Сток FBO (StockFbm)', 'Сток FBS (StockFbs)'], axis=1, inplace=True)"
      ]
    },
    {
      "cell_type": "code",
      "execution_count": null,
      "metadata": {
        "id": "F6GzpTgdIvzB"
      },
      "outputs": [],
      "source": [
        "df_prices.loc[:, 'Время (CollectedAt)'] = pd.to_datetime(df_prices['Время (CollectedAt)'], format='%d.%m.%Y')"
      ]
    },
    {
      "cell_type": "code",
      "execution_count": null,
      "metadata": {
        "id": "iDuDFRD4ulLh"
      },
      "outputs": [],
      "source": [
        "df2.isna().any()"
      ]
    },
    {
      "cell_type": "code",
      "execution_count": null,
      "metadata": {
        "id": "mNURCWXFNxrX"
      },
      "outputs": [],
      "source": [
        "df2 = df2.fillna('')"
      ]
    },
    {
      "cell_type": "code",
      "execution_count": null,
      "metadata": {
        "id": "meqpG7M-tMOx"
      },
      "outputs": [],
      "source": [
        "df2['Text'] = df2.apply(lambda x: f\"Название товара: {x['Название товара (ProductName)']}. Продавец: {x['Продавец (SellerName)']}. Бренд: {x['Бренд (BrandName)']}. Название категории: {x['Название категории (CategoryName)']}. Описание: {x['Описание (Description)']}\", axis=1)"
      ]
    },
    {
      "cell_type": "markdown",
      "metadata": {
        "id": "PafRAw4ymNgc"
      },
      "source": [
        "# Выявление конкурентов"
      ]
    },
    {
      "cell_type": "markdown",
      "source": [
        "Создание текстовых эмбеддингов и эмбеддингов изображений"
      ],
      "metadata": {
        "id": "E1hjyJ5SqGO5"
      }
    },
    {
      "cell_type": "code",
      "execution_count": null,
      "metadata": {
        "id": "cPncG8PlmNgc"
      },
      "outputs": [],
      "source": [
        "def chunk_text(text, model, max_length=512):\n",
        "    words = text.split()\n",
        "    chunks, current = [], []\n",
        "    for word in words:\n",
        "        current.append(word)\n",
        "        if len(current) >= max_length:\n",
        "            chunks.append(\" \".join(current))\n",
        "            current = []\n",
        "    if current:\n",
        "        chunks.append(\" \".join(current))\n",
        "    vectors = [model.encode(\"passage: \" + c) for c in chunks]\n",
        "    return np.mean(vectors, axis=0)"
      ]
    },
    {
      "cell_type": "code",
      "execution_count": null,
      "metadata": {
        "id": "2B5Bw-SGmNgd"
      },
      "outputs": [],
      "source": [
        "from sentence_transformers import SentenceTransformer\n",
        "model = SentenceTransformer(\"intfloat/multilingual-e5-large\")"
      ]
    },
    {
      "cell_type": "code",
      "execution_count": null,
      "metadata": {
        "id": "GyoPRq2ymNgd",
        "outputId": "7e789792-b197-417e-8a18-9c46f195e3f6"
      },
      "outputs": [
        {
          "name": "stderr",
          "output_type": "stream",
          "text": [
            "100%|████████████████████████████████████████████████████████████████████████████| 5562/5562 [1:40:42<00:00,  1.09s/it]\n"
          ]
        }
      ],
      "source": [
        "text_embeds = df2['Text'].progress_apply(lambda x: chunk_text(x, model, max_length=512))"
      ]
    },
    {
      "cell_type": "code",
      "execution_count": null,
      "metadata": {
        "id": "GmibOfThmNge",
        "outputId": "c8d40917-4bf5-4404-cb03-42b2a38c8341"
      },
      "outputs": [
        {
          "data": {
            "text/plain": [
              "0       [0.016611677, 0.012360234, -0.0051768827, -0.0...\n",
              "1       [0.015906638, 0.005449123, -0.007966393, -0.04...\n",
              "2       [0.018023826, 0.008129906, -0.013661152, -0.06...\n",
              "3       [0.024179514, -0.012748609, -0.008761872, -0.0...\n",
              "4       [0.024069652, 0.009096535, -0.004378606, -0.03...\n",
              "                              ...                        \n",
              "5560    [0.022760335, -0.018009448, -0.03723961, -0.04...\n",
              "5561    [0.01182711, -0.011443761, -0.009896718, -0.07...\n",
              "5562    [0.018884286, -0.010586661, -0.016864171, -0.0...\n",
              "5563    [0.016063986, -0.0036257445, -0.02349992, -0.0...\n",
              "5564    [0.018464684, -0.0038097203, -0.010746452, -0....\n",
              "Name: Text, Length: 5562, dtype: object"
            ]
          },
          "execution_count": 19,
          "metadata": {},
          "output_type": "execute_result"
        }
      ],
      "source": [
        "text_embeds"
      ]
    },
    {
      "cell_type": "code",
      "execution_count": null,
      "metadata": {
        "id": "4qkE5o8zmNge"
      },
      "outputs": [],
      "source": [
        "text_embeds.to_csv('text_embeds.csv')"
      ]
    },
    {
      "cell_type": "code",
      "execution_count": null,
      "metadata": {
        "id": "yBq3N5VXmNge"
      },
      "outputs": [],
      "source": [
        "from transformers import AutoImageProcessor, AutoModel\n",
        "from PIL import Image\n",
        "import torch\n",
        "\n",
        "processor = AutoImageProcessor.from_pretrained(\"facebook/dinov2-base\")\n",
        "model = AutoModel.from_pretrained(\"facebook/dinov2-base\")"
      ]
    },
    {
      "cell_type": "code",
      "execution_count": null,
      "metadata": {
        "id": "mrJDauyImNge",
        "outputId": "fe753632-bece-4d45-d135-9d856111d094"
      },
      "outputs": [
        {
          "name": "stderr",
          "output_type": "stream",
          "text": [
            "100%|██████████████████████████████████████████████████████████████████████████████| 5562/5562 [46:43<00:00,  1.98it/s]\n"
          ]
        }
      ],
      "source": [
        "with torch.no_grad():\n",
        "    image_embeds = df2['Фото (CoverImage)'].progress_apply(lambda x: model(**processor(images=Image.open(BytesIO(x)).convert(\"RGB\"), return_tensors=\"pt\")).last_hidden_state[:, 0].squeeze().cpu().numpy())"
      ]
    },
    {
      "cell_type": "code",
      "execution_count": null,
      "metadata": {
        "id": "WR6OCzV5mNge"
      },
      "outputs": [],
      "source": [
        "image_embeds.to_csv('image_embeds.csv')"
      ]
    },
    {
      "cell_type": "code",
      "execution_count": null,
      "metadata": {
        "id": "1qpYZs7xmNge",
        "outputId": "37949ddc-a953-4eb0-d232-f877d4ceac8d"
      },
      "outputs": [
        {
          "data": {
            "text/plain": [
              "0       [-2.3985775, 0.48281968, -2.4882383, 0.1058278...\n",
              "1       [-3.020565, -0.26605988, -3.1468015, -0.461669...\n",
              "2       [-3.9272237, 1.4354926, -1.9917241, -0.3569644...\n",
              "3       [-4.1468883, 1.2198435, -2.3701658, -0.4745865...\n",
              "4       [-2.8192697, 0.6544376, -2.3217163, 0.46999246...\n",
              "                              ...                        \n",
              "5560    [-1.6156862, -1.1064438, -0.8551148, -1.323413...\n",
              "5561    [-1.4103678, -2.1961586, -0.38815612, 0.154895...\n",
              "5562    [3.076486, 0.30549636, -4.6834264, -1.2911329,...\n",
              "5563    [-2.2377448, -0.23581028, -0.06353739, -0.6760...\n",
              "5564    [-1.433748, -0.35014057, -1.19033, -0.12757605...\n",
              "Name: Фото (CoverImage), Length: 5562, dtype: object"
            ]
          },
          "execution_count": 53,
          "metadata": {},
          "output_type": "execute_result"
        }
      ],
      "source": [
        "image_embeds"
      ]
    },
    {
      "cell_type": "code",
      "execution_count": null,
      "metadata": {
        "id": "P1dbklXDmNge"
      },
      "outputs": [],
      "source": [
        "avg_prices_rating = df_prices.groupby('Sku (Sku)')[['Цена (BasePrice)', 'Цена со скидкой (DiscountPrice)', 'Цена по карте (OzonCardPrice)', 'Общий остаток (StockTotal)', 'Средний рейтинг (AvgRating)']].mean().reset_index()"
      ]
    },
    {
      "cell_type": "code",
      "execution_count": null,
      "metadata": {
        "id": "zmDE5HUvmNgf"
      },
      "outputs": [],
      "source": [
        "full_info = pd.merge(df2[['Sku (Sku)', 'Text', 'Фото (CoverImage)']].reset_index(), avg_prices_rating, on='Sku (Sku)')"
      ]
    },
    {
      "cell_type": "code",
      "execution_count": null,
      "metadata": {
        "id": "CmVqjPqfmNgf"
      },
      "outputs": [],
      "source": [
        "full_info.drop('Фото (CoverImage)', axis=1).to_csv('full_info.csv')"
      ]
    },
    {
      "cell_type": "code",
      "execution_count": null,
      "metadata": {
        "id": "HlGrlmwamNgf"
      },
      "outputs": [],
      "source": [
        "full_info = pd.read_csv('full_info.csv')"
      ]
    },
    {
      "cell_type": "code",
      "execution_count": null,
      "metadata": {
        "id": "Qt8zECGxmNgf"
      },
      "outputs": [],
      "source": [
        "image_text_embeds = np.concat([np.stack(text_embeds.loc[full_info['index']].values), np.stack(image_embeds.loc[full_info['index']].values)], axis=1)"
      ]
    },
    {
      "cell_type": "code",
      "execution_count": null,
      "metadata": {
        "id": "jGB0kTVDmNgf"
      },
      "outputs": [],
      "source": [
        "full_info_embeds = np.concat([image_text_embeds, full_info[['Цена (BasePrice)', 'Цена со скидкой (DiscountPrice)', 'Цена по карте (OzonCardPrice)', 'Общий остаток (StockTotal)', 'Средний рейтинг (AvgRating)']].values], axis=1)"
      ]
    },
    {
      "cell_type": "code",
      "execution_count": null,
      "metadata": {
        "id": "-uG3yliBmNgf",
        "outputId": "1a1acaef-3299-48fa-878a-80b830dafcfe"
      },
      "outputs": [
        {
          "data": {
            "text/plain": [
              "array([[ 1.66116767e-02,  1.23602338e-02, -5.17688273e-03, ...,\n",
              "         5.67855114e+02,  1.27968750e+02,  4.80000000e+00],\n",
              "       [ 1.59066375e-02,  5.44912321e-03, -7.96639267e-03, ...,\n",
              "         1.00547786e+03,  2.42926199e+02,  4.80000000e+00],\n",
              "       [ 1.80238262e-02,  8.12990591e-03, -1.36611518e-02, ...,\n",
              "         9.92203077e+02,  4.86215385e+01,  4.80000000e+00],\n",
              "       ...,\n",
              "       [ 1.88842863e-02, -1.05866613e-02, -1.68641713e-02, ...,\n",
              "         4.67737705e+02,  2.13852459e+02,  5.00000000e+00],\n",
              "       [ 1.60639863e-02, -3.62574449e-03, -2.34999191e-02, ...,\n",
              "         6.96526829e+03,  1.41707317e+01,  0.00000000e+00],\n",
              "       [ 1.84646845e-02, -3.80972028e-03, -1.07464520e-02, ...,\n",
              "         2.74845833e+03,  1.91875000e+01,  0.00000000e+00]],\n",
              "      shape=(5439, 1797))"
            ]
          },
          "execution_count": 89,
          "metadata": {},
          "output_type": "execute_result"
        }
      ],
      "source": [
        "full_info_embeds"
      ]
    },
    {
      "cell_type": "markdown",
      "source": [
        "Приведение признаков к единому масштабу"
      ],
      "metadata": {
        "id": "Zuo5UaABqTgu"
      }
    },
    {
      "cell_type": "code",
      "execution_count": null,
      "metadata": {
        "id": "ilYYkaDnmNgg"
      },
      "outputs": [],
      "source": [
        "from sklearn.preprocessing import StandardScaler\n",
        "scaler = StandardScaler()\n",
        "full_info_scaled = scaler.fit_transform(full_info_embeds)"
      ]
    },
    {
      "cell_type": "code",
      "execution_count": null,
      "metadata": {
        "id": "eVmZYO03mNgg",
        "outputId": "60f32305-9b9c-41d0-d1d8-82ab804d0194"
      },
      "outputs": [
        {
          "data": {
            "text/plain": [
              "array([[-0.06254315,  1.57821792,  1.50045801, ..., -0.86376629,\n",
              "        -0.3228582 ,  1.33108359],\n",
              "       [-0.11814634,  0.98933921,  1.26967205, ..., -0.59856304,\n",
              "        -0.06347262,  1.33108359],\n",
              "       [ 0.04882657,  1.2177621 ,  0.7985246 , ..., -0.60660768,\n",
              "        -0.5018942 ,  1.33108359],\n",
              "       ...,\n",
              "       [ 0.1166871 , -0.37703046,  0.53352754, ..., -0.92443832,\n",
              "        -0.12907349,  1.41763277],\n",
              "       [-0.10573697,  0.2160921 , -0.01547121, ...,  3.01312256,\n",
              "        -0.57962768, -0.74609679],\n",
              "       [ 0.08359504,  0.20041598,  1.03966796, ...,  0.45769851,\n",
              "        -0.56830804, -0.74609679]], shape=(5439, 1797))"
            ]
          },
          "execution_count": 91,
          "metadata": {},
          "output_type": "execute_result"
        }
      ],
      "source": [
        "full_info_scaled"
      ]
    },
    {
      "cell_type": "code",
      "execution_count": null,
      "metadata": {
        "id": "IL-rgx4gmNgg"
      },
      "outputs": [],
      "source": [
        "np.save('full_info_scaled.npy', full_info_scaled)"
      ]
    },
    {
      "cell_type": "code",
      "execution_count": null,
      "metadata": {
        "id": "HBga8YC8mNgg"
      },
      "outputs": [],
      "source": [
        "full_info_scaled = np.load('full_info_scaled.npy')"
      ]
    },
    {
      "cell_type": "markdown",
      "metadata": {
        "id": "FnU88JpXmNgh"
      },
      "source": [
        "**Поиск кластеров с помощью UMAP**"
      ]
    },
    {
      "cell_type": "code",
      "execution_count": null,
      "metadata": {
        "id": "7hxjHcsVmNgh"
      },
      "outputs": [],
      "source": [
        "import matplotlib.pyplot as plt\n",
        "import umap.umap_ as umap"
      ]
    },
    {
      "cell_type": "code",
      "execution_count": null,
      "metadata": {
        "id": "M5c0EhpNmNgh",
        "outputId": "ae00532c-4029-457f-e0df-b03b00a26b4d"
      },
      "outputs": [
        {
          "name": "stderr",
          "output_type": "stream",
          "text": [
            "D:\\jupyter\\Lib\\site-packages\\sklearn\\utils\\deprecation.py:132: FutureWarning: 'force_all_finite' was renamed to 'ensure_all_finite' in 1.6 and will be removed in 1.8.\n",
            "  warnings.warn(\n",
            "D:\\jupyter\\Lib\\site-packages\\umap\\umap_.py:1952: UserWarning: n_jobs value 1 overridden to 1 by setting random_state. Use no seed for parallelism.\n",
            "  warn(\n",
            "D:\\jupyter\\Lib\\site-packages\\sklearn\\manifold\\_spectral_embedding.py:328: UserWarning: Graph is not fully connected, spectral embedding may not work as expected.\n",
            "  warnings.warn(\n"
          ]
        },
        {
          "data": {
            "image/png": "[encoded data removed]",
            "text/plain": [
              "<Figure size 800x600 with 1 Axes>"
            ]
          },
          "metadata": {},
          "output_type": "display_data"
        }
      ],
      "source": [
        "reducer = umap.UMAP(n_components=2, random_state=42)\n",
        "embedding_umap = reducer.fit_transform(full_info_scaled)\n",
        "\n",
        "plt.figure(figsize=(8, 6))\n",
        "plt.scatter(embedding_umap[:, 0], embedding_umap[:, 1], alpha=0.3)\n",
        "plt.title('UMAP проекция конкурентов')\n",
        "plt.show()"
      ]
    },
    {
      "cell_type": "markdown",
      "metadata": {
        "id": "RWDZZQ1HmNgh"
      },
      "source": [
        "**Поиск кластеров с помощью t-SNE**"
      ]
    },
    {
      "cell_type": "code",
      "source": [
        "from sklearn.manifold import TSNE"
      ],
      "metadata": {
        "id": "IeuoiazaqDTq"
      },
      "execution_count": null,
      "outputs": []
    },
    {
      "cell_type": "code",
      "execution_count": null,
      "metadata": {
        "id": "pmVwYPQwmNgh",
        "outputId": "dd64bf18-4dc0-4d69-d241-025943cf1cb2"
      },
      "outputs": [
        {
          "data": {
            "image/png": "[encoded data removed]",
            "text/plain": [
              "<Figure size 800x600 with 1 Axes>"
            ]
          },
          "metadata": {},
          "output_type": "display_data"
        }
      ],
      "source": [
        "tsne = TSNE(n_components=2, perplexity=30, random_state=42)\n",
        "embedding_tsne = tsne.fit_transform(full_info_scaled)\n",
        "\n",
        "plt.figure(figsize=(8, 6))\n",
        "plt.scatter(embedding_tsne[:, 0], embedding_tsne[:, 1], alpha=0.3)\n",
        "plt.title('t-SNE проекция конкурентов')\n",
        "plt.show()"
      ]
    },
    {
      "cell_type": "markdown",
      "metadata": {
        "id": "3VAxUkISmNgi"
      },
      "source": [
        "# Аппроксимация функции спроса с помощью ML и DL"
      ]
    },
    {
      "cell_type": "markdown",
      "source": [
        "Создание lag признаков"
      ],
      "metadata": {
        "id": "xz5YCbL4qi4O"
      }
    },
    {
      "cell_type": "code",
      "execution_count": null,
      "metadata": {
        "id": "w5DTflrZmNgi"
      },
      "outputs": [],
      "source": [
        "df_prices.head()"
      ]
    },
    {
      "cell_type": "code",
      "execution_count": null,
      "metadata": {
        "id": "z7uyTkvemNgi"
      },
      "outputs": [],
      "source": [
        "df_prices = df_prices.sort_values(['Sku (Sku)', 'Время (CollectedAt)']).copy()\n",
        "\n",
        "df_prices['stock_prev'] = df_prices.groupby('Sku (Sku)')['Общий остаток (StockTotal)'].shift(1)\n",
        "\n",
        "df_prices['sales'] = df_prices['stock_prev'] - df_prices['Общий остаток (StockTotal)']\n",
        "\n",
        "df_prices['sales'] = df_prices['sales'].clip(lower=0)\n",
        "df_prices.head()"
      ]
    },
    {
      "cell_type": "code",
      "execution_count": null,
      "metadata": {
        "id": "widTawYfmNgi"
      },
      "outputs": [],
      "source": [
        "df_prices['lag_sales_1'] = df_prices.groupby('Sku (Sku)')['sales'].shift(1)\n",
        "df_prices['lag_sales_2'] = df_prices.groupby('Sku (Sku)')['sales'].shift(2)\n",
        "\n",
        "df_prices['lag_price_1'] = df_prices.groupby('Sku (Sku)')['Цена (BasePrice)'].shift(1)\n",
        "df_prices['lag_price_sale_1'] = df_prices.groupby('Sku (Sku)')['Цена со скидкой (DiscountPrice)'].shift(1)\n",
        "df_prices['lag_price_card_1'] = df_prices.groupby('Sku (Sku)')['Цена по карте (OzonCardPrice)'].shift(1)"
      ]
    },
    {
      "cell_type": "code",
      "execution_count": null,
      "metadata": {
        "id": "cxP28wAtmNgi"
      },
      "outputs": [],
      "source": [
        "df_prices.dropna(inplace=True)\n",
        "df_prices.head()"
      ]
    },
    {
      "cell_type": "code",
      "execution_count": null,
      "metadata": {
        "id": "Hw0QSxFtmNgi"
      },
      "outputs": [],
      "source": [
        "df_prices['Время (CollectedAt)'] = pd.to_datetime(df_prices['Время (CollectedAt)'])"
      ]
    },
    {
      "cell_type": "code",
      "execution_count": null,
      "metadata": {
        "id": "ARVhTLJumNgj"
      },
      "outputs": [],
      "source": [
        "df_prices['days_from_min'] = (df_prices['Время (CollectedAt)'] - df_prices['Время (CollectedAt)'].min()).dt.days"
      ]
    },
    {
      "cell_type": "code",
      "execution_count": null,
      "metadata": {
        "id": "usPcmZB8mNgj"
      },
      "outputs": [],
      "source": [
        "df_prices.to_csv('processed_prices.csv')"
      ]
    },
    {
      "cell_type": "code",
      "execution_count": null,
      "metadata": {
        "id": "hKUyIFl9mNgj"
      },
      "outputs": [],
      "source": [
        "df_prices = pd.read_csv('processed_prices.csv')"
      ]
    },
    {
      "cell_type": "markdown",
      "metadata": {
        "id": "U5g5iqR8mNgj"
      },
      "source": [
        "**Сравнение моделей по RMSE**"
      ]
    },
    {
      "cell_type": "code",
      "execution_count": null,
      "metadata": {
        "id": "StgD4rVPmNgj"
      },
      "outputs": [],
      "source": [
        "from sklearn.model_selection import GridSearchCV\n",
        "from sklearn.metrics import root_mean_squared_error\n",
        "from xgboost.sklearn import XGBRegressor\n",
        "from catboost import CatBoostRegressor\n",
        "from lightgbm import LGBMRegressor"
      ]
    },
    {
      "cell_type": "code",
      "execution_count": null,
      "metadata": {
        "id": "WKKkT62pmNgj"
      },
      "outputs": [],
      "source": [
        "X = df_prices.drop(['Время (CollectedAt)', 'sales'], axis=1)\n",
        "y = df_prices['sales']"
      ]
    },
    {
      "cell_type": "code",
      "execution_count": null,
      "metadata": {
        "id": "ibFfz5jtmNgj",
        "outputId": "75b6c498-cb58-43bf-d9e7-d871eb5692c4"
      },
      "outputs": [
        {
          "name": "stdout",
          "output_type": "stream",
          "text": [
            "Лучший RMSE: 13.611630321738076\n",
            "Лучшие гиперпараметры: {'learning_rate': 0.2, 'max_depth': 4, 'n_estimators': 500}\n",
            "CPU times: total: 21.4 s\n",
            "Wall time: 2min 52s\n"
          ]
        }
      ],
      "source": [
        "%%time\n",
        "# XGBoost\n",
        "\n",
        "params = {\n",
        "    'max_depth': [4, 6],\n",
        "    'learning_rate': [0.03, 0.1, 0.2],\n",
        "    'n_estimators': [300, 500],\n",
        "}\n",
        "\n",
        "grid_xgboost = GridSearchCV(XGBRegressor(random_state=42), params, scoring='neg_root_mean_squared_error', cv=5, n_jobs=-1)\n",
        "grid_xgboost.fit(X, y)\n",
        "\n",
        "print(f'Лучший RMSE: {-grid_xgboost.best_score_}')\n",
        "print(f'Лучшие гиперпараметры: {grid_xgboost.best_params_}')"
      ]
    },
    {
      "cell_type": "code",
      "execution_count": null,
      "metadata": {
        "id": "ZV60bxjamNgj",
        "outputId": "cc227158-358a-4ae7-9eb7-5e3072060536"
      },
      "outputs": [
        {
          "name": "stdout",
          "output_type": "stream",
          "text": [
            "Лучший RMSE: 9.762419503514296\n",
            "Лучшие гиперпараметры: {'depth': 8, 'iterations': 900, 'learning_rate': 0.2}\n",
            "CPU times: total: 3min 37s\n",
            "Wall time: 20min 3s\n"
          ]
        }
      ],
      "source": [
        "%%time\n",
        "# CatBoost\n",
        "\n",
        "params = {\n",
        "    'depth': [6, 8],\n",
        "    'learning_rate': [0.2, 0.3],\n",
        "    'iterations': [700, 900],\n",
        "}\n",
        "\n",
        "grid_catboost = GridSearchCV(CatBoostRegressor(random_state=42, verbose=False), params, scoring='neg_root_mean_squared_error', cv=5, n_jobs=-1)\n",
        "grid_catboost.fit(X, y)\n",
        "\n",
        "print(f'Лучший RMSE: {-grid_catboost.best_score_}')\n",
        "print(f'Лучшие гиперпараметры: {grid_catboost.best_params_}')"
      ]
    },
    {
      "cell_type": "code",
      "execution_count": null,
      "metadata": {
        "scrolled": true,
        "id": "h_Z4KR24mNgk",
        "outputId": "2492fefe-10f3-4d8e-872e-eb4c244170e7"
      },
      "outputs": [
        {
          "name": "stdout",
          "output_type": "stream",
          "text": [
            "[LightGBM] [Warning] Found whitespace in feature_names, replace with underlines\n",
            "[LightGBM] [Info] Auto-choosing row-wise multi-threading, the overhead of testing was 0.007748 seconds.\n",
            "You can set `force_row_wise=true` to remove the overhead.\n",
            "And if memory is not enough, you can set `force_col_wise=true`.\n",
            "[LightGBM] [Info] Total Bins 2612\n",
            "[LightGBM] [Info] Number of data points in the train set: 283538, number of used features: 13\n",
            "[LightGBM] [Info] Start training from score 0.734974\n",
            "[LightGBM] [Warning] No further splits with positive gain, best gain: -inf\n",
            "[LightGBM] [Warning] No further splits with positive gain, best gain: -inf\n",
            "[LightGBM] [Warning] No further splits with positive gain, best gain: -inf\n",
            "[LightGBM] [Warning] No further splits with positive gain, best gain: -inf\n",
            "[LightGBM] [Warning] No further splits with positive gain, best gain: -inf\n",
            "[LightGBM] [Warning] No further splits with positive gain, best gain: -inf\n",
            "[LightGBM] [Warning] No further splits with positive gain, best gain: -inf\n",
            "[LightGBM] [Warning] No further splits with positive gain, best gain: -inf\n",
            "[LightGBM] [Warning] No further splits with positive gain, best gain: -inf\n",
            "[LightGBM] [Warning] No further splits with positive gain, best gain: -inf\n",
            "[LightGBM] [Warning] No further splits with positive gain, best gain: -inf\n",
            "[LightGBM] [Warning] No further splits with positive gain, best gain: -inf\n",
            "[LightGBM] [Warning] No further splits with positive gain, best gain: -inf\n",
            "[LightGBM] [Warning] No further splits with positive gain, best gain: -inf\n",
            "[LightGBM] [Warning] No further splits with positive gain, best gain: -inf\n",
            "[LightGBM] [Warning] No further splits with positive gain, best gain: -inf\n",
            "[LightGBM] [Warning] No further splits with positive gain, best gain: -inf\n",
            "[LightGBM] [Warning] No further splits with positive gain, best gain: -inf\n",
            "[LightGBM] [Warning] No further splits with positive gain, best gain: -inf\n",
            "[LightGBM] [Warning] No further splits with positive gain, best gain: -inf\n",
            "[LightGBM] [Warning] No further splits with positive gain, best gain: -inf\n",
            "[LightGBM] [Warning] No further splits with positive gain, best gain: -inf\n",
            "[LightGBM] [Warning] No further splits with positive gain, best gain: -inf\n",
            "[LightGBM] [Warning] No further splits with positive gain, best gain: -inf\n",
            "[LightGBM] [Warning] No further splits with positive gain, best gain: -inf\n",
            "[LightGBM] [Warning] No further splits with positive gain, best gain: -inf\n",
            "[LightGBM] [Warning] No further splits with positive gain, best gain: -inf\n",
            "[LightGBM] [Warning] No further splits with positive gain, best gain: -inf\n",
            "[LightGBM] [Warning] No further splits with positive gain, best gain: -inf\n",
            "[LightGBM] [Warning] No further splits with positive gain, best gain: -inf\n",
            "[LightGBM] [Warning] No further splits with positive gain, best gain: -inf\n",
            "[LightGBM] [Warning] No further splits with positive gain, best gain: -inf\n",
            "[LightGBM] [Warning] No further splits with positive gain, best gain: -inf\n",
            "[LightGBM] [Warning] No further splits with positive gain, best gain: -inf\n",
            "[LightGBM] [Warning] No further splits with positive gain, best gain: -inf\n",
            "[LightGBM] [Warning] No further splits with positive gain, best gain: -inf\n",
            "[LightGBM] [Warning] No further splits with positive gain, best gain: -inf\n",
            "[LightGBM] [Warning] No further splits with positive gain, best gain: -inf\n",
            "[LightGBM] [Warning] No further splits with positive gain, best gain: -inf\n",
            "[LightGBM] [Warning] No further splits with positive gain, best gain: -inf\n",
            "[LightGBM] [Warning] No further splits with positive gain, best gain: -inf\n",
            "[LightGBM] [Warning] No further splits with positive gain, best gain: -inf\n",
            "[LightGBM] [Warning] No further splits with positive gain, best gain: -inf\n",
            "[LightGBM] [Warning] No further splits with positive gain, best gain: -inf\n",
            "[LightGBM] [Warning] No further splits with positive gain, best gain: -inf\n",
            "[LightGBM] [Warning] No further splits with positive gain, best gain: -inf\n",
            "[LightGBM] [Warning] No further splits with positive gain, best gain: -inf\n",
            "[LightGBM] [Warning] No further splits with positive gain, best gain: -inf\n",
            "[LightGBM] [Warning] No further splits with positive gain, best gain: -inf\n",
            "[LightGBM] [Warning] No further splits with positive gain, best gain: -inf\n",
            "[LightGBM] [Warning] No further splits with positive gain, best gain: -inf\n",
            "[LightGBM] [Warning] No further splits with positive gain, best gain: -inf\n",
            "[LightGBM] [Warning] No further splits with positive gain, best gain: -inf\n",
            "[LightGBM] [Warning] No further splits with positive gain, best gain: -inf\n",
            "[LightGBM] [Warning] No further splits with positive gain, best gain: -inf\n",
            "[LightGBM] [Warning] No further splits with positive gain, best gain: -inf\n",
            "[LightGBM] [Warning] No further splits with positive gain, best gain: -inf\n",
            "[LightGBM] [Warning] No further splits with positive gain, best gain: -inf\n",
            "[LightGBM] [Warning] No further splits with positive gain, best gain: -inf\n",
            "[LightGBM] [Warning] No further splits with positive gain, best gain: -inf\n",
            "[LightGBM] [Warning] No further splits with positive gain, best gain: -inf\n",
            "[LightGBM] [Warning] No further splits with positive gain, best gain: -inf\n",
            "[LightGBM] [Warning] No further splits with positive gain, best gain: -inf\n",
            "[LightGBM] [Warning] No further splits with positive gain, best gain: -inf\n",
            "[LightGBM] [Warning] No further splits with positive gain, best gain: -inf\n",
            "[LightGBM] [Warning] No further splits with positive gain, best gain: -inf\n",
            "[LightGBM] [Warning] No further splits with positive gain, best gain: -inf\n",
            "[LightGBM] [Warning] No further splits with positive gain, best gain: -inf\n",
            "[LightGBM] [Warning] No further splits with positive gain, best gain: -inf\n",
            "[LightGBM] [Warning] No further splits with positive gain, best gain: -inf\n",
            "[LightGBM] [Warning] No further splits with positive gain, best gain: -inf\n",
            "[LightGBM] [Warning] No further splits with positive gain, best gain: -inf\n",
            "[LightGBM] [Warning] No further splits with positive gain, best gain: -inf\n",
            "[LightGBM] [Warning] No further splits with positive gain, best gain: -inf\n",
            "[LightGBM] [Warning] No further splits with positive gain, best gain: -inf\n",
            "[LightGBM] [Warning] No further splits with positive gain, best gain: -inf\n",
            "[LightGBM] [Warning] No further splits with positive gain, best gain: -inf\n",
            "[LightGBM] [Warning] No further splits with positive gain, best gain: -inf\n",
            "[LightGBM] [Warning] No further splits with positive gain, best gain: -inf\n",
            "[LightGBM] [Warning] No further splits with positive gain, best gain: -inf\n",
            "[LightGBM] [Warning] No further splits with positive gain, best gain: -inf\n",
            "[LightGBM] [Warning] No further splits with positive gain, best gain: -inf\n",
            "[LightGBM] [Warning] No further splits with positive gain, best gain: -inf\n",
            "[LightGBM] [Warning] No further splits with positive gain, best gain: -inf\n",
            "[LightGBM] [Warning] No further splits with positive gain, best gain: -inf\n",
            "[LightGBM] [Warning] No further splits with positive gain, best gain: -inf\n",
            "[LightGBM] [Warning] No further splits with positive gain, best gain: -inf\n",
            "[LightGBM] [Warning] No further splits with positive gain, best gain: -inf\n",
            "[LightGBM] [Warning] No further splits with positive gain, best gain: -inf\n",
            "[LightGBM] [Warning] No further splits with positive gain, best gain: -inf\n",
            "[LightGBM] [Warning] No further splits with positive gain, best gain: -inf\n",
            "[LightGBM] [Warning] No further splits with positive gain, best gain: -inf\n",
            "[LightGBM] [Warning] No further splits with positive gain, best gain: -inf\n",
            "[LightGBM] [Warning] No further splits with positive gain, best gain: -inf\n",
            "[LightGBM] [Warning] No further splits with positive gain, best gain: -inf\n",
            "[LightGBM] [Warning] No further splits with positive gain, best gain: -inf\n",
            "[LightGBM] [Warning] No further splits with positive gain, best gain: -inf\n",
            "[LightGBM] [Warning] No further splits with positive gain, best gain: -inf\n",
            "[LightGBM] [Warning] No further splits with positive gain, best gain: -inf\n",
            "[LightGBM] [Warning] No further splits with positive gain, best gain: -inf\n",
            "[LightGBM] [Warning] No further splits with positive gain, best gain: -inf\n",
            "[LightGBM] [Warning] No further splits with positive gain, best gain: -inf\n",
            "[LightGBM] [Warning] No further splits with positive gain, best gain: -inf\n",
            "[LightGBM] [Warning] No further splits with positive gain, best gain: -inf\n",
            "[LightGBM] [Warning] No further splits with positive gain, best gain: -inf\n",
            "[LightGBM] [Warning] No further splits with positive gain, best gain: -inf\n",
            "[LightGBM] [Warning] No further splits with positive gain, best gain: -inf\n",
            "[LightGBM] [Warning] No further splits with positive gain, best gain: -inf\n",
            "[LightGBM] [Warning] No further splits with positive gain, best gain: -inf\n",
            "[LightGBM] [Warning] No further splits with positive gain, best gain: -inf\n",
            "[LightGBM] [Warning] No further splits with positive gain, best gain: -inf\n",
            "[LightGBM] [Warning] No further splits with positive gain, best gain: -inf\n",
            "[LightGBM] [Warning] No further splits with positive gain, best gain: -inf\n",
            "[LightGBM] [Warning] No further splits with positive gain, best gain: -inf\n",
            "[LightGBM] [Warning] No further splits with positive gain, best gain: -inf\n",
            "[LightGBM] [Warning] No further splits with positive gain, best gain: -inf\n",
            "[LightGBM] [Warning] No further splits with positive gain, best gain: -inf\n",
            "[LightGBM] [Warning] No further splits with positive gain, best gain: -inf\n",
            "[LightGBM] [Warning] No further splits with positive gain, best gain: -inf\n",
            "[LightGBM] [Warning] No further splits with positive gain, best gain: -inf\n",
            "[LightGBM] [Warning] No further splits with positive gain, best gain: -inf\n",
            "[LightGBM] [Warning] No further splits with positive gain, best gain: -inf\n",
            "[LightGBM] [Warning] No further splits with positive gain, best gain: -inf\n",
            "[LightGBM] [Warning] No further splits with positive gain, best gain: -inf\n",
            "[LightGBM] [Warning] No further splits with positive gain, best gain: -inf\n",
            "[LightGBM] [Warning] No further splits with positive gain, best gain: -inf\n",
            "[LightGBM] [Warning] No further splits with positive gain, best gain: -inf\n",
            "[LightGBM] [Warning] No further splits with positive gain, best gain: -inf\n",
            "[LightGBM] [Warning] No further splits with positive gain, best gain: -inf\n",
            "[LightGBM] [Warning] No further splits with positive gain, best gain: -inf\n",
            "[LightGBM] [Warning] No further splits with positive gain, best gain: -inf\n",
            "[LightGBM] [Warning] No further splits with positive gain, best gain: -inf\n",
            "[LightGBM] [Warning] No further splits with positive gain, best gain: -inf\n",
            "[LightGBM] [Warning] No further splits with positive gain, best gain: -inf\n",
            "[LightGBM] [Warning] No further splits with positive gain, best gain: -inf\n",
            "[LightGBM] [Warning] No further splits with positive gain, best gain: -inf\n",
            "[LightGBM] [Warning] No further splits with positive gain, best gain: -inf\n",
            "[LightGBM] [Warning] No further splits with positive gain, best gain: -inf\n",
            "[LightGBM] [Warning] No further splits with positive gain, best gain: -inf\n",
            "[LightGBM] [Warning] No further splits with positive gain, best gain: -inf\n",
            "[LightGBM] [Warning] No further splits with positive gain, best gain: -inf\n",
            "[LightGBM] [Warning] No further splits with positive gain, best gain: -inf\n",
            "[LightGBM] [Warning] No further splits with positive gain, best gain: -inf\n",
            "[LightGBM] [Warning] No further splits with positive gain, best gain: -inf\n",
            "[LightGBM] [Warning] No further splits with positive gain, best gain: -inf\n",
            "[LightGBM] [Warning] No further splits with positive gain, best gain: -inf\n",
            "[LightGBM] [Warning] No further splits with positive gain, best gain: -inf\n",
            "[LightGBM] [Warning] No further splits with positive gain, best gain: -inf\n",
            "[LightGBM] [Warning] No further splits with positive gain, best gain: -inf\n",
            "[LightGBM] [Warning] No further splits with positive gain, best gain: -inf\n",
            "[LightGBM] [Warning] No further splits with positive gain, best gain: -inf\n",
            "[LightGBM] [Warning] No further splits with positive gain, best gain: -inf\n",
            "[LightGBM] [Warning] No further splits with positive gain, best gain: -inf\n",
            "[LightGBM] [Warning] No further splits with positive gain, best gain: -inf\n",
            "[LightGBM] [Warning] No further splits with positive gain, best gain: -inf\n",
            "[LightGBM] [Warning] No further splits with positive gain, best gain: -inf\n",
            "[LightGBM] [Warning] No further splits with positive gain, best gain: -inf\n",
            "[LightGBM] [Warning] No further splits with positive gain, best gain: -inf\n",
            "[LightGBM] [Warning] No further splits with positive gain, best gain: -inf\n",
            "[LightGBM] [Warning] No further splits with positive gain, best gain: -inf\n",
            "[LightGBM] [Warning] No further splits with positive gain, best gain: -inf\n",
            "[LightGBM] [Warning] No further splits with positive gain, best gain: -inf\n",
            "[LightGBM] [Warning] No further splits with positive gain, best gain: -inf\n",
            "[LightGBM] [Warning] No further splits with positive gain, best gain: -inf\n",
            "[LightGBM] [Warning] No further splits with positive gain, best gain: -inf\n",
            "[LightGBM] [Warning] No further splits with positive gain, best gain: -inf\n",
            "[LightGBM] [Warning] No further splits with positive gain, best gain: -inf\n",
            "[LightGBM] [Warning] No further splits with positive gain, best gain: -inf\n",
            "[LightGBM] [Warning] No further splits with positive gain, best gain: -inf\n",
            "[LightGBM] [Warning] No further splits with positive gain, best gain: -inf\n",
            "[LightGBM] [Warning] No further splits with positive gain, best gain: -inf\n",
            "[LightGBM] [Warning] No further splits with positive gain, best gain: -inf\n",
            "[LightGBM] [Warning] No further splits with positive gain, best gain: -inf\n",
            "[LightGBM] [Warning] No further splits with positive gain, best gain: -inf\n",
            "[LightGBM] [Warning] No further splits with positive gain, best gain: -inf\n",
            "[LightGBM] [Warning] No further splits with positive gain, best gain: -inf\n",
            "[LightGBM] [Warning] No further splits with positive gain, best gain: -inf\n",
            "[LightGBM] [Warning] No further splits with positive gain, best gain: -inf\n",
            "[LightGBM] [Warning] No further splits with positive gain, best gain: -inf\n",
            "[LightGBM] [Warning] No further splits with positive gain, best gain: -inf\n",
            "[LightGBM] [Warning] No further splits with positive gain, best gain: -inf\n",
            "[LightGBM] [Warning] No further splits with positive gain, best gain: -inf\n",
            "[LightGBM] [Warning] No further splits with positive gain, best gain: -inf\n",
            "[LightGBM] [Warning] No further splits with positive gain, best gain: -inf\n",
            "[LightGBM] [Warning] No further splits with positive gain, best gain: -inf\n",
            "[LightGBM] [Warning] No further splits with positive gain, best gain: -inf\n",
            "[LightGBM] [Warning] No further splits with positive gain, best gain: -inf\n",
            "[LightGBM] [Warning] No further splits with positive gain, best gain: -inf\n",
            "[LightGBM] [Warning] No further splits with positive gain, best gain: -inf\n",
            "[LightGBM] [Warning] No further splits with positive gain, best gain: -inf\n",
            "[LightGBM] [Warning] No further splits with positive gain, best gain: -inf\n",
            "[LightGBM] [Warning] No further splits with positive gain, best gain: -inf\n",
            "[LightGBM] [Warning] No further splits with positive gain, best gain: -inf\n",
            "[LightGBM] [Warning] No further splits with positive gain, best gain: -inf\n",
            "[LightGBM] [Warning] No further splits with positive gain, best gain: -inf\n",
            "[LightGBM] [Warning] No further splits with positive gain, best gain: -inf\n",
            "[LightGBM] [Warning] No further splits with positive gain, best gain: -inf\n",
            "[LightGBM] [Warning] No further splits with positive gain, best gain: -inf\n",
            "[LightGBM] [Warning] No further splits with positive gain, best gain: -inf\n",
            "[LightGBM] [Warning] No further splits with positive gain, best gain: -inf\n",
            "[LightGBM] [Warning] No further splits with positive gain, best gain: -inf\n",
            "[LightGBM] [Warning] No further splits with positive gain, best gain: -inf\n",
            "[LightGBM] [Warning] No further splits with positive gain, best gain: -inf\n",
            "[LightGBM] [Warning] No further splits with positive gain, best gain: -inf\n",
            "[LightGBM] [Warning] No further splits with positive gain, best gain: -inf\n",
            "[LightGBM] [Warning] No further splits with positive gain, best gain: -inf\n",
            "[LightGBM] [Warning] No further splits with positive gain, best gain: -inf\n",
            "[LightGBM] [Warning] No further splits with positive gain, best gain: -inf\n",
            "[LightGBM] [Warning] No further splits with positive gain, best gain: -inf\n",
            "[LightGBM] [Warning] No further splits with positive gain, best gain: -inf\n",
            "[LightGBM] [Warning] No further splits with positive gain, best gain: -inf\n",
            "[LightGBM] [Warning] No further splits with positive gain, best gain: -inf\n",
            "[LightGBM] [Warning] No further splits with positive gain, best gain: -inf\n",
            "[LightGBM] [Warning] No further splits with positive gain, best gain: -inf\n",
            "[LightGBM] [Warning] No further splits with positive gain, best gain: -inf\n",
            "[LightGBM] [Warning] No further splits with positive gain, best gain: -inf\n",
            "[LightGBM] [Warning] No further splits with positive gain, best gain: -inf\n",
            "[LightGBM] [Warning] No further splits with positive gain, best gain: -inf\n",
            "[LightGBM] [Warning] No further splits with positive gain, best gain: -inf\n",
            "[LightGBM] [Warning] No further splits with positive gain, best gain: -inf\n",
            "[LightGBM] [Warning] No further splits with positive gain, best gain: -inf\n",
            "[LightGBM] [Warning] No further splits with positive gain, best gain: -inf\n",
            "[LightGBM] [Warning] No further splits with positive gain, best gain: -inf\n",
            "[LightGBM] [Warning] No further splits with positive gain, best gain: -inf\n",
            "[LightGBM] [Warning] No further splits with positive gain, best gain: -inf\n",
            "[LightGBM] [Warning] No further splits with positive gain, best gain: -inf\n",
            "[LightGBM] [Warning] No further splits with positive gain, best gain: -inf\n",
            "[LightGBM] [Warning] No further splits with positive gain, best gain: -inf\n",
            "[LightGBM] [Warning] No further splits with positive gain, best gain: -inf\n",
            "[LightGBM] [Warning] No further splits with positive gain, best gain: -inf\n",
            "[LightGBM] [Warning] No further splits with positive gain, best gain: -inf\n",
            "[LightGBM] [Warning] No further splits with positive gain, best gain: -inf\n",
            "[LightGBM] [Warning] No further splits with positive gain, best gain: -inf\n",
            "[LightGBM] [Warning] No further splits with positive gain, best gain: -inf\n",
            "[LightGBM] [Warning] No further splits with positive gain, best gain: -inf\n",
            "[LightGBM] [Warning] No further splits with positive gain, best gain: -inf\n",
            "[LightGBM] [Warning] No further splits with positive gain, best gain: -inf\n",
            "[LightGBM] [Warning] No further splits with positive gain, best gain: -inf\n",
            "[LightGBM] [Warning] No further splits with positive gain, best gain: -inf\n",
            "[LightGBM] [Warning] No further splits with positive gain, best gain: -inf\n",
            "[LightGBM] [Warning] No further splits with positive gain, best gain: -inf\n",
            "[LightGBM] [Warning] No further splits with positive gain, best gain: -inf\n",
            "[LightGBM] [Warning] No further splits with positive gain, best gain: -inf\n",
            "[LightGBM] [Warning] No further splits with positive gain, best gain: -inf\n",
            "[LightGBM] [Warning] No further splits with positive gain, best gain: -inf\n",
            "[LightGBM] [Warning] No further splits with positive gain, best gain: -inf\n",
            "[LightGBM] [Warning] No further splits with positive gain, best gain: -inf\n",
            "[LightGBM] [Warning] No further splits with positive gain, best gain: -inf\n",
            "[LightGBM] [Warning] No further splits with positive gain, best gain: -inf\n",
            "[LightGBM] [Warning] No further splits with positive gain, best gain: -inf\n",
            "[LightGBM] [Warning] No further splits with positive gain, best gain: -inf\n",
            "[LightGBM] [Warning] No further splits with positive gain, best gain: -inf\n",
            "[LightGBM] [Warning] No further splits with positive gain, best gain: -inf\n",
            "[LightGBM] [Warning] No further splits with positive gain, best gain: -inf\n",
            "[LightGBM] [Warning] No further splits with positive gain, best gain: -inf\n",
            "[LightGBM] [Warning] No further splits with positive gain, best gain: -inf\n",
            "[LightGBM] [Warning] No further splits with positive gain, best gain: -inf\n",
            "[LightGBM] [Warning] No further splits with positive gain, best gain: -inf\n",
            "[LightGBM] [Warning] No further splits with positive gain, best gain: -inf\n",
            "[LightGBM] [Warning] No further splits with positive gain, best gain: -inf\n",
            "[LightGBM] [Warning] No further splits with positive gain, best gain: -inf\n",
            "[LightGBM] [Warning] No further splits with positive gain, best gain: -inf\n",
            "[LightGBM] [Warning] No further splits with positive gain, best gain: -inf\n",
            "[LightGBM] [Warning] No further splits with positive gain, best gain: -inf\n",
            "[LightGBM] [Warning] No further splits with positive gain, best gain: -inf\n",
            "[LightGBM] [Warning] No further splits with positive gain, best gain: -inf\n",
            "[LightGBM] [Warning] No further splits with positive gain, best gain: -inf\n",
            "[LightGBM] [Warning] No further splits with positive gain, best gain: -inf\n",
            "[LightGBM] [Warning] No further splits with positive gain, best gain: -inf\n",
            "[LightGBM] [Warning] No further splits with positive gain, best gain: -inf\n",
            "[LightGBM] [Warning] No further splits with positive gain, best gain: -inf\n",
            "[LightGBM] [Warning] No further splits with positive gain, best gain: -inf\n",
            "[LightGBM] [Warning] No further splits with positive gain, best gain: -inf\n",
            "[LightGBM] [Warning] No further splits with positive gain, best gain: -inf\n",
            "[LightGBM] [Warning] No further splits with positive gain, best gain: -inf\n",
            "[LightGBM] [Warning] No further splits with positive gain, best gain: -inf\n",
            "[LightGBM] [Warning] No further splits with positive gain, best gain: -inf\n",
            "[LightGBM] [Warning] No further splits with positive gain, best gain: -inf\n",
            "[LightGBM] [Warning] No further splits with positive gain, best gain: -inf\n",
            "[LightGBM] [Warning] No further splits with positive gain, best gain: -inf\n",
            "[LightGBM] [Warning] No further splits with positive gain, best gain: -inf\n",
            "[LightGBM] [Warning] No further splits with positive gain, best gain: -inf\n",
            "[LightGBM] [Warning] No further splits with positive gain, best gain: -inf\n",
            "[LightGBM] [Warning] No further splits with positive gain, best gain: -inf\n",
            "[LightGBM] [Warning] No further splits with positive gain, best gain: -inf\n",
            "[LightGBM] [Warning] No further splits with positive gain, best gain: -inf\n",
            "[LightGBM] [Warning] No further splits with positive gain, best gain: -inf\n",
            "[LightGBM] [Warning] No further splits with positive gain, best gain: -inf\n",
            "[LightGBM] [Warning] No further splits with positive gain, best gain: -inf\n",
            "[LightGBM] [Warning] No further splits with positive gain, best gain: -inf\n",
            "[LightGBM] [Warning] No further splits with positive gain, best gain: -inf\n",
            "[LightGBM] [Warning] No further splits with positive gain, best gain: -inf\n",
            "[LightGBM] [Warning] No further splits with positive gain, best gain: -inf\n",
            "[LightGBM] [Warning] No further splits with positive gain, best gain: -inf\n",
            "[LightGBM] [Warning] No further splits with positive gain, best gain: -inf\n",
            "[LightGBM] [Warning] No further splits with positive gain, best gain: -inf\n",
            "[LightGBM] [Warning] No further splits with positive gain, best gain: -inf\n",
            "[LightGBM] [Warning] No further splits with positive gain, best gain: -inf\n",
            "[LightGBM] [Warning] No further splits with positive gain, best gain: -inf\n",
            "[LightGBM] [Warning] No further splits with positive gain, best gain: -inf\n",
            "Лучший RMSE: 14.833870593836735\n",
            "Лучшие гиперпараметры: {'learning_rate': 0.1, 'max_depth': 6, 'n_estimators': 300}\n",
            "CPU times: total: 12.8 s\n",
            "Wall time: 4min 23s\n"
          ]
        }
      ],
      "source": [
        "%%time\n",
        "# LightGBM\n",
        "\n",
        "params = {\n",
        "    'max_depth' : [4, 6, 8],\n",
        "    'learning_rate' : [0.03, 0.1],\n",
        "    'n_estimators' : [300, 500],\n",
        "}\n",
        "\n",
        "grid_lgb = GridSearchCV(LGBMRegressor(random_state=42), params, scoring='neg_root_mean_squared_error', cv=5, n_jobs=-1)\n",
        "grid_lgb.fit(X, y)\n",
        "\n",
        "print(f'Лучший RMSE: {-grid_lgb.best_score_}')\n",
        "print(f'Лучшие гиперпараметры: {grid_lgb.best_params_}')"
      ]
    },
    {
      "cell_type": "markdown",
      "metadata": {
        "id": "nmtdErcImNgk"
      },
      "source": [
        "**Попробуем нейросетевые методы: TemporalFusionTransformer**"
      ]
    },
    {
      "cell_type": "code",
      "execution_count": null,
      "metadata": {
        "id": "wFbdJBI3mNgk"
      },
      "outputs": [],
      "source": [
        "df_nn = df_prices.drop('Время (CollectedAt)', axis=1).copy()"
      ]
    },
    {
      "cell_type": "code",
      "execution_count": null,
      "metadata": {
        "id": "9F68TMxymNgk"
      },
      "outputs": [],
      "source": [
        "from pytorch_forecasting import TimeSeriesDataSet\n",
        "\n",
        "max_encoder_length = 14\n",
        "max_prediction_length = 4\n",
        "\n",
        "training_cutoff = df_nn['days_from_min'].max() - max_prediction_length\n",
        "\n",
        "training = TimeSeriesDataSet(\n",
        "    df_nn[df_nn['days_from_min'] <= training_cutoff],\n",
        "    time_idx='days_from_min',\n",
        "    target='sales',\n",
        "    group_ids=['Sku (Sku)'],\n",
        "    max_encoder_length=max_encoder_length,\n",
        "    max_prediction_length=max_prediction_length,\n",
        "    time_varying_known_reals=['Цена (BasePrice)', 'Цена со скидкой (DiscountPrice)', 'Цена по карте (OzonCardPrice)', 'Общий остаток (StockTotal)', 'Средний рейтинг (AvgRating)', 'stock_prev', 'lag_sales_1', 'lag_sales_2', 'lag_price_1', 'lag_price_sale_1', 'lag_price_card_1'],\n",
        "    time_varying_unknown_reals=['sales'],\n",
        "    add_relative_time_idx=True,\n",
        "    add_target_scales=True,\n",
        "    add_encoder_length=True,\n",
        "    allow_missing_timesteps=True\n",
        ")"
      ]
    },
    {
      "cell_type": "code",
      "execution_count": null,
      "metadata": {
        "id": "0G1odnFWmNgk"
      },
      "outputs": [],
      "source": [
        "from torch.utils.data import DataLoader\n",
        "\n",
        "train_dataloader = training.to_dataloader(train=True, batch_size=64, num_workers=0)\n",
        "validation = TimeSeriesDataSet.from_dataset(training, df_nn, predict=True, stop_randomization=True)\n",
        "val_dataloader = validation.to_dataloader(train=False, batch_size=64, num_workers=0)"
      ]
    },
    {
      "cell_type": "code",
      "execution_count": null,
      "metadata": {
        "scrolled": true,
        "id": "VGRN8flxmNgl",
        "outputId": "11f59187-d73f-42f1-ccc8-7abe7a12b6c4"
      },
      "outputs": [
        {
          "name": "stderr",
          "output_type": "stream",
          "text": [
            "Seed set to 42\n",
            "Using default `ModelCheckpoint`. Consider installing `litmodels` package to enable `LitModelCheckpoint` for automatic upload to the Lightning model registry.\n",
            "GPU available: False, used: False\n",
            "TPU available: False, using: 0 TPU cores\n",
            "HPU available: False, using: 0 HPUs\n",
            "Exception ignored in: <function _MultiProcessingDataLoaderIter.__del__ at 0x0000027971CB9D00>\n",
            "Traceback (most recent call last):\n",
            "  File \"D:\\jupyter\\Lib\\site-packages\\torch\\utils\\data\\dataloader.py\", line 1663, in __del__\n",
            "    self._shutdown_workers()\n",
            "  File \"D:\\jupyter\\Lib\\site-packages\\torch\\utils\\data\\dataloader.py\", line 1622, in _shutdown_workers\n",
            "    self._mark_worker_as_unavailable(worker_id, shutdown=True)\n",
            "  File \"D:\\jupyter\\Lib\\site-packages\\torch\\utils\\data\\dataloader.py\", line 1558, in _mark_worker_as_unavailable\n",
            "    assert self._workers_status[worker_id] or (\n",
            "AttributeError: '_MultiProcessingDataLoaderIter' object has no attribute '_workers_status'\n"
          ]
        },
        {
          "name": "stdout",
          "output_type": "stream",
          "text": [
            "Epoch 0:   4%|█▋                                    | 60/1335 [02:10<46:20,  0.46it/s, v_num=10, train_loss_step=20.40]\n"
          ]
        },
        {
          "name": "stderr",
          "output_type": "stream",
          "text": [
            "Using default `ModelCheckpoint`. Consider installing `litmodels` package to enable `LitModelCheckpoint` for automatic upload to the Lightning model registry.\n",
            "GPU available: False, used: False\n",
            "TPU available: False, using: 0 TPU cores\n",
            "HPU available: False, using: 0 HPUs\n",
            "\n",
            "   | Name                               | Type                            | Params | Mode \n",
            "------------------------------------------------------------------------------------------------\n",
            "0  | loss                               | RMSE                            | 0      | train\n",
            "1  | logging_metrics                    | ModuleList                      | 0      | train\n",
            "2  | input_embeddings                   | MultiEmbedding                  | 0      | train\n",
            "3  | prescalers                         | ModuleDict                      | 256    | train\n",
            "4  | static_variable_selection          | VariableSelectionNetwork        | 1.1 K  | train\n",
            "5  | encoder_variable_selection         | VariableSelectionNetwork        | 5.4 K  | train\n",
            "6  | decoder_variable_selection         | VariableSelectionNetwork        | 5.0 K  | train\n",
            "7  | static_context_variable_selection  | GatedResidualNetwork            | 304    | train\n",
            "8  | static_context_initial_hidden_lstm | GatedResidualNetwork            | 304    | train\n",
            "9  | static_context_initial_cell_lstm   | GatedResidualNetwork            | 304    | train\n",
            "10 | static_context_enrichment          | GatedResidualNetwork            | 304    | train\n",
            "11 | lstm_encoder                       | LSTM                            | 576    | train\n",
            "12 | lstm_decoder                       | LSTM                            | 576    | train\n",
            "13 | post_lstm_gate_encoder             | GatedLinearUnit                 | 144    | train\n",
            "14 | post_lstm_add_norm_encoder         | AddNorm                         | 16     | train\n",
            "15 | static_enrichment                  | GatedResidualNetwork            | 368    | train\n",
            "16 | multihead_attn                     | InterpretableMultiHeadAttention | 280    | train\n",
            "17 | post_attn_gate_norm                | GateAddNorm                     | 160    | train\n",
            "18 | pos_wise_ff                        | GatedResidualNetwork            | 304    | train\n",
            "19 | pre_output_gate_norm               | GateAddNorm                     | 160    | train\n",
            "20 | output_layer                       | Linear                          | 9      | train\n",
            "------------------------------------------------------------------------------------------------\n",
            "15.2 K    Trainable params\n",
            "0         Non-trainable params\n",
            "15.2 K    Total params\n",
            "0.061     Total estimated model params size (MB)\n",
            "451       Modules in train mode\n",
            "0         Modules in eval mode\n"
          ]
        },
        {
          "name": "stdout",
          "output_type": "stream",
          "text": [
            "Epoch 0: 100%|████████████████████████████████████| 1335/1335 [12:41<00:00,  1.75it/s, v_num=12, train_loss_step=3.300]\n",
            "\u001b[Aidation: |                                                                                    | 0/? [00:00<?, ?it/s]\n",
            "\u001b[Aidation:   0%|                                                                               | 0/85 [00:00<?, ?it/s]\n",
            "\u001b[Aidation DataLoader 0:   0%|                                                                  | 0/85 [00:00<?, ?it/s]\n",
            "\u001b[Aidation DataLoader 0:   1%|▋                                                         | 1/85 [00:04<05:43,  0.24it/s]\n",
            "\u001b[Aidation DataLoader 0:   2%|█▎                                                        | 2/85 [00:04<02:58,  0.46it/s]\n",
            "\u001b[Aidation DataLoader 0:   4%|██                                                        | 3/85 [00:04<02:08,  0.64it/s]\n",
            "\u001b[Aidation DataLoader 0:   5%|██▋                                                       | 4/85 [00:04<01:36,  0.84it/s]\n",
            "\u001b[Aidation DataLoader 0:   6%|███▍                                                      | 5/85 [00:04<01:19,  1.01it/s]\n",
            "\u001b[Aidation DataLoader 0:   7%|████                                                      | 6/85 [00:05<01:06,  1.20it/s]\n",
            "\u001b[Aidation DataLoader 0:   8%|████▊                                                     | 7/85 [00:05<00:56,  1.37it/s]\n",
            "\u001b[Aidation DataLoader 0:   9%|█████▍                                                    | 8/85 [00:05<00:53,  1.43it/s]\n",
            "\u001b[Aidation DataLoader 0:  11%|██████▏                                                   | 9/85 [00:05<00:48,  1.57it/s]\n",
            "\u001b[Aidation DataLoader 0:  12%|██████▋                                                  | 10/85 [00:05<00:43,  1.71it/s]\n",
            "\u001b[Aidation DataLoader 0:  13%|███████▍                                                 | 11/85 [00:05<00:39,  1.85it/s]\n",
            "\u001b[Aidation DataLoader 0:  14%|████████                                                 | 12/85 [00:06<00:36,  1.99it/s]\n",
            "\u001b[Aidation DataLoader 0:  15%|████████▋                                                | 13/85 [00:06<00:33,  2.12it/s]\n",
            "\u001b[Aidation DataLoader 0:  16%|█████████▍                                               | 14/85 [00:06<00:31,  2.26it/s]\n",
            "\u001b[Aidation DataLoader 0:  18%|██████████                                               | 15/85 [00:06<00:29,  2.39it/s]\n",
            "\u001b[Aidation DataLoader 0:  19%|██████████▋                                              | 16/85 [00:06<00:27,  2.52it/s]\n",
            "\u001b[Aidation DataLoader 0:  20%|███████████▍                                             | 17/85 [00:06<00:26,  2.60it/s]\n",
            "\u001b[Aidation DataLoader 0:  21%|████████████                                             | 18/85 [00:06<00:24,  2.72it/s]\n",
            "\u001b[Aidation DataLoader 0:  22%|████████████▋                                            | 19/85 [00:06<00:23,  2.84it/s]\n",
            "\u001b[Aidation DataLoader 0:  24%|█████████████▍                                           | 20/85 [00:06<00:21,  2.96it/s]\n",
            "\u001b[Aidation DataLoader 0:  25%|██████████████                                           | 21/85 [00:06<00:20,  3.07it/s]\n",
            "\u001b[Aidation DataLoader 0:  26%|██████████████▊                                          | 22/85 [00:06<00:19,  3.16it/s]\n",
            "\u001b[Aidation DataLoader 0:  27%|███████████████▍                                         | 23/85 [00:07<00:18,  3.27it/s]\n",
            "\u001b[Aidation DataLoader 0:  28%|████████████████                                         | 24/85 [00:07<00:18,  3.38it/s]\n",
            "\u001b[Aidation DataLoader 0:  29%|████████████████▊                                        | 25/85 [00:07<00:17,  3.43it/s]\n",
            "\u001b[Aidation DataLoader 0:  31%|█████████████████▍                                       | 26/85 [00:07<00:16,  3.51it/s]\n",
            "\u001b[Aidation DataLoader 0:  32%|██████████████████                                       | 27/85 [00:07<00:16,  3.60it/s]\n",
            "\u001b[Aidation DataLoader 0:  33%|██████████████████▊                                      | 28/85 [00:07<00:15,  3.64it/s]\n",
            "\u001b[Aidation DataLoader 0:  34%|███████████████████▍                                     | 29/85 [00:07<00:15,  3.73it/s]\n",
            "\u001b[Aidation DataLoader 0:  35%|████████████████████                                     | 30/85 [00:07<00:14,  3.81it/s]\n",
            "\u001b[Aidation DataLoader 0:  36%|████████████████████▊                                    | 31/85 [00:07<00:13,  3.89it/s]\n",
            "\u001b[Aidation DataLoader 0:  38%|█████████████████████▍                                   | 32/85 [00:08<00:13,  3.98it/s]\n",
            "\u001b[Aidation DataLoader 0:  39%|██████████████████████▏                                  | 33/85 [00:08<00:12,  4.06it/s]\n",
            "\u001b[Aidation DataLoader 0:  40%|██████████████████████▊                                  | 34/85 [00:08<00:12,  4.11it/s]\n",
            "\u001b[Aidation DataLoader 0:  41%|███████████████████████▍                                 | 35/85 [00:08<00:11,  4.19it/s]\n",
            "\u001b[Aidation DataLoader 0:  42%|████████████████████████▏                                | 36/85 [00:08<00:11,  4.24it/s]\n",
            "\u001b[Aidation DataLoader 0:  44%|████████████████████████▊                                | 37/85 [00:08<00:11,  4.32it/s]\n",
            "\u001b[Aidation DataLoader 0:  45%|█████████████████████████▍                               | 38/85 [00:08<00:10,  4.39it/s]\n",
            "\u001b[Aidation DataLoader 0:  46%|██████████████████████████▏                              | 39/85 [00:08<00:10,  4.46it/s]\n",
            "\u001b[Aidation DataLoader 0:  47%|██████████████████████████▊                              | 40/85 [00:08<00:09,  4.53it/s]\n",
            "\u001b[Aidation DataLoader 0:  48%|███████████████████████████▍                             | 41/85 [00:08<00:09,  4.59it/s]\n",
            "\u001b[Aidation DataLoader 0:  49%|████████████████████████████▏                            | 42/85 [00:09<00:09,  4.65it/s]\n",
            "\u001b[Aidation DataLoader 0:  51%|████████████████████████████▊                            | 43/85 [00:09<00:08,  4.72it/s]\n",
            "\u001b[Aidation DataLoader 0:  52%|█████████████████████████████▌                           | 44/85 [00:09<00:08,  4.78it/s]\n",
            "\u001b[Aidation DataLoader 0:  53%|██████████████████████████████▏                          | 45/85 [00:09<00:08,  4.85it/s]\n",
            "\u001b[Aidation DataLoader 0:  54%|██████████████████████████████▊                          | 46/85 [00:09<00:07,  4.91it/s]\n",
            "\u001b[Aidation DataLoader 0:  55%|███████████████████████████████▌                         | 47/85 [00:09<00:07,  4.98it/s]\n",
            "\u001b[Aidation DataLoader 0:  56%|████████████████████████████████▏                        | 48/85 [00:09<00:07,  5.03it/s]\n",
            "\u001b[Aidation DataLoader 0:  58%|████████████████████████████████▊                        | 49/85 [00:09<00:07,  5.09it/s]\n",
            "\u001b[Aidation DataLoader 0:  59%|█████████████████████████████████▌                       | 50/85 [00:09<00:06,  5.15it/s]\n",
            "\u001b[Aidation DataLoader 0:  60%|██████████████████████████████████▏                      | 51/85 [00:09<00:06,  5.21it/s]\n",
            "\u001b[Aidation DataLoader 0:  61%|██████████████████████████████████▊                      | 52/85 [00:09<00:06,  5.26it/s]\n",
            "\u001b[Aidation DataLoader 0:  62%|███████████████████████████████████▌                     | 53/85 [00:09<00:06,  5.31it/s]\n",
            "\u001b[Aidation DataLoader 0:  64%|████████████████████████████████████▏                    | 54/85 [00:10<00:05,  5.37it/s]\n",
            "\u001b[Aidation DataLoader 0:  65%|████████████████████████████████████▉                    | 55/85 [00:10<00:05,  5.43it/s]\n",
            "\u001b[Aidation DataLoader 0:  66%|█████████████████████████████████████▌                   | 56/85 [00:10<00:05,  5.48it/s]\n",
            "\u001b[Aidation DataLoader 0:  67%|██████████████████████████████████████▏                  | 57/85 [00:10<00:05,  5.47it/s]\n",
            "\u001b[Aidation DataLoader 0:  68%|██████████████████████████████████████▉                  | 58/85 [00:10<00:04,  5.49it/s]\n",
            "\u001b[Aidation DataLoader 0:  69%|███████████████████████████████████████▌                 | 59/85 [00:10<00:04,  5.53it/s]\n",
            "\u001b[Aidation DataLoader 0:  71%|████████████████████████████████████████▏                | 60/85 [00:10<00:04,  5.54it/s]\n",
            "\u001b[Aidation DataLoader 0:  72%|████████████████████████████████████████▉                | 61/85 [00:10<00:04,  5.59it/s]\n",
            "\u001b[Aidation DataLoader 0:  73%|█████████████████████████████████████████▌               | 62/85 [00:11<00:04,  5.63it/s]\n",
            "\u001b[Aidation DataLoader 0:  74%|██████████████████████████████████████████▏              | 63/85 [00:11<00:03,  5.68it/s]\n",
            "\u001b[Aidation DataLoader 0:  75%|██████████████████████████████████████████▉              | 64/85 [00:11<00:03,  5.74it/s]\n",
            "\u001b[Aidation DataLoader 0:  76%|███████████████████████████████████████████▌             | 65/85 [00:11<00:03,  5.79it/s]\n",
            "\u001b[Aidation DataLoader 0:  78%|████████████████████████████████████████████▎            | 66/85 [00:11<00:03,  5.83it/s]\n",
            "\u001b[Aidation DataLoader 0:  79%|████████████████████████████████████████████▉            | 67/85 [00:11<00:03,  5.88it/s]\n",
            "\u001b[Aidation DataLoader 0:  80%|█████████████████████████████████████████████▌           | 68/85 [00:11<00:02,  5.93it/s]\n",
            "\u001b[Aidation DataLoader 0:  81%|██████████████████████████████████████████████▎          | 69/85 [00:11<00:02,  5.97it/s]\n",
            "\u001b[Aidation DataLoader 0:  82%|██████████████████████████████████████████████▉          | 70/85 [00:11<00:02,  6.02it/s]\n",
            "\u001b[Aidation DataLoader 0:  84%|███████████████████████████████████████████████▌         | 71/85 [00:11<00:02,  6.03it/s]\n",
            "\u001b[Aidation DataLoader 0:  85%|████████████████████████████████████████████████▎        | 72/85 [00:11<00:02,  6.07it/s]\n",
            "\u001b[Aidation DataLoader 0:  86%|████████████████████████████████████████████████▉        | 73/85 [00:11<00:01,  6.10it/s]\n",
            "\u001b[Aidation DataLoader 0:  87%|█████████████████████████████████████████████████▌       | 74/85 [00:12<00:01,  6.11it/s]\n",
            "\u001b[Aidation DataLoader 0:  88%|██████████████████████████████████████████████████▎      | 75/85 [00:12<00:01,  6.15it/s]\n",
            "\u001b[Aidation DataLoader 0:  89%|██████████████████████████████████████████████████▉      | 76/85 [00:12<00:01,  6.12it/s]\n",
            "\u001b[Aidation DataLoader 0:  91%|███████████████████████████████████████████████████▋     | 77/85 [00:12<00:01,  6.15it/s]\n",
            "\u001b[Aidation DataLoader 0:  92%|████████████████████████████████████████████████████▎    | 78/85 [00:12<00:01,  6.19it/s]\n",
            "\u001b[Aidation DataLoader 0:  93%|████████████████████████████████████████████████████▉    | 79/85 [00:12<00:00,  6.23it/s]\n",
            "\u001b[Aidation DataLoader 0:  94%|█████████████████████████████████████████████████████▋   | 80/85 [00:12<00:00,  6.22it/s]\n",
            "\u001b[Aidation DataLoader 0:  95%|██████████████████████████████████████████████████████▎  | 81/85 [00:12<00:00,  6.25it/s]\n",
            "\u001b[Aidation DataLoader 0:  96%|██████████████████████████████████████████████████████▉  | 82/85 [00:13<00:00,  6.28it/s]\n",
            "\u001b[Aidation DataLoader 0:  98%|███████████████████████████████████████████████████████▋ | 83/85 [00:13<00:00,  6.30it/s]\n",
            "\u001b[Aidation DataLoader 0:  99%|████████████████████████████████████████████████████████▎| 84/85 [00:13<00:00,  6.33it/s]\n",
            "\u001b[Aidation DataLoader 0: 100%|█████████████████████████████████████████████████████████| 85/85 [00:13<00:00,  6.37it/s]\n",
            "Epoch 1: 100%|█| 1335/1335 [13:02<00:00,  1.71it/s, v_num=12, train_loss_step=1.720, val_loss=2.690, train_loss_epoch=1\n",
            "\u001b[Aidation: |                                                                                    | 0/? [00:00<?, ?it/s]\n",
            "\u001b[Aidation:   0%|                                                                               | 0/85 [00:00<?, ?it/s]\n",
            "\u001b[Aidation DataLoader 0:   0%|                                                                  | 0/85 [00:00<?, ?it/s]\n",
            "\u001b[Aidation DataLoader 0:   1%|▋                                                         | 1/85 [00:00<00:31,  2.63it/s]\n",
            "\u001b[Aidation DataLoader 0:   2%|█▎                                                        | 2/85 [00:00<00:25,  3.32it/s]\n",
            "\u001b[Aidation DataLoader 0:   4%|██                                                        | 3/85 [00:00<00:19,  4.27it/s]\n",
            "\u001b[Aidation DataLoader 0:   5%|██▋                                                       | 4/85 [00:00<00:15,  5.17it/s]\n",
            "\u001b[Aidation DataLoader 0:   6%|███▍                                                      | 5/85 [00:00<00:15,  5.24it/s]\n",
            "\u001b[Aidation DataLoader 0:   7%|████                                                      | 6/85 [00:01<00:13,  5.83it/s]\n",
            "\u001b[Aidation DataLoader 0:   8%|████▊                                                     | 7/85 [00:01<00:12,  6.27it/s]\n",
            "\u001b[Aidation DataLoader 0:   9%|█████▍                                                    | 8/85 [00:01<00:12,  6.39it/s]\n",
            "\u001b[Aidation DataLoader 0:  11%|██████▏                                                   | 9/85 [00:01<00:11,  6.34it/s]\n",
            "\u001b[Aidation DataLoader 0:  12%|██████▋                                                  | 10/85 [00:01<00:11,  6.67it/s]\n",
            "\u001b[Aidation DataLoader 0:  13%|███████▍                                                 | 11/85 [00:01<00:10,  6.98it/s]\n",
            "\u001b[Aidation DataLoader 0:  14%|████████                                                 | 12/85 [00:01<00:10,  7.26it/s]\n",
            "\u001b[Aidation DataLoader 0:  15%|████████▋                                                | 13/85 [00:01<00:09,  7.47it/s]\n",
            "\u001b[Aidation DataLoader 0:  16%|█████████▍                                               | 14/85 [00:01<00:09,  7.52it/s]\n",
            "\u001b[Aidation DataLoader 0:  18%|██████████                                               | 15/85 [00:01<00:09,  7.70it/s]\n",
            "\u001b[Aidation DataLoader 0:  19%|██████████▋                                              | 16/85 [00:02<00:08,  7.91it/s]\n",
            "\u001b[Aidation DataLoader 0:  20%|███████████▍                                             | 17/85 [00:02<00:08,  8.10it/s]\n",
            "\u001b[Aidation DataLoader 0:  21%|████████████                                             | 18/85 [00:02<00:08,  8.30it/s]\n",
            "\u001b[Aidation DataLoader 0:  22%|████████████▋                                            | 19/85 [00:02<00:08,  7.70it/s]\n",
            "\u001b[Aidation DataLoader 0:  24%|█████████████▍                                           | 20/85 [00:02<00:08,  7.84it/s]\n",
            "\u001b[Aidation DataLoader 0:  25%|██████████████                                           | 21/85 [00:02<00:08,  7.95it/s]\n",
            "\u001b[Aidation DataLoader 0:  26%|██████████████▊                                          | 22/85 [00:02<00:07,  8.06it/s]\n",
            "\u001b[Aidation DataLoader 0:  27%|███████████████▍                                         | 23/85 [00:02<00:07,  8.15it/s]\n",
            "\u001b[Aidation DataLoader 0:  28%|████████████████                                         | 24/85 [00:02<00:07,  8.17it/s]\n",
            "\u001b[Aidation DataLoader 0:  29%|████████████████▊                                        | 25/85 [00:03<00:07,  8.20it/s]\n",
            "\u001b[Aidation DataLoader 0:  31%|█████████████████▍                                       | 26/85 [00:03<00:07,  8.26it/s]\n",
            "\u001b[Aidation DataLoader 0:  32%|██████████████████                                       | 27/85 [00:03<00:06,  8.32it/s]\n",
            "\u001b[Aidation DataLoader 0:  33%|██████████████████▊                                      | 28/85 [00:03<00:06,  8.26it/s]\n",
            "\u001b[Aidation DataLoader 0:  34%|███████████████████▍                                     | 29/85 [00:03<00:06,  8.32it/s]\n",
            "\u001b[Aidation DataLoader 0:  35%|████████████████████                                     | 30/85 [00:03<00:06,  8.41it/s]\n",
            "\u001b[Aidation DataLoader 0:  36%|████████████████████▊                                    | 31/85 [00:03<00:06,  7.80it/s]\n",
            "\u001b[Aidation DataLoader 0:  38%|█████████████████████▍                                   | 32/85 [00:04<00:06,  7.87it/s]\n",
            "\u001b[Aidation DataLoader 0:  39%|██████████████████████▏                                  | 33/85 [00:04<00:06,  7.95it/s]\n",
            "\u001b[Aidation DataLoader 0:  40%|██████████████████████▊                                  | 34/85 [00:04<00:06,  8.04it/s]\n",
            "\u001b[Aidation DataLoader 0:  41%|███████████████████████▍                                 | 35/85 [00:04<00:06,  7.88it/s]\n",
            "\u001b[Aidation DataLoader 0:  42%|████████████████████████▏                                | 36/85 [00:04<00:06,  7.97it/s]\n",
            "\u001b[Aidation DataLoader 0:  44%|████████████████████████▊                                | 37/85 [00:04<00:05,  8.05it/s]\n",
            "\u001b[Aidation DataLoader 0:  45%|█████████████████████████▍                               | 38/85 [00:04<00:05,  7.88it/s]\n",
            "\u001b[Aidation DataLoader 0:  46%|██████████████████████████▏                              | 39/85 [00:04<00:05,  7.96it/s]\n",
            "\u001b[Aidation DataLoader 0:  47%|██████████████████████████▊                              | 40/85 [00:04<00:05,  8.04it/s]\n",
            "\u001b[Aidation DataLoader 0:  48%|███████████████████████████▍                             | 41/85 [00:05<00:05,  8.12it/s]\n",
            "\u001b[Aidation DataLoader 0:  49%|████████████████████████████▏                            | 42/85 [00:05<00:05,  8.16it/s]\n",
            "\u001b[Aidation DataLoader 0:  51%|████████████████████████████▊                            | 43/85 [00:05<00:05,  8.13it/s]\n",
            "\u001b[Aidation DataLoader 0:  52%|█████████████████████████████▌                           | 44/85 [00:05<00:05,  8.18it/s]\n",
            "\u001b[Aidation DataLoader 0:  53%|██████████████████████████████▏                          | 45/85 [00:05<00:04,  8.23it/s]\n",
            "\u001b[Aidation DataLoader 0:  54%|██████████████████████████████▊                          | 46/85 [00:05<00:04,  8.29it/s]\n",
            "\u001b[Aidation DataLoader 0:  55%|███████████████████████████████▌                         | 47/85 [00:05<00:04,  8.35it/s]\n",
            "\u001b[Aidation DataLoader 0:  56%|████████████████████████████████▏                        | 48/85 [00:05<00:04,  8.39it/s]\n",
            "\u001b[Aidation DataLoader 0:  58%|████████████████████████████████▊                        | 49/85 [00:06<00:04,  8.02it/s]\n",
            "\u001b[Aidation DataLoader 0:  59%|█████████████████████████████████▌                       | 50/85 [00:06<00:04,  8.06it/s]\n",
            "\u001b[Aidation DataLoader 0:  60%|██████████████████████████████████▏                      | 51/85 [00:06<00:04,  8.09it/s]\n",
            "\u001b[Aidation DataLoader 0:  61%|██████████████████████████████████▊                      | 52/85 [00:06<00:04,  8.14it/s]\n",
            "\u001b[Aidation DataLoader 0:  62%|███████████████████████████████████▌                     | 53/85 [00:06<00:03,  8.17it/s]\n",
            "\u001b[Aidation DataLoader 0:  64%|████████████████████████████████████▏                    | 54/85 [00:06<00:03,  8.19it/s]\n",
            "\u001b[Aidation DataLoader 0:  65%|████████████████████████████████████▉                    | 55/85 [00:06<00:03,  8.25it/s]\n",
            "\u001b[Aidation DataLoader 0:  66%|█████████████████████████████████████▌                   | 56/85 [00:06<00:03,  8.28it/s]\n",
            "\u001b[Aidation DataLoader 0:  67%|██████████████████████████████████████▏                  | 57/85 [00:06<00:03,  8.32it/s]\n",
            "\u001b[Aidation DataLoader 0:  68%|██████████████████████████████████████▉                  | 58/85 [00:06<00:03,  8.34it/s]\n",
            "\u001b[Aidation DataLoader 0:  69%|███████████████████████████████████████▌                 | 59/85 [00:07<00:03,  8.35it/s]\n",
            "\u001b[Aidation DataLoader 0:  71%|████████████████████████████████████████▏                | 60/85 [00:07<00:03,  8.32it/s]\n",
            "\u001b[Aidation DataLoader 0:  72%|████████████████████████████████████████▉                | 61/85 [00:07<00:02,  8.37it/s]\n",
            "\u001b[Aidation DataLoader 0:  73%|█████████████████████████████████████████▌               | 62/85 [00:07<00:02,  8.37it/s]\n",
            "\u001b[Aidation DataLoader 0:  74%|██████████████████████████████████████████▏              | 63/85 [00:07<00:02,  8.42it/s]\n",
            "\u001b[Aidation DataLoader 0:  75%|██████████████████████████████████████████▉              | 64/85 [00:07<00:02,  8.47it/s]\n",
            "\u001b[Aidation DataLoader 0:  76%|███████████████████████████████████████████▌             | 65/85 [00:07<00:02,  8.51it/s]\n",
            "\u001b[Aidation DataLoader 0:  78%|████████████████████████████████████████████▎            | 66/85 [00:07<00:02,  8.56it/s]\n",
            "\u001b[Aidation DataLoader 0:  79%|████████████████████████████████████████████▉            | 67/85 [00:07<00:02,  8.61it/s]\n",
            "\u001b[Aidation DataLoader 0:  80%|█████████████████████████████████████████████▌           | 68/85 [00:07<00:01,  8.65it/s]\n",
            "\u001b[Aidation DataLoader 0:  81%|██████████████████████████████████████████████▎          | 69/85 [00:07<00:01,  8.68it/s]\n",
            "\u001b[Aidation DataLoader 0:  82%|██████████████████████████████████████████████▉          | 70/85 [00:08<00:01,  8.67it/s]\n",
            "\u001b[Aidation DataLoader 0:  84%|███████████████████████████████████████████████▌         | 71/85 [00:08<00:01,  8.67it/s]\n",
            "\u001b[Aidation DataLoader 0:  85%|████████████████████████████████████████████████▎        | 72/85 [00:08<00:01,  8.62it/s]\n",
            "\u001b[Aidation DataLoader 0:  86%|████████████████████████████████████████████████▉        | 73/85 [00:08<00:01,  8.66it/s]\n",
            "\u001b[Aidation DataLoader 0:  87%|█████████████████████████████████████████████████▌       | 74/85 [00:08<00:01,  8.68it/s]\n",
            "\u001b[Aidation DataLoader 0:  88%|██████████████████████████████████████████████████▎      | 75/85 [00:08<00:01,  8.73it/s]\n",
            "\u001b[Aidation DataLoader 0:  89%|██████████████████████████████████████████████████▉      | 76/85 [00:08<00:01,  8.76it/s]\n",
            "\u001b[Aidation DataLoader 0:  91%|███████████████████████████████████████████████████▋     | 77/85 [00:08<00:00,  8.80it/s]\n",
            "\u001b[Aidation DataLoader 0:  92%|████████████████████████████████████████████████████▎    | 78/85 [00:08<00:00,  8.84it/s]\n",
            "\u001b[Aidation DataLoader 0:  93%|████████████████████████████████████████████████████▉    | 79/85 [00:08<00:00,  8.87it/s]\n",
            "\u001b[Aidation DataLoader 0:  94%|█████████████████████████████████████████████████████▋   | 80/85 [00:09<00:00,  8.89it/s]\n",
            "\u001b[Aidation DataLoader 0:  95%|██████████████████████████████████████████████████████▎  | 81/85 [00:09<00:00,  8.92it/s]\n",
            "\u001b[Aidation DataLoader 0:  96%|██████████████████████████████████████████████████████▉  | 82/85 [00:09<00:00,  8.94it/s]\n",
            "\u001b[Aidation DataLoader 0:  98%|███████████████████████████████████████████████████████▋ | 83/85 [00:09<00:00,  8.94it/s]\n",
            "\u001b[Aidation DataLoader 0:  99%|████████████████████████████████████████████████████████▎| 84/85 [00:09<00:00,  8.97it/s]\n",
            "\u001b[Aidation DataLoader 0: 100%|█████████████████████████████████████████████████████████| 85/85 [00:09<00:00,  9.03it/s]\n",
            "Epoch 2: 100%|█| 1335/1335 [13:00<00:00,  1.71it/s, v_num=12, train_loss_step=2.280, val_loss=1.890, train_loss_epoch=7\n",
            "\u001b[Aidation: |                                                                                    | 0/? [00:00<?, ?it/s]\n",
            "\u001b[Aidation:   0%|                                                                               | 0/85 [00:00<?, ?it/s]\n",
            "\u001b[Aidation DataLoader 0:   0%|                                                                  | 0/85 [00:00<?, ?it/s]\n",
            "\u001b[Aidation DataLoader 0:   1%|▋                                                         | 1/85 [00:00<00:53,  1.56it/s]\n",
            "\u001b[Aidation DataLoader 0:   2%|█▎                                                        | 2/85 [00:00<00:32,  2.58it/s]\n",
            "\u001b[Aidation DataLoader 0:   4%|██                                                        | 3/85 [00:00<00:23,  3.43it/s]\n",
            "\u001b[Aidation DataLoader 0:   5%|██▋                                                       | 4/85 [00:00<00:19,  4.14it/s]\n",
            "\u001b[Aidation DataLoader 0:   6%|███▍                                                      | 5/85 [00:01<00:22,  3.49it/s]\n",
            "\u001b[Aidation DataLoader 0:   7%|████                                                      | 6/85 [00:01<00:19,  3.97it/s]\n",
            "\u001b[Aidation DataLoader 0:   8%|████▊                                                     | 7/85 [00:01<00:21,  3.61it/s]\n",
            "\u001b[Aidation DataLoader 0:   9%|█████▍                                                    | 8/85 [00:02<00:19,  3.89it/s]\n",
            "\u001b[Aidation DataLoader 0:  11%|██████▏                                                   | 9/85 [00:02<00:19,  3.87it/s]\n",
            "\u001b[Aidation DataLoader 0:  12%|██████▋                                                  | 10/85 [00:02<00:18,  4.15it/s]\n",
            "\u001b[Aidation DataLoader 0:  13%|███████▍                                                 | 11/85 [00:02<00:16,  4.37it/s]\n",
            "\u001b[Aidation DataLoader 0:  14%|████████                                                 | 12/85 [00:02<00:15,  4.62it/s]\n",
            "\u001b[Aidation DataLoader 0:  15%|████████▋                                                | 13/85 [00:02<00:14,  4.83it/s]\n",
            "\u001b[Aidation DataLoader 0:  16%|█████████▍                                               | 14/85 [00:02<00:14,  5.03it/s]\n",
            "\u001b[Aidation DataLoader 0:  18%|██████████                                               | 15/85 [00:02<00:13,  5.04it/s]\n",
            "\u001b[Aidation DataLoader 0:  19%|██████████▋                                              | 16/85 [00:03<00:13,  5.24it/s]\n",
            "\u001b[Aidation DataLoader 0:  20%|███████████▍                                             | 17/85 [00:03<00:13,  5.18it/s]\n",
            "\u001b[Aidation DataLoader 0:  21%|████████████                                             | 18/85 [00:03<00:12,  5.36it/s]\n",
            "\u001b[Aidation DataLoader 0:  22%|████████████▋                                            | 19/85 [00:03<00:12,  5.43it/s]\n",
            "\u001b[Aidation DataLoader 0:  24%|█████████████▍                                           | 20/85 [00:03<00:11,  5.59it/s]\n",
            "\u001b[Aidation DataLoader 0:  25%|██████████████                                           | 21/85 [00:03<00:11,  5.52it/s]\n",
            "\u001b[Aidation DataLoader 0:  26%|██████████████▊                                          | 22/85 [00:03<00:11,  5.66it/s]\n",
            "\u001b[Aidation DataLoader 0:  27%|███████████████▍                                         | 23/85 [00:03<00:10,  5.79it/s]\n",
            "\u001b[Aidation DataLoader 0:  28%|████████████████                                         | 24/85 [00:04<00:10,  5.75it/s]\n",
            "\u001b[Aidation DataLoader 0:  29%|████████████████▊                                        | 25/85 [00:04<00:10,  5.83it/s]\n",
            "\u001b[Aidation DataLoader 0:  31%|█████████████████▍                                       | 26/85 [00:04<00:10,  5.84it/s]\n",
            "\u001b[Aidation DataLoader 0:  32%|██████████████████                                       | 27/85 [00:04<00:09,  5.92it/s]\n",
            "\u001b[Aidation DataLoader 0:  33%|██████████████████▊                                      | 28/85 [00:04<00:09,  5.81it/s]\n",
            "\u001b[Aidation DataLoader 0:  34%|███████████████████▍                                     | 29/85 [00:04<00:09,  5.86it/s]\n",
            "\u001b[Aidation DataLoader 0:  35%|████████████████████                                     | 30/85 [00:05<00:09,  5.96it/s]\n",
            "\u001b[Aidation DataLoader 0:  36%|████████████████████▊                                    | 31/85 [00:05<00:09,  5.98it/s]\n",
            "\u001b[Aidation DataLoader 0:  38%|█████████████████████▍                                   | 32/85 [00:05<00:08,  6.07it/s]\n",
            "\u001b[Aidation DataLoader 0:  39%|██████████████████████▏                                  | 33/85 [00:05<00:08,  6.16it/s]\n",
            "\u001b[Aidation DataLoader 0:  40%|██████████████████████▊                                  | 34/85 [00:05<00:08,  6.18it/s]\n",
            "\u001b[Aidation DataLoader 0:  41%|███████████████████████▍                                 | 35/85 [00:05<00:07,  6.26it/s]\n",
            "\u001b[Aidation DataLoader 0:  42%|████████████████████████▏                                | 36/85 [00:05<00:07,  6.36it/s]\n",
            "\u001b[Aidation DataLoader 0:  44%|████████████████████████▊                                | 37/85 [00:05<00:07,  6.43it/s]\n",
            "\u001b[Aidation DataLoader 0:  45%|█████████████████████████▍                               | 38/85 [00:05<00:07,  6.47it/s]\n",
            "\u001b[Aidation DataLoader 0:  46%|██████████████████████████▏                              | 39/85 [00:05<00:07,  6.54it/s]\n",
            "\u001b[Aidation DataLoader 0:  47%|██████████████████████████▊                              | 40/85 [00:06<00:06,  6.57it/s]\n",
            "\u001b[Aidation DataLoader 0:  48%|███████████████████████████▍                             | 41/85 [00:06<00:06,  6.62it/s]\n",
            "\u001b[Aidation DataLoader 0:  49%|████████████████████████████▏                            | 42/85 [00:06<00:06,  6.67it/s]\n",
            "\u001b[Aidation DataLoader 0:  51%|████████████████████████████▊                            | 43/85 [00:06<00:06,  6.41it/s]\n",
            "\u001b[Aidation DataLoader 0:  52%|█████████████████████████████▌                           | 44/85 [00:06<00:06,  6.47it/s]\n",
            "\u001b[Aidation DataLoader 0:  53%|██████████████████████████████▏                          | 45/85 [00:06<00:06,  6.50it/s]\n",
            "\u001b[Aidation DataLoader 0:  54%|██████████████████████████████▊                          | 46/85 [00:07<00:06,  6.44it/s]\n",
            "\u001b[Aidation DataLoader 0:  55%|███████████████████████████████▌                         | 47/85 [00:07<00:05,  6.51it/s]\n",
            "\u001b[Aidation DataLoader 0:  56%|████████████████████████████████▏                        | 48/85 [00:07<00:05,  6.41it/s]\n",
            "\u001b[Aidation DataLoader 0:  58%|████████████████████████████████▊                        | 49/85 [00:07<00:05,  6.24it/s]\n",
            "\u001b[Aidation DataLoader 0:  59%|█████████████████████████████████▌                       | 50/85 [00:07<00:05,  6.31it/s]\n",
            "\u001b[Aidation DataLoader 0:  60%|██████████████████████████████████▏                      | 51/85 [00:08<00:05,  6.36it/s]\n",
            "\u001b[Aidation DataLoader 0:  61%|██████████████████████████████████▊                      | 52/85 [00:08<00:05,  6.42it/s]\n",
            "\u001b[Aidation DataLoader 0:  62%|███████████████████████████████████▌                     | 53/85 [00:08<00:04,  6.48it/s]\n",
            "\u001b[Aidation DataLoader 0:  64%|████████████████████████████████████▏                    | 54/85 [00:08<00:04,  6.53it/s]\n",
            "\u001b[Aidation DataLoader 0:  65%|████████████████████████████████████▉                    | 55/85 [00:08<00:04,  6.59it/s]\n",
            "\u001b[Aidation DataLoader 0:  66%|█████████████████████████████████████▌                   | 56/85 [00:08<00:04,  6.62it/s]\n",
            "\u001b[Aidation DataLoader 0:  67%|██████████████████████████████████████▏                  | 57/85 [00:08<00:04,  6.58it/s]\n",
            "\u001b[Aidation DataLoader 0:  68%|██████████████████████████████████████▉                  | 58/85 [00:08<00:04,  6.63it/s]\n",
            "\u001b[Aidation DataLoader 0:  69%|███████████████████████████████████████▌                 | 59/85 [00:08<00:03,  6.62it/s]\n",
            "\u001b[Aidation DataLoader 0:  71%|████████████████████████████████████████▏                | 60/85 [00:08<00:03,  6.68it/s]\n",
            "\u001b[Aidation DataLoader 0:  72%|████████████████████████████████████████▉                | 61/85 [00:09<00:03,  6.73it/s]\n",
            "\u001b[Aidation DataLoader 0:  73%|█████████████████████████████████████████▌               | 62/85 [00:09<00:03,  6.72it/s]\n",
            "\u001b[Aidation DataLoader 0:  74%|██████████████████████████████████████████▏              | 63/85 [00:09<00:03,  6.77it/s]\n",
            "\u001b[Aidation DataLoader 0:  75%|██████████████████████████████████████████▉              | 64/85 [00:09<00:03,  6.64it/s]\n",
            "\u001b[Aidation DataLoader 0:  76%|███████████████████████████████████████████▌             | 65/85 [00:09<00:02,  6.69it/s]\n",
            "\u001b[Aidation DataLoader 0:  78%|████████████████████████████████████████████▎            | 66/85 [00:09<00:02,  6.71it/s]\n",
            "\u001b[Aidation DataLoader 0:  79%|████████████████████████████████████████████▉            | 67/85 [00:09<00:02,  6.75it/s]\n",
            "\u001b[Aidation DataLoader 0:  80%|█████████████████████████████████████████████▌           | 68/85 [00:10<00:02,  6.80it/s]\n",
            "\u001b[Aidation DataLoader 0:  81%|██████████████████████████████████████████████▎          | 69/85 [00:10<00:02,  6.77it/s]\n",
            "\u001b[Aidation DataLoader 0:  82%|██████████████████████████████████████████████▉          | 70/85 [00:10<00:02,  6.82it/s]\n",
            "\u001b[Aidation DataLoader 0:  84%|███████████████████████████████████████████████▌         | 71/85 [00:10<00:02,  6.85it/s]\n",
            "\u001b[Aidation DataLoader 0:  85%|████████████████████████████████████████████████▎        | 72/85 [00:10<00:01,  6.86it/s]\n",
            "\u001b[Aidation DataLoader 0:  86%|████████████████████████████████████████████████▉        | 73/85 [00:10<00:01,  6.90it/s]\n",
            "\u001b[Aidation DataLoader 0:  87%|█████████████████████████████████████████████████▌       | 74/85 [00:10<00:01,  6.94it/s]\n",
            "\u001b[Aidation DataLoader 0:  88%|██████████████████████████████████████████████████▎      | 75/85 [00:10<00:01,  6.98it/s]\n",
            "\u001b[Aidation DataLoader 0:  89%|██████████████████████████████████████████████████▉      | 76/85 [00:10<00:01,  7.00it/s]\n",
            "\u001b[Aidation DataLoader 0:  91%|███████████████████████████████████████████████████▋     | 77/85 [00:10<00:01,  7.04it/s]\n",
            "\u001b[Aidation DataLoader 0:  92%|████████████████████████████████████████████████████▎    | 78/85 [00:11<00:00,  7.08it/s]\n",
            "\u001b[Aidation DataLoader 0:  93%|████████████████████████████████████████████████████▉    | 79/85 [00:11<00:00,  7.13it/s]\n",
            "\u001b[Aidation DataLoader 0:  94%|█████████████████████████████████████████████████████▋   | 80/85 [00:11<00:00,  7.14it/s]\n",
            "\u001b[Aidation DataLoader 0:  95%|██████████████████████████████████████████████████████▎  | 81/85 [00:11<00:00,  7.18it/s]\n",
            "\u001b[Aidation DataLoader 0:  96%|██████████████████████████████████████████████████████▉  | 82/85 [00:11<00:00,  7.18it/s]\n",
            "\u001b[Aidation DataLoader 0:  98%|███████████████████████████████████████████████████████▋ | 83/85 [00:11<00:00,  7.16it/s]\n",
            "\u001b[Aidation DataLoader 0:  99%|████████████████████████████████████████████████████████▎| 84/85 [00:11<00:00,  7.20it/s]\n",
            "\u001b[Aidation DataLoader 0: 100%|█████████████████████████████████████████████████████████| 85/85 [00:11<00:00,  7.20it/s]\n",
            "Epoch 3: 100%|█| 1335/1335 [14:53<00:00,  1.49it/s, v_num=12, train_loss_step=0.750, val_loss=1.680, train_loss_epoch=7\n",
            "\u001b[Aidation: |                                                                                    | 0/? [00:00<?, ?it/s]\n",
            "\u001b[Aidation:   0%|                                                                               | 0/85 [00:00<?, ?it/s]\n",
            "\u001b[Aidation DataLoader 0:   0%|                                                                  | 0/85 [00:00<?, ?it/s]\n",
            "\u001b[Aidation DataLoader 0:   1%|▋                                                         | 1/85 [00:04<06:35,  0.21it/s]\n",
            "\u001b[Aidation DataLoader 0:   2%|█▎                                                        | 2/85 [00:05<03:56,  0.35it/s]\n",
            "\u001b[Aidation DataLoader 0:   4%|██                                                        | 3/85 [00:07<03:14,  0.42it/s]\n",
            "\u001b[Aidation DataLoader 0:   5%|██▋                                                       | 4/85 [00:07<02:25,  0.56it/s]\n",
            "\u001b[Aidation DataLoader 0:   6%|███▍                                                      | 5/85 [00:09<02:26,  0.55it/s]\n",
            "\u001b[Aidation DataLoader 0:   7%|████                                                      | 6/85 [00:09<02:01,  0.65it/s]\n",
            "\u001b[Aidation DataLoader 0:   8%|████▊                                                     | 7/85 [00:09<01:44,  0.75it/s]\n",
            "\u001b[Aidation DataLoader 0:   9%|█████▍                                                    | 8/85 [00:09<01:34,  0.82it/s]\n",
            "\u001b[Aidation DataLoader 0:  11%|██████▏                                                   | 9/85 [00:10<01:26,  0.88it/s]\n",
            "\u001b[Aidation DataLoader 0:  12%|██████▋                                                  | 10/85 [00:10<01:17,  0.97it/s]\n",
            "\u001b[Aidation DataLoader 0:  13%|███████▍                                                 | 11/85 [00:10<01:10,  1.05it/s]\n",
            "\u001b[Aidation DataLoader 0:  14%|████████                                                 | 12/85 [00:10<01:04,  1.13it/s]\n",
            "\u001b[Aidation DataLoader 0:  15%|████████▋                                                | 13/85 [00:10<00:59,  1.21it/s]\n",
            "\u001b[Aidation DataLoader 0:  16%|█████████▍                                               | 14/85 [00:10<00:55,  1.28it/s]\n",
            "\u001b[Aidation DataLoader 0:  18%|██████████                                               | 15/85 [00:11<00:51,  1.36it/s]\n",
            "\u001b[Aidation DataLoader 0:  19%|██████████▋                                              | 16/85 [00:11<00:48,  1.44it/s]\n",
            "\u001b[Aidation DataLoader 0:  20%|███████████▍                                             | 17/85 [00:11<00:45,  1.50it/s]\n",
            "\u001b[Aidation DataLoader 0:  21%|████████████                                             | 18/85 [00:11<00:42,  1.58it/s]\n",
            "\u001b[Aidation DataLoader 0:  22%|████████████▋                                            | 19/85 [00:11<00:40,  1.62it/s]\n",
            "\u001b[Aidation DataLoader 0:  24%|█████████████▍                                           | 20/85 [00:11<00:38,  1.68it/s]\n",
            "\u001b[Aidation DataLoader 0:  25%|██████████████                                           | 21/85 [00:11<00:36,  1.75it/s]\n",
            "\u001b[Aidation DataLoader 0:  26%|██████████████▊                                          | 22/85 [00:12<00:34,  1.83it/s]\n",
            "\u001b[Aidation DataLoader 0:  27%|███████████████▍                                         | 23/85 [00:12<00:33,  1.87it/s]\n",
            "\u001b[Aidation DataLoader 0:  28%|████████████████                                         | 24/85 [00:12<00:32,  1.86it/s]\n",
            "\u001b[Aidation DataLoader 0:  29%|████████████████▊                                        | 25/85 [00:13<00:31,  1.91it/s]\n",
            "\u001b[Aidation DataLoader 0:  31%|█████████████████▍                                       | 26/85 [00:13<00:29,  1.97it/s]\n",
            "\u001b[Aidation DataLoader 0:  32%|██████████████████                                       | 27/85 [00:13<00:28,  2.03it/s]\n",
            "\u001b[Aidation DataLoader 0:  33%|██████████████████▊                                      | 28/85 [00:13<00:28,  2.02it/s]\n",
            "\u001b[Aidation DataLoader 0:  34%|███████████████████▍                                     | 29/85 [00:14<00:27,  2.06it/s]\n",
            "\u001b[Aidation DataLoader 0:  35%|████████████████████                                     | 30/85 [00:14<00:25,  2.12it/s]\n",
            "\u001b[Aidation DataLoader 0:  36%|████████████████████▊                                    | 31/85 [00:14<00:25,  2.15it/s]\n",
            "\u001b[Aidation DataLoader 0:  38%|█████████████████████▍                                   | 32/85 [00:14<00:24,  2.17it/s]\n",
            "\u001b[Aidation DataLoader 0:  39%|██████████████████████▏                                  | 33/85 [00:14<00:23,  2.22it/s]\n",
            "\u001b[Aidation DataLoader 0:  40%|██████████████████████▊                                  | 34/85 [00:15<00:22,  2.25it/s]\n",
            "\u001b[Aidation DataLoader 0:  41%|███████████████████████▍                                 | 35/85 [00:15<00:21,  2.30it/s]\n",
            "\u001b[Aidation DataLoader 0:  42%|████████████████████████▏                                | 36/85 [00:15<00:20,  2.35it/s]\n",
            "\u001b[Aidation DataLoader 0:  44%|████████████████████████▊                                | 37/85 [00:15<00:19,  2.40it/s]\n",
            "\u001b[Aidation DataLoader 0:  45%|█████████████████████████▍                               | 38/85 [00:15<00:19,  2.44it/s]\n",
            "\u001b[Aidation DataLoader 0:  46%|██████████████████████████▏                              | 39/85 [00:15<00:18,  2.49it/s]\n",
            "\u001b[Aidation DataLoader 0:  47%|██████████████████████████▊                              | 40/85 [00:15<00:17,  2.54it/s]\n",
            "\u001b[Aidation DataLoader 0:  48%|███████████████████████████▍                             | 41/85 [00:15<00:17,  2.59it/s]\n",
            "\u001b[Aidation DataLoader 0:  49%|████████████████████████████▏                            | 42/85 [00:15<00:16,  2.63it/s]\n",
            "\u001b[Aidation DataLoader 0:  51%|████████████████████████████▊                            | 43/85 [00:16<00:15,  2.67it/s]\n",
            "\u001b[Aidation DataLoader 0:  52%|█████████████████████████████▌                           | 44/85 [00:16<00:15,  2.69it/s]\n",
            "\u001b[Aidation DataLoader 0:  53%|██████████████████████████████▏                          | 45/85 [00:16<00:14,  2.72it/s]\n",
            "\u001b[Aidation DataLoader 0:  54%|██████████████████████████████▊                          | 46/85 [00:16<00:14,  2.76it/s]\n",
            "\u001b[Aidation DataLoader 0:  55%|███████████████████████████████▌                         | 47/85 [00:16<00:13,  2.81it/s]\n",
            "\u001b[Aidation DataLoader 0:  56%|████████████████████████████████▏                        | 48/85 [00:16<00:13,  2.84it/s]\n",
            "\u001b[Aidation DataLoader 0:  58%|████████████████████████████████▊                        | 49/85 [00:17<00:12,  2.87it/s]\n",
            "\u001b[Aidation DataLoader 0:  59%|█████████████████████████████████▌                       | 50/85 [00:17<00:12,  2.91it/s]\n",
            "\u001b[Aidation DataLoader 0:  60%|██████████████████████████████████▏                      | 51/85 [00:17<00:11,  2.95it/s]\n",
            "\u001b[Aidation DataLoader 0:  61%|██████████████████████████████████▊                      | 52/85 [00:17<00:11,  2.99it/s]\n",
            "\u001b[Aidation DataLoader 0:  62%|███████████████████████████████████▌                     | 53/85 [00:17<00:10,  3.03it/s]\n",
            "\u001b[Aidation DataLoader 0:  64%|████████████████████████████████████▏                    | 54/85 [00:17<00:10,  3.06it/s]\n",
            "\u001b[Aidation DataLoader 0:  65%|████████████████████████████████████▉                    | 55/85 [00:17<00:09,  3.10it/s]\n",
            "\u001b[Aidation DataLoader 0:  66%|█████████████████████████████████████▌                   | 56/85 [00:17<00:09,  3.13it/s]\n",
            "\u001b[Aidation DataLoader 0:  67%|██████████████████████████████████████▏                  | 57/85 [00:18<00:08,  3.16it/s]\n",
            "\u001b[Aidation DataLoader 0:  68%|██████████████████████████████████████▉                  | 58/85 [00:18<00:08,  3.19it/s]\n",
            "\u001b[Aidation DataLoader 0:  69%|███████████████████████████████████████▌                 | 59/85 [00:18<00:08,  3.22it/s]\n",
            "\u001b[Aidation DataLoader 0:  71%|████████████████████████████████████████▏                | 60/85 [00:18<00:07,  3.25it/s]\n",
            "\u001b[Aidation DataLoader 0:  72%|████████████████████████████████████████▉                | 61/85 [00:18<00:07,  3.27it/s]\n",
            "\u001b[Aidation DataLoader 0:  73%|█████████████████████████████████████████▌               | 62/85 [00:19<00:07,  3.21it/s]\n",
            "\u001b[Aidation DataLoader 0:  74%|██████████████████████████████████████████▏              | 63/85 [00:19<00:06,  3.25it/s]\n",
            "\u001b[Aidation DataLoader 0:  75%|██████████████████████████████████████████▉              | 64/85 [00:19<00:06,  3.24it/s]\n",
            "\u001b[Aidation DataLoader 0:  76%|███████████████████████████████████████████▌             | 65/85 [00:19<00:06,  3.27it/s]\n",
            "\u001b[Aidation DataLoader 0:  78%|████████████████████████████████████████████▎            | 66/85 [00:20<00:05,  3.21it/s]\n",
            "\u001b[Aidation DataLoader 0:  79%|████████████████████████████████████████████▉            | 67/85 [00:20<00:05,  3.24it/s]\n",
            "\u001b[Aidation DataLoader 0:  80%|█████████████████████████████████████████████▌           | 68/85 [00:20<00:05,  3.27it/s]\n",
            "\u001b[Aidation DataLoader 0:  81%|██████████████████████████████████████████████▎          | 69/85 [00:21<00:05,  3.19it/s]\n",
            "\u001b[Aidation DataLoader 0:  82%|██████████████████████████████████████████████▉          | 70/85 [00:22<00:04,  3.18it/s]\n",
            "\u001b[Aidation DataLoader 0:  84%|███████████████████████████████████████████████▌         | 71/85 [00:22<00:04,  3.17it/s]\n",
            "\u001b[Aidation DataLoader 0:  85%|████████████████████████████████████████████████▎        | 72/85 [00:22<00:04,  3.19it/s]\n",
            "\u001b[Aidation DataLoader 0:  86%|████████████████████████████████████████████████▉        | 73/85 [00:22<00:03,  3.20it/s]\n",
            "\u001b[Aidation DataLoader 0:  87%|█████████████████████████████████████████████████▌       | 74/85 [00:23<00:03,  3.19it/s]\n",
            "\u001b[Aidation DataLoader 0:  88%|██████████████████████████████████████████████████▎      | 75/85 [00:23<00:03,  3.22it/s]\n",
            "\u001b[Aidation DataLoader 0:  89%|██████████████████████████████████████████████████▉      | 76/85 [00:23<00:02,  3.25it/s]\n",
            "\u001b[Aidation DataLoader 0:  91%|███████████████████████████████████████████████████▋     | 77/85 [00:23<00:02,  3.27it/s]\n",
            "\u001b[Aidation DataLoader 0:  92%|████████████████████████████████████████████████████▎    | 78/85 [00:23<00:02,  3.31it/s]\n",
            "\u001b[Aidation DataLoader 0:  93%|████████████████████████████████████████████████████▉    | 79/85 [00:23<00:01,  3.29it/s]\n",
            "\u001b[Aidation DataLoader 0:  94%|█████████████████████████████████████████████████████▋   | 80/85 [00:24<00:01,  3.30it/s]\n",
            "\u001b[Aidation DataLoader 0:  95%|██████████████████████████████████████████████████████▎  | 81/85 [00:24<00:01,  3.28it/s]\n",
            "\u001b[Aidation DataLoader 0:  96%|██████████████████████████████████████████████████████▉  | 82/85 [00:24<00:00,  3.29it/s]\n",
            "\u001b[Aidation DataLoader 0:  98%|███████████████████████████████████████████████████████▋ | 83/85 [00:25<00:00,  3.32it/s]\n",
            "\u001b[Aidation DataLoader 0:  99%|████████████████████████████████████████████████████████▎| 84/85 [00:25<00:00,  3.34it/s]\n",
            "\u001b[Aidation DataLoader 0: 100%|█████████████████████████████████████████████████████████| 85/85 [00:25<00:00,  3.34it/s]\n",
            "Epoch 4: 100%|█| 1335/1335 [14:29<00:00,  1.54it/s, v_num=12, train_loss_step=37.10, val_loss=1.570, train_loss_epoch=6\n",
            "\u001b[Aidation: |                                                                                    | 0/? [00:00<?, ?it/s]\n",
            "\u001b[Aidation:   0%|                                                                               | 0/85 [00:00<?, ?it/s]\n",
            "\u001b[Aidation DataLoader 0:   0%|                                                                  | 0/85 [00:00<?, ?it/s]\n",
            "\u001b[Aidation DataLoader 0:   1%|▋                                                         | 1/85 [00:03<04:22,  0.32it/s]\n",
            "\u001b[Aidation DataLoader 0:   2%|█▎                                                        | 2/85 [00:03<02:37,  0.53it/s]\n",
            "\u001b[Aidation DataLoader 0:   4%|██                                                        | 3/85 [00:03<01:47,  0.76it/s]\n",
            "\u001b[Aidation DataLoader 0:   5%|██▋                                                       | 4/85 [00:04<01:25,  0.95it/s]\n",
            "\u001b[Aidation DataLoader 0:   6%|███▍                                                      | 5/85 [00:05<01:25,  0.94it/s]\n",
            "\u001b[Aidation DataLoader 0:   7%|████                                                      | 6/85 [00:05<01:11,  1.11it/s]\n",
            "\u001b[Aidation DataLoader 0:   8%|████▊                                                     | 7/85 [00:05<01:01,  1.27it/s]\n",
            "\u001b[Aidation DataLoader 0:   9%|█████▍                                                    | 8/85 [00:06<00:58,  1.31it/s]\n",
            "\u001b[Aidation DataLoader 0:  11%|██████▏                                                   | 9/85 [00:06<00:52,  1.45it/s]\n",
            "\u001b[Aidation DataLoader 0:  12%|██████▋                                                  | 10/85 [00:06<00:48,  1.54it/s]\n",
            "\u001b[Aidation DataLoader 0:  13%|███████▍                                                 | 11/85 [00:06<00:45,  1.63it/s]\n",
            "\u001b[Aidation DataLoader 0:  14%|████████                                                 | 12/85 [00:06<00:42,  1.73it/s]\n",
            "\u001b[Aidation DataLoader 0:  15%|████████▋                                                | 13/85 [00:07<00:38,  1.85it/s]\n",
            "\u001b[Aidation DataLoader 0:  16%|█████████▍                                               | 14/85 [00:07<00:36,  1.94it/s]\n",
            "\u001b[Aidation DataLoader 0:  18%|██████████                                               | 15/85 [00:07<00:34,  2.01it/s]\n",
            "\u001b[Aidation DataLoader 0:  19%|██████████▋                                              | 16/85 [00:07<00:33,  2.09it/s]\n",
            "\u001b[Aidation DataLoader 0:  20%|███████████▍                                             | 17/85 [00:07<00:30,  2.19it/s]\n",
            "\u001b[Aidation DataLoader 0:  21%|████████████                                             | 18/85 [00:07<00:29,  2.30it/s]\n",
            "\u001b[Aidation DataLoader 0:  22%|████████████▋                                            | 19/85 [00:07<00:27,  2.39it/s]\n",
            "\u001b[Aidation DataLoader 0:  24%|█████████████▍                                           | 20/85 [00:08<00:26,  2.47it/s]\n",
            "\u001b[Aidation DataLoader 0:  25%|██████████████                                           | 21/85 [00:08<00:25,  2.56it/s]\n",
            "\u001b[Aidation DataLoader 0:  26%|██████████████▊                                          | 22/85 [00:08<00:23,  2.63it/s]\n",
            "\u001b[Aidation DataLoader 0:  27%|███████████████▍                                         | 23/85 [00:08<00:22,  2.71it/s]\n",
            "\u001b[Aidation DataLoader 0:  28%|████████████████                                         | 24/85 [00:08<00:21,  2.78it/s]\n",
            "\u001b[Aidation DataLoader 0:  29%|████████████████▊                                        | 25/85 [00:08<00:21,  2.84it/s]\n",
            "\u001b[Aidation DataLoader 0:  31%|█████████████████▍                                       | 26/85 [00:08<00:20,  2.91it/s]\n",
            "\u001b[Aidation DataLoader 0:  32%|██████████████████                                       | 27/85 [00:09<00:19,  2.98it/s]\n",
            "\u001b[Aidation DataLoader 0:  33%|██████████████████▊                                      | 28/85 [00:09<00:19,  2.98it/s]\n",
            "\u001b[Aidation DataLoader 0:  34%|███████████████████▍                                     | 29/85 [00:09<00:18,  3.05it/s]\n",
            "\u001b[Aidation DataLoader 0:  35%|████████████████████                                     | 30/85 [00:09<00:18,  3.05it/s]\n",
            "\u001b[Aidation DataLoader 0:  36%|████████████████████▊                                    | 31/85 [00:10<00:17,  3.03it/s]\n",
            "\u001b[Aidation DataLoader 0:  38%|█████████████████████▍                                   | 32/85 [00:10<00:17,  2.96it/s]\n",
            "\u001b[Aidation DataLoader 0:  39%|██████████████████████▏                                  | 33/85 [00:10<00:17,  3.02it/s]\n",
            "\u001b[Aidation DataLoader 0:  40%|██████████████████████▊                                  | 34/85 [00:11<00:16,  3.06it/s]\n",
            "\u001b[Aidation DataLoader 0:  41%|███████████████████████▍                                 | 35/85 [00:11<00:16,  3.12it/s]\n",
            "\u001b[Aidation DataLoader 0:  42%|████████████████████████▏                                | 36/85 [00:11<00:15,  3.16it/s]\n",
            "\u001b[Aidation DataLoader 0:  44%|████████████████████████▊                                | 37/85 [00:11<00:14,  3.22it/s]\n",
            "\u001b[Aidation DataLoader 0:  45%|█████████████████████████▍                               | 38/85 [00:11<00:14,  3.26it/s]\n",
            "\u001b[Aidation DataLoader 0:  46%|██████████████████████████▏                              | 39/85 [00:11<00:14,  3.27it/s]\n",
            "\u001b[Aidation DataLoader 0:  47%|██████████████████████████▊                              | 40/85 [00:12<00:13,  3.33it/s]\n",
            "\u001b[Aidation DataLoader 0:  48%|███████████████████████████▍                             | 41/85 [00:12<00:12,  3.39it/s]\n",
            "\u001b[Aidation DataLoader 0:  49%|████████████████████████████▏                            | 42/85 [00:12<00:12,  3.44it/s]\n",
            "\u001b[Aidation DataLoader 0:  51%|████████████████████████████▊                            | 43/85 [00:12<00:12,  3.47it/s]\n",
            "\u001b[Aidation DataLoader 0:  52%|█████████████████████████████▌                           | 44/85 [00:12<00:11,  3.52it/s]\n",
            "\u001b[Aidation DataLoader 0:  53%|██████████████████████████████▏                          | 45/85 [00:12<00:11,  3.57it/s]\n",
            "\u001b[Aidation DataLoader 0:  54%|██████████████████████████████▊                          | 46/85 [00:12<00:10,  3.60it/s]\n",
            "\u001b[Aidation DataLoader 0:  55%|███████████████████████████████▌                         | 47/85 [00:12<00:10,  3.66it/s]\n",
            "\u001b[Aidation DataLoader 0:  56%|████████████████████████████████▏                        | 48/85 [00:12<00:09,  3.70it/s]\n",
            "\u001b[Aidation DataLoader 0:  58%|████████████████████████████████▊                        | 49/85 [00:13<00:09,  3.73it/s]\n",
            "\u001b[Aidation DataLoader 0:  59%|█████████████████████████████████▌                       | 50/85 [00:13<00:09,  3.77it/s]\n",
            "\u001b[Aidation DataLoader 0:  60%|██████████████████████████████████▏                      | 51/85 [00:13<00:08,  3.80it/s]\n",
            "\u001b[Aidation DataLoader 0:  61%|██████████████████████████████████▊                      | 52/85 [00:13<00:08,  3.84it/s]\n",
            "\u001b[Aidation DataLoader 0:  62%|███████████████████████████████████▌                     | 53/85 [00:13<00:08,  3.83it/s]\n",
            "\u001b[Aidation DataLoader 0:  64%|████████████████████████████████████▏                    | 54/85 [00:14<00:08,  3.83it/s]\n",
            "\u001b[Aidation DataLoader 0:  65%|████████████████████████████████████▉                    | 55/85 [00:14<00:07,  3.86it/s]\n",
            "\u001b[Aidation DataLoader 0:  66%|█████████████████████████████████████▌                   | 56/85 [00:14<00:07,  3.88it/s]\n",
            "\u001b[Aidation DataLoader 0:  67%|██████████████████████████████████████▏                  | 57/85 [00:14<00:07,  3.91it/s]\n",
            "\u001b[Aidation DataLoader 0:  68%|██████████████████████████████████████▉                  | 58/85 [00:14<00:06,  3.95it/s]\n",
            "\u001b[Aidation DataLoader 0:  69%|███████████████████████████████████████▌                 | 59/85 [00:14<00:06,  3.98it/s]\n",
            "\u001b[Aidation DataLoader 0:  71%|████████████████████████████████████████▏                | 60/85 [00:14<00:06,  4.02it/s]\n",
            "\u001b[Aidation DataLoader 0:  72%|████████████████████████████████████████▉                | 61/85 [00:15<00:05,  4.05it/s]\n",
            "\u001b[Aidation DataLoader 0:  73%|█████████████████████████████████████████▌               | 62/85 [00:15<00:05,  4.07it/s]\n",
            "\u001b[Aidation DataLoader 0:  74%|██████████████████████████████████████████▏              | 63/85 [00:15<00:05,  4.08it/s]\n",
            "\u001b[Aidation DataLoader 0:  75%|██████████████████████████████████████████▉              | 64/85 [00:15<00:05,  4.12it/s]\n",
            "\u001b[Aidation DataLoader 0:  76%|███████████████████████████████████████████▌             | 65/85 [00:15<00:04,  4.13it/s]\n",
            "\u001b[Aidation DataLoader 0:  78%|████████████████████████████████████████████▎            | 66/85 [00:15<00:04,  4.17it/s]\n",
            "\u001b[Aidation DataLoader 0:  79%|████████████████████████████████████████████▉            | 67/85 [00:15<00:04,  4.20it/s]\n",
            "\u001b[Aidation DataLoader 0:  80%|█████████████████████████████████████████████▌           | 68/85 [00:16<00:04,  4.23it/s]\n",
            "\u001b[Aidation DataLoader 0:  81%|██████████████████████████████████████████████▎          | 69/85 [00:16<00:03,  4.27it/s]\n",
            "\u001b[Aidation DataLoader 0:  82%|██████████████████████████████████████████████▉          | 70/85 [00:16<00:03,  4.30it/s]\n",
            "\u001b[Aidation DataLoader 0:  84%|███████████████████████████████████████████████▌         | 71/85 [00:16<00:03,  4.33it/s]\n",
            "\u001b[Aidation DataLoader 0:  85%|████████████████████████████████████████████████▎        | 72/85 [00:16<00:02,  4.36it/s]\n",
            "\u001b[Aidation DataLoader 0:  86%|████████████████████████████████████████████████▉        | 73/85 [00:16<00:02,  4.37it/s]\n",
            "\u001b[Aidation DataLoader 0:  87%|█████████████████████████████████████████████████▌       | 74/85 [00:16<00:02,  4.40it/s]\n",
            "\u001b[Aidation DataLoader 0:  88%|██████████████████████████████████████████████████▎      | 75/85 [00:17<00:02,  4.39it/s]\n",
            "\u001b[Aidation DataLoader 0:  89%|██████████████████████████████████████████████████▉      | 76/85 [00:17<00:02,  4.42it/s]\n",
            "\u001b[Aidation DataLoader 0:  91%|███████████████████████████████████████████████████▋     | 77/85 [00:17<00:01,  4.46it/s]\n",
            "\u001b[Aidation DataLoader 0:  92%|████████████████████████████████████████████████████▎    | 78/85 [00:17<00:01,  4.47it/s]\n",
            "\u001b[Aidation DataLoader 0:  93%|████████████████████████████████████████████████████▉    | 79/85 [00:17<00:01,  4.48it/s]\n",
            "\u001b[Aidation DataLoader 0:  94%|█████████████████████████████████████████████████████▋   | 80/85 [00:18<00:01,  4.44it/s]\n",
            "\u001b[Aidation DataLoader 0:  95%|██████████████████████████████████████████████████████▎  | 81/85 [00:18<00:00,  4.47it/s]\n",
            "\u001b[Aidation DataLoader 0:  96%|██████████████████████████████████████████████████████▉  | 82/85 [00:18<00:00,  4.48it/s]\n",
            "\u001b[Aidation DataLoader 0:  98%|███████████████████████████████████████████████████████▋ | 83/85 [00:18<00:00,  4.51it/s]\n",
            "\u001b[Aidation DataLoader 0:  99%|████████████████████████████████████████████████████████▎| 84/85 [00:18<00:00,  4.47it/s]\n",
            "\u001b[Aidation DataLoader 0: 100%|█████████████████████████████████████████████████████████| 85/85 [00:18<00:00,  4.50it/s]\n",
            "Epoch 5: 100%|█| 1335/1335 [13:23<00:00,  1.66it/s, v_num=12, train_loss_step=0.820, val_loss=1.540, train_loss_epoch=6\n",
            "\u001b[Aidation: |                                                                                    | 0/? [00:00<?, ?it/s]\n",
            "\u001b[Aidation:   0%|                                                                               | 0/85 [00:00<?, ?it/s]\n",
            "\u001b[Aidation DataLoader 0:   0%|                                                                  | 0/85 [00:00<?, ?it/s]\n",
            "\u001b[Aidation DataLoader 0:   1%|▋                                                         | 1/85 [00:02<03:47,  0.37it/s]\n",
            "\u001b[Aidation DataLoader 0:   2%|█▎                                                        | 2/85 [00:03<02:14,  0.62it/s]\n",
            "\u001b[Aidation DataLoader 0:   4%|██                                                        | 3/85 [00:03<01:31,  0.90it/s]\n",
            "\u001b[Aidation DataLoader 0:   5%|██▋                                                       | 4/85 [00:03<01:09,  1.17it/s]\n",
            "\u001b[Aidation DataLoader 0:   6%|███▍                                                      | 5/85 [00:03<00:59,  1.35it/s]\n",
            "\u001b[Aidation DataLoader 0:   7%|████                                                      | 6/85 [00:03<00:50,  1.58it/s]\n",
            "\u001b[Aidation DataLoader 0:   8%|████▊                                                     | 7/85 [00:03<00:43,  1.79it/s]\n",
            "\u001b[Aidation DataLoader 0:   9%|█████▍                                                    | 8/85 [00:04<00:41,  1.84it/s]\n",
            "\u001b[Aidation DataLoader 0:  11%|██████▏                                                   | 9/85 [00:04<00:39,  1.93it/s]\n",
            "\u001b[Aidation DataLoader 0:  12%|██████▋                                                  | 10/85 [00:04<00:36,  2.03it/s]\n",
            "\u001b[Aidation DataLoader 0:  13%|███████▍                                                 | 11/85 [00:05<00:34,  2.11it/s]\n",
            "\u001b[Aidation DataLoader 0:  14%|████████                                                 | 12/85 [00:05<00:32,  2.26it/s]\n",
            "\u001b[Aidation DataLoader 0:  15%|████████▋                                                | 13/85 [00:05<00:29,  2.40it/s]\n",
            "\u001b[Aidation DataLoader 0:  16%|█████████▍                                               | 14/85 [00:05<00:28,  2.53it/s]\n",
            "\u001b[Aidation DataLoader 0:  18%|██████████                                               | 15/85 [00:05<00:26,  2.66it/s]\n",
            "\u001b[Aidation DataLoader 0:  19%|██████████▋                                              | 16/85 [00:05<00:24,  2.78it/s]\n",
            "\u001b[Aidation DataLoader 0:  20%|███████████▍                                             | 17/85 [00:05<00:23,  2.90it/s]\n",
            "\u001b[Aidation DataLoader 0:  21%|████████████                                             | 18/85 [00:05<00:22,  3.02it/s]\n",
            "\u001b[Aidation DataLoader 0:  22%|████████████▋                                            | 19/85 [00:06<00:21,  3.07it/s]\n",
            "\u001b[Aidation DataLoader 0:  24%|█████████████▍                                           | 20/85 [00:06<00:20,  3.19it/s]\n",
            "\u001b[Aidation DataLoader 0:  25%|██████████████                                           | 21/85 [00:06<00:19,  3.31it/s]\n",
            "\u001b[Aidation DataLoader 0:  26%|██████████████▊                                          | 22/85 [00:06<00:18,  3.41it/s]\n",
            "\u001b[Aidation DataLoader 0:  27%|███████████████▍                                         | 23/85 [00:06<00:17,  3.50it/s]\n",
            "\u001b[Aidation DataLoader 0:  28%|████████████████                                         | 24/85 [00:06<00:17,  3.48it/s]\n",
            "\u001b[Aidation DataLoader 0:  29%|████████████████▊                                        | 25/85 [00:07<00:16,  3.56it/s]\n",
            "\u001b[Aidation DataLoader 0:  31%|█████████████████▍                                       | 26/85 [00:07<00:16,  3.63it/s]\n",
            "\u001b[Aidation DataLoader 0:  32%|██████████████████                                       | 27/85 [00:07<00:15,  3.63it/s]\n",
            "\u001b[Aidation DataLoader 0:  33%|██████████████████▊                                      | 28/85 [00:07<00:15,  3.66it/s]\n",
            "\u001b[Aidation DataLoader 0:  34%|███████████████████▍                                     | 29/85 [00:07<00:14,  3.74it/s]\n",
            "\u001b[Aidation DataLoader 0:  35%|████████████████████                                     | 30/85 [00:07<00:14,  3.81it/s]\n",
            "\u001b[Aidation DataLoader 0:  36%|████████████████████▊                                    | 31/85 [00:08<00:14,  3.81it/s]\n",
            "\u001b[Aidation DataLoader 0:  38%|█████████████████████▍                                   | 32/85 [00:08<00:13,  3.81it/s]\n",
            "\u001b[Aidation DataLoader 0:  39%|██████████████████████▏                                  | 33/85 [00:08<00:13,  3.87it/s]\n",
            "\u001b[Aidation DataLoader 0:  40%|██████████████████████▊                                  | 34/85 [00:08<00:12,  3.94it/s]\n",
            "\u001b[Aidation DataLoader 0:  41%|███████████████████████▍                                 | 35/85 [00:08<00:12,  3.90it/s]\n",
            "\u001b[Aidation DataLoader 0:  42%|████████████████████████▏                                | 36/85 [00:09<00:12,  3.97it/s]\n",
            "\u001b[Aidation DataLoader 0:  44%|████████████████████████▊                                | 37/85 [00:09<00:11,  4.04it/s]\n",
            "\u001b[Aidation DataLoader 0:  45%|█████████████████████████▍                               | 38/85 [00:09<00:11,  3.99it/s]\n",
            "\u001b[Aidation DataLoader 0:  46%|██████████████████████████▏                              | 39/85 [00:09<00:11,  4.05it/s]\n",
            "\u001b[Aidation DataLoader 0:  47%|██████████████████████████▊                              | 40/85 [00:09<00:11,  4.03it/s]\n",
            "\u001b[Aidation DataLoader 0:  48%|███████████████████████████▍                             | 41/85 [00:10<00:10,  4.09it/s]\n",
            "\u001b[Aidation DataLoader 0:  49%|████████████████████████████▏                            | 42/85 [00:10<00:10,  4.14it/s]\n",
            "\u001b[Aidation DataLoader 0:  51%|████████████████████████████▊                            | 43/85 [00:10<00:10,  4.19it/s]\n",
            "\u001b[Aidation DataLoader 0:  52%|█████████████████████████████▌                           | 44/85 [00:10<00:09,  4.24it/s]\n",
            "\u001b[Aidation DataLoader 0:  53%|██████████████████████████████▏                          | 45/85 [00:10<00:09,  4.29it/s]\n",
            "\u001b[Aidation DataLoader 0:  54%|██████████████████████████████▊                          | 46/85 [00:10<00:09,  4.33it/s]\n",
            "\u001b[Aidation DataLoader 0:  55%|███████████████████████████████▌                         | 47/85 [00:10<00:08,  4.38it/s]\n",
            "\u001b[Aidation DataLoader 0:  56%|████████████████████████████████▏                        | 48/85 [00:10<00:08,  4.42it/s]\n",
            "\u001b[Aidation DataLoader 0:  58%|████████████████████████████████▊                        | 49/85 [00:11<00:08,  4.45it/s]\n",
            "\u001b[Aidation DataLoader 0:  59%|█████████████████████████████████▌                       | 50/85 [00:11<00:07,  4.47it/s]\n",
            "\u001b[Aidation DataLoader 0:  60%|██████████████████████████████████▏                      | 51/85 [00:11<00:07,  4.52it/s]\n",
            "\u001b[Aidation DataLoader 0:  61%|██████████████████████████████████▊                      | 52/85 [00:11<00:07,  4.56it/s]\n",
            "\u001b[Aidation DataLoader 0:  62%|███████████████████████████████████▌                     | 53/85 [00:11<00:07,  4.54it/s]\n",
            "\u001b[Aidation DataLoader 0:  64%|████████████████████████████████████▏                    | 54/85 [00:11<00:06,  4.58it/s]\n",
            "\u001b[Aidation DataLoader 0:  65%|████████████████████████████████████▉                    | 55/85 [00:12<00:06,  4.56it/s]\n",
            "\u001b[Aidation DataLoader 0:  66%|█████████████████████████████████████▌                   | 56/85 [00:12<00:06,  4.60it/s]\n",
            "\u001b[Aidation DataLoader 0:  67%|██████████████████████████████████████▏                  | 57/85 [00:12<00:06,  4.64it/s]\n",
            "\u001b[Aidation DataLoader 0:  68%|██████████████████████████████████████▉                  | 58/85 [00:12<00:05,  4.68it/s]\n",
            "\u001b[Aidation DataLoader 0:  69%|███████████████████████████████████████▌                 | 59/85 [00:12<00:05,  4.67it/s]\n",
            "\u001b[Aidation DataLoader 0:  71%|████████████████████████████████████████▏                | 60/85 [00:12<00:05,  4.71it/s]\n",
            "\u001b[Aidation DataLoader 0:  72%|████████████████████████████████████████▉                | 61/85 [00:12<00:05,  4.75it/s]\n",
            "\u001b[Aidation DataLoader 0:  73%|█████████████████████████████████████████▌               | 62/85 [00:13<00:04,  4.76it/s]\n",
            "\u001b[Aidation DataLoader 0:  74%|██████████████████████████████████████████▏              | 63/85 [00:13<00:04,  4.79it/s]\n",
            "\u001b[Aidation DataLoader 0:  75%|██████████████████████████████████████████▉              | 64/85 [00:13<00:04,  4.77it/s]\n",
            "\u001b[Aidation DataLoader 0:  76%|███████████████████████████████████████████▌             | 65/85 [00:13<00:04,  4.81it/s]\n",
            "\u001b[Aidation DataLoader 0:  78%|████████████████████████████████████████████▎            | 66/85 [00:13<00:03,  4.82it/s]\n",
            "\u001b[Aidation DataLoader 0:  79%|████████████████████████████████████████████▉            | 67/85 [00:13<00:03,  4.86it/s]\n",
            "\u001b[Aidation DataLoader 0:  80%|█████████████████████████████████████████████▌           | 68/85 [00:13<00:03,  4.90it/s]\n",
            "\u001b[Aidation DataLoader 0:  81%|██████████████████████████████████████████████▎          | 69/85 [00:14<00:03,  4.93it/s]\n",
            "\u001b[Aidation DataLoader 0:  82%|██████████████████████████████████████████████▉          | 70/85 [00:14<00:03,  4.96it/s]\n",
            "\u001b[Aidation DataLoader 0:  84%|███████████████████████████████████████████████▌         | 71/85 [00:14<00:02,  4.98it/s]\n",
            "\u001b[Aidation DataLoader 0:  85%|████████████████████████████████████████████████▎        | 72/85 [00:14<00:02,  5.00it/s]\n",
            "\u001b[Aidation DataLoader 0:  86%|████████████████████████████████████████████████▉        | 73/85 [00:14<00:02,  5.03it/s]\n",
            "\u001b[Aidation DataLoader 0:  87%|█████████████████████████████████████████████████▌       | 74/85 [00:14<00:02,  5.07it/s]\n",
            "\u001b[Aidation DataLoader 0:  88%|██████████████████████████████████████████████████▎      | 75/85 [00:14<00:01,  5.10it/s]\n",
            "\u001b[Aidation DataLoader 0:  89%|██████████████████████████████████████████████████▉      | 76/85 [00:14<00:01,  5.13it/s]\n",
            "\u001b[Aidation DataLoader 0:  91%|███████████████████████████████████████████████████▋     | 77/85 [00:14<00:01,  5.16it/s]\n",
            "\u001b[Aidation DataLoader 0:  92%|████████████████████████████████████████████████████▎    | 78/85 [00:15<00:01,  5.16it/s]\n",
            "\u001b[Aidation DataLoader 0:  93%|████████████████████████████████████████████████████▉    | 79/85 [00:15<00:01,  5.19it/s]\n",
            "\u001b[Aidation DataLoader 0:  94%|█████████████████████████████████████████████████████▋   | 80/85 [00:15<00:00,  5.19it/s]\n",
            "\u001b[Aidation DataLoader 0:  95%|██████████████████████████████████████████████████████▎  | 81/85 [00:15<00:00,  5.22it/s]\n",
            "\u001b[Aidation DataLoader 0:  96%|██████████████████████████████████████████████████████▉  | 82/85 [00:15<00:00,  5.20it/s]\n",
            "\u001b[Aidation DataLoader 0:  98%|███████████████████████████████████████████████████████▋ | 83/85 [00:15<00:00,  5.22it/s]\n",
            "\u001b[Aidation DataLoader 0:  99%|████████████████████████████████████████████████████████▎| 84/85 [00:16<00:00,  5.19it/s]\n",
            "\u001b[Aidation DataLoader 0: 100%|█████████████████████████████████████████████████████████| 85/85 [00:16<00:00,  5.16it/s]\n",
            "Epoch 6: 100%|█| 1335/1335 [14:09<00:00,  1.57it/s, v_num=12, train_loss_step=0.483, val_loss=1.500, train_loss_epoch=6\n",
            "\u001b[Aidation: |                                                                                    | 0/? [00:00<?, ?it/s]\n",
            "\u001b[Aidation:   0%|                                                                               | 0/85 [00:00<?, ?it/s]\n",
            "\u001b[Aidation DataLoader 0:   0%|                                                                  | 0/85 [00:00<?, ?it/s]\n",
            "\u001b[Aidation DataLoader 0:   1%|▋                                                         | 1/85 [00:01<02:14,  0.62it/s]\n",
            "\u001b[Aidation DataLoader 0:   2%|█▎                                                        | 2/85 [00:01<01:16,  1.09it/s]\n",
            "\u001b[Aidation DataLoader 0:   4%|██                                                        | 3/85 [00:02<00:54,  1.49it/s]\n",
            "\u001b[Aidation DataLoader 0:   5%|██▋                                                       | 4/85 [00:02<00:42,  1.91it/s]\n",
            "\u001b[Aidation DataLoader 0:   6%|███▍                                                      | 5/85 [00:02<00:46,  1.73it/s]\n",
            "\u001b[Aidation DataLoader 0:   7%|████                                                      | 6/85 [00:02<00:39,  2.01it/s]\n",
            "\u001b[Aidation DataLoader 0:   8%|████▊                                                     | 7/85 [00:03<00:34,  2.25it/s]\n",
            "\u001b[Aidation DataLoader 0:   9%|█████▍                                                    | 8/85 [00:03<00:33,  2.33it/s]\n",
            "\u001b[Aidation DataLoader 0:  11%|██████▏                                                   | 9/85 [00:03<00:32,  2.33it/s]\n",
            "\u001b[Aidation DataLoader 0:  12%|██████▋                                                  | 10/85 [00:03<00:29,  2.52it/s]\n",
            "\u001b[Aidation DataLoader 0:  13%|███████▍                                                 | 11/85 [00:04<00:27,  2.71it/s]\n",
            "\u001b[Aidation DataLoader 0:  14%|████████                                                 | 12/85 [00:04<00:25,  2.85it/s]\n",
            "\u001b[Aidation DataLoader 0:  15%|████████▋                                                | 13/85 [00:04<00:24,  2.99it/s]\n",
            "\u001b[Aidation DataLoader 0:  16%|█████████▍                                               | 14/85 [00:04<00:24,  2.89it/s]\n",
            "\u001b[Aidation DataLoader 0:  18%|██████████                                               | 15/85 [00:04<00:23,  3.02it/s]\n",
            "\u001b[Aidation DataLoader 0:  19%|██████████▋                                              | 16/85 [00:05<00:22,  3.13it/s]\n",
            "\u001b[Aidation DataLoader 0:  20%|███████████▍                                             | 17/85 [00:05<00:21,  3.14it/s]\n",
            "\u001b[Aidation DataLoader 0:  21%|████████████                                             | 18/85 [00:05<00:20,  3.24it/s]\n",
            "\u001b[Aidation DataLoader 0:  22%|████████████▋                                            | 19/85 [00:05<00:20,  3.26it/s]\n",
            "\u001b[Aidation DataLoader 0:  24%|█████████████▍                                           | 20/85 [00:06<00:19,  3.30it/s]\n",
            "\u001b[Aidation DataLoader 0:  25%|██████████████                                           | 21/85 [00:06<00:18,  3.39it/s]\n",
            "\u001b[Aidation DataLoader 0:  26%|██████████████▊                                          | 22/85 [00:06<00:18,  3.43it/s]\n",
            "\u001b[Aidation DataLoader 0:  27%|███████████████▍                                         | 23/85 [00:06<00:17,  3.52it/s]\n",
            "\u001b[Aidation DataLoader 0:  28%|████████████████                                         | 24/85 [00:07<00:17,  3.41it/s]\n",
            "\u001b[Aidation DataLoader 0:  29%|████████████████▊                                        | 25/85 [00:07<00:17,  3.39it/s]\n",
            "\u001b[Aidation DataLoader 0:  31%|█████████████████▍                                       | 26/85 [00:07<00:17,  3.42it/s]\n",
            "\u001b[Aidation DataLoader 0:  32%|██████████████████                                       | 27/85 [00:07<00:16,  3.49it/s]\n",
            "\u001b[Aidation DataLoader 0:  33%|██████████████████▊                                      | 28/85 [00:08<00:16,  3.45it/s]\n",
            "\u001b[Aidation DataLoader 0:  34%|███████████████████▍                                     | 29/85 [00:08<00:16,  3.49it/s]\n",
            "\u001b[Aidation DataLoader 0:  35%|████████████████████                                     | 30/85 [00:08<00:15,  3.49it/s]\n",
            "\u001b[Aidation DataLoader 0:  36%|████████████████████▊                                    | 31/85 [00:08<00:15,  3.54it/s]\n",
            "\u001b[Aidation DataLoader 0:  38%|█████████████████████▍                                   | 32/85 [00:09<00:15,  3.52it/s]\n",
            "\u001b[Aidation DataLoader 0:  39%|██████████████████████▏                                  | 33/85 [00:09<00:14,  3.55it/s]\n",
            "\u001b[Aidation DataLoader 0:  40%|██████████████████████▊                                  | 34/85 [00:09<00:14,  3.60it/s]\n",
            "\u001b[Aidation DataLoader 0:  41%|███████████████████████▍                                 | 35/85 [00:09<00:13,  3.65it/s]\n",
            "\u001b[Aidation DataLoader 0:  42%|████████████████████████▏                                | 36/85 [00:09<00:13,  3.70it/s]\n",
            "\u001b[Aidation DataLoader 0:  44%|████████████████████████▊                                | 37/85 [00:09<00:12,  3.76it/s]\n",
            "\u001b[Aidation DataLoader 0:  45%|█████████████████████████▍                               | 38/85 [00:10<00:12,  3.70it/s]\n",
            "\u001b[Aidation DataLoader 0:  46%|██████████████████████████▏                              | 39/85 [00:10<00:12,  3.74it/s]\n",
            "\u001b[Aidation DataLoader 0:  47%|██████████████████████████▊                              | 40/85 [00:10<00:12,  3.74it/s]\n",
            "\u001b[Aidation DataLoader 0:  48%|███████████████████████████▍                             | 41/85 [00:10<00:11,  3.76it/s]\n",
            "\u001b[Aidation DataLoader 0:  49%|████████████████████████████▏                            | 42/85 [00:11<00:11,  3.78it/s]\n",
            "\u001b[Aidation DataLoader 0:  51%|████████████████████████████▊                            | 43/85 [00:11<00:11,  3.74it/s]\n",
            "\u001b[Aidation DataLoader 0:  52%|█████████████████████████████▌                           | 44/85 [00:11<00:10,  3.75it/s]\n",
            "\u001b[Aidation DataLoader 0:  53%|██████████████████████████████▏                          | 45/85 [00:11<00:10,  3.80it/s]\n",
            "\u001b[Aidation DataLoader 0:  54%|██████████████████████████████▊                          | 46/85 [00:12<00:10,  3.83it/s]\n",
            "\u001b[Aidation DataLoader 0:  55%|███████████████████████████████▌                         | 47/85 [00:12<00:09,  3.86it/s]\n",
            "\u001b[Aidation DataLoader 0:  56%|████████████████████████████████▏                        | 48/85 [00:12<00:09,  3.83it/s]\n",
            "\u001b[Aidation DataLoader 0:  58%|████████████████████████████████▊                        | 49/85 [00:12<00:09,  3.79it/s]\n",
            "\u001b[Aidation DataLoader 0:  59%|█████████████████████████████████▌                       | 50/85 [00:13<00:09,  3.81it/s]\n",
            "\u001b[Aidation DataLoader 0:  60%|██████████████████████████████████▏                      | 51/85 [00:13<00:08,  3.85it/s]\n",
            "\u001b[Aidation DataLoader 0:  61%|██████████████████████████████████▊                      | 52/85 [00:13<00:08,  3.88it/s]\n",
            "\u001b[Aidation DataLoader 0:  62%|███████████████████████████████████▌                     | 53/85 [00:13<00:08,  3.92it/s]\n",
            "\u001b[Aidation DataLoader 0:  64%|████████████████████████████████████▏                    | 54/85 [00:13<00:07,  3.93it/s]\n",
            "\u001b[Aidation DataLoader 0:  65%|████████████████████████████████████▉                    | 55/85 [00:14<00:07,  3.88it/s]\n",
            "\u001b[Aidation DataLoader 0:  66%|█████████████████████████████████████▌                   | 56/85 [00:14<00:07,  3.88it/s]\n",
            "\u001b[Aidation DataLoader 0:  67%|██████████████████████████████████████▏                  | 57/85 [00:14<00:07,  3.91it/s]\n",
            "\u001b[Aidation DataLoader 0:  68%|██████████████████████████████████████▉                  | 58/85 [00:14<00:06,  3.94it/s]\n",
            "\u001b[Aidation DataLoader 0:  69%|███████████████████████████████████████▌                 | 59/85 [00:14<00:06,  3.94it/s]\n",
            "\u001b[Aidation DataLoader 0:  71%|████████████████████████████████████████▏                | 60/85 [00:15<00:06,  3.96it/s]\n",
            "\u001b[Aidation DataLoader 0:  72%|████████████████████████████████████████▉                | 61/85 [00:15<00:06,  3.99it/s]\n",
            "\u001b[Aidation DataLoader 0:  73%|█████████████████████████████████████████▌               | 62/85 [00:15<00:05,  3.98it/s]\n",
            "\u001b[Aidation DataLoader 0:  74%|██████████████████████████████████████████▏              | 63/85 [00:15<00:05,  3.95it/s]\n",
            "\u001b[Aidation DataLoader 0:  75%|██████████████████████████████████████████▉              | 64/85 [00:16<00:05,  3.88it/s]\n",
            "\u001b[Aidation DataLoader 0:  76%|███████████████████████████████████████████▌             | 65/85 [00:16<00:05,  3.88it/s]\n",
            "\u001b[Aidation DataLoader 0:  78%|████████████████████████████████████████████▎            | 66/85 [00:17<00:04,  3.87it/s]\n",
            "\u001b[Aidation DataLoader 0:  79%|████████████████████████████████████████████▉            | 67/85 [00:17<00:04,  3.86it/s]\n",
            "\u001b[Aidation DataLoader 0:  80%|█████████████████████████████████████████████▌           | 68/85 [00:17<00:04,  3.87it/s]\n",
            "\u001b[Aidation DataLoader 0:  81%|██████████████████████████████████████████████▎          | 69/85 [00:17<00:04,  3.86it/s]\n",
            "\u001b[Aidation DataLoader 0:  82%|██████████████████████████████████████████████▉          | 70/85 [00:18<00:03,  3.88it/s]\n",
            "\u001b[Aidation DataLoader 0:  84%|███████████████████████████████████████████████▌         | 71/85 [00:18<00:03,  3.86it/s]\n",
            "\u001b[Aidation DataLoader 0:  85%|████████████████████████████████████████████████▎        | 72/85 [00:18<00:03,  3.84it/s]\n",
            "\u001b[Aidation DataLoader 0:  86%|████████████████████████████████████████████████▉        | 73/85 [00:18<00:03,  3.86it/s]\n",
            "\u001b[Aidation DataLoader 0:  87%|█████████████████████████████████████████████████▌       | 74/85 [00:19<00:02,  3.85it/s]\n",
            "\u001b[Aidation DataLoader 0:  88%|██████████████████████████████████████████████████▎      | 75/85 [00:19<00:02,  3.84it/s]\n",
            "\u001b[Aidation DataLoader 0:  89%|██████████████████████████████████████████████████▉      | 76/85 [00:19<00:02,  3.86it/s]\n",
            "\u001b[Aidation DataLoader 0:  91%|███████████████████████████████████████████████████▋     | 77/85 [00:19<00:02,  3.88it/s]\n",
            "\u001b[Aidation DataLoader 0:  92%|████████████████████████████████████████████████████▎    | 78/85 [00:19<00:01,  3.91it/s]\n",
            "\u001b[Aidation DataLoader 0:  93%|████████████████████████████████████████████████████▉    | 79/85 [00:20<00:01,  3.89it/s]\n",
            "\u001b[Aidation DataLoader 0:  94%|█████████████████████████████████████████████████████▋   | 80/85 [00:20<00:01,  3.82it/s]\n",
            "\u001b[Aidation DataLoader 0:  95%|██████████████████████████████████████████████████████▎  | 81/85 [00:21<00:01,  3.82it/s]\n",
            "\u001b[Aidation DataLoader 0:  96%|██████████████████████████████████████████████████████▉  | 82/85 [00:21<00:00,  3.81it/s]\n",
            "\u001b[Aidation DataLoader 0:  98%|███████████████████████████████████████████████████████▋ | 83/85 [00:21<00:00,  3.83it/s]\n",
            "\u001b[Aidation DataLoader 0:  99%|████████████████████████████████████████████████████████▎| 84/85 [00:21<00:00,  3.85it/s]\n",
            "\u001b[Aidation DataLoader 0: 100%|█████████████████████████████████████████████████████████| 85/85 [00:22<00:00,  3.86it/s]\n",
            "Epoch 6: 100%|█| 1335/1335 [14:41<00:00,  1.51it/s, v_num=12, train_loss_step=0.483, val_loss=1.510, train_loss_epoch=6"
          ]
        },
        {
          "name": "stderr",
          "output_type": "stream",
          "text": [
            "\n",
            "Detected KeyboardInterrupt, attempting graceful shutdown ...\n"
          ]
        },
        {
          "ename": "NameError",
          "evalue": "name 'exit' is not defined",
          "output_type": "error",
          "traceback": [
            "\u001b[31m---------------------------------------------------------------------------\u001b[39m",
            "\u001b[31mKeyboardInterrupt\u001b[39m                         Traceback (most recent call last)",
            "\u001b[36mFile \u001b[39m\u001b[32mD:\\jupyter\\Lib\\site-packages\\lightning\\pytorch\\trainer\\call.py:48\u001b[39m, in \u001b[36m_call_and_handle_interrupt\u001b[39m\u001b[34m(trainer, trainer_fn, *args, **kwargs)\u001b[39m\n\u001b[32m     47\u001b[39m         \u001b[38;5;28;01mreturn\u001b[39;00m trainer.strategy.launcher.launch(trainer_fn, *args, trainer=trainer, **kwargs)\n\u001b[32m---> \u001b[39m\u001b[32m48\u001b[39m     \u001b[38;5;28;01mreturn\u001b[39;00m trainer_fn(*args, **kwargs)\n\u001b[32m     50\u001b[39m \u001b[38;5;28;01mexcept\u001b[39;00m _TunerExitException:\n",
            "\u001b[36mFile \u001b[39m\u001b[32mD:\\jupyter\\Lib\\site-packages\\lightning\\pytorch\\trainer\\trainer.py:599\u001b[39m, in \u001b[36mTrainer._fit_impl\u001b[39m\u001b[34m(self, model, train_dataloaders, val_dataloaders, datamodule, ckpt_path)\u001b[39m\n\u001b[32m    593\u001b[39m ckpt_path = \u001b[38;5;28mself\u001b[39m._checkpoint_connector._select_ckpt_path(\n\u001b[32m    594\u001b[39m     \u001b[38;5;28mself\u001b[39m.state.fn,\n\u001b[32m    595\u001b[39m     ckpt_path,\n\u001b[32m    596\u001b[39m     model_provided=\u001b[38;5;28;01mTrue\u001b[39;00m,\n\u001b[32m    597\u001b[39m     model_connected=\u001b[38;5;28mself\u001b[39m.lightning_module \u001b[38;5;129;01mis\u001b[39;00m \u001b[38;5;129;01mnot\u001b[39;00m \u001b[38;5;28;01mNone\u001b[39;00m,\n\u001b[32m    598\u001b[39m )\n\u001b[32m--> \u001b[39m\u001b[32m599\u001b[39m \u001b[38;5;28mself\u001b[39m._run(model, ckpt_path=ckpt_path)\n\u001b[32m    601\u001b[39m \u001b[38;5;28;01massert\u001b[39;00m \u001b[38;5;28mself\u001b[39m.state.stopped\n",
            "\u001b[36mFile \u001b[39m\u001b[32mD:\\jupyter\\Lib\\site-packages\\lightning\\pytorch\\trainer\\trainer.py:1012\u001b[39m, in \u001b[36mTrainer._run\u001b[39m\u001b[34m(self, model, ckpt_path)\u001b[39m\n\u001b[32m   1009\u001b[39m \u001b[38;5;66;03m# ----------------------------\u001b[39;00m\n\u001b[32m   1010\u001b[39m \u001b[38;5;66;03m# RUN THE TRAINER\u001b[39;00m\n\u001b[32m   1011\u001b[39m \u001b[38;5;66;03m# ----------------------------\u001b[39;00m\n\u001b[32m-> \u001b[39m\u001b[32m1012\u001b[39m results = \u001b[38;5;28mself\u001b[39m._run_stage()\n\u001b[32m   1014\u001b[39m \u001b[38;5;66;03m# ----------------------------\u001b[39;00m\n\u001b[32m   1015\u001b[39m \u001b[38;5;66;03m# POST-Training CLEAN UP\u001b[39;00m\n\u001b[32m   1016\u001b[39m \u001b[38;5;66;03m# ----------------------------\u001b[39;00m\n",
            "\u001b[36mFile \u001b[39m\u001b[32mD:\\jupyter\\Lib\\site-packages\\lightning\\pytorch\\trainer\\trainer.py:1056\u001b[39m, in \u001b[36mTrainer._run_stage\u001b[39m\u001b[34m(self)\u001b[39m\n\u001b[32m   1055\u001b[39m \u001b[38;5;28;01mwith\u001b[39;00m torch.autograd.set_detect_anomaly(\u001b[38;5;28mself\u001b[39m._detect_anomaly):\n\u001b[32m-> \u001b[39m\u001b[32m1056\u001b[39m     \u001b[38;5;28mself\u001b[39m.fit_loop.run()\n\u001b[32m   1057\u001b[39m \u001b[38;5;28;01mreturn\u001b[39;00m \u001b[38;5;28;01mNone\u001b[39;00m\n",
            "\u001b[36mFile \u001b[39m\u001b[32mD:\\jupyter\\Lib\\site-packages\\lightning\\pytorch\\loops\\fit_loop.py:217\u001b[39m, in \u001b[36m_FitLoop.run\u001b[39m\u001b[34m(self)\u001b[39m\n\u001b[32m    216\u001b[39m     \u001b[38;5;28mself\u001b[39m.advance()\n\u001b[32m--> \u001b[39m\u001b[32m217\u001b[39m     \u001b[38;5;28mself\u001b[39m.on_advance_end()\n\u001b[32m    218\u001b[39m \u001b[38;5;28;01mexcept\u001b[39;00m \u001b[38;5;167;01mStopIteration\u001b[39;00m:\n",
            "\u001b[36mFile \u001b[39m\u001b[32mD:\\jupyter\\Lib\\site-packages\\lightning\\pytorch\\loops\\fit_loop.py:469\u001b[39m, in \u001b[36m_FitLoop.on_advance_end\u001b[39m\u001b[34m(self)\u001b[39m\n\u001b[32m    468\u001b[39m call._call_callback_hooks(trainer, \u001b[33m\"\u001b[39m\u001b[33mon_train_epoch_end\u001b[39m\u001b[33m\"\u001b[39m, monitoring_callbacks=\u001b[38;5;28;01mFalse\u001b[39;00m)\n\u001b[32m--> \u001b[39m\u001b[32m469\u001b[39m call._call_lightning_module_hook(trainer, \u001b[33m\"\u001b[39m\u001b[33mon_train_epoch_end\u001b[39m\u001b[33m\"\u001b[39m)\n\u001b[32m    470\u001b[39m call._call_callback_hooks(trainer, \u001b[33m\"\u001b[39m\u001b[33mon_train_epoch_end\u001b[39m\u001b[33m\"\u001b[39m, monitoring_callbacks=\u001b[38;5;28;01mTrue\u001b[39;00m)\n",
            "\u001b[36mFile \u001b[39m\u001b[32mD:\\jupyter\\Lib\\site-packages\\lightning\\pytorch\\trainer\\call.py:176\u001b[39m, in \u001b[36m_call_lightning_module_hook\u001b[39m\u001b[34m(trainer, hook_name, pl_module, *args, **kwargs)\u001b[39m\n\u001b[32m    175\u001b[39m \u001b[38;5;28;01mwith\u001b[39;00m trainer.profiler.profile(\u001b[33mf\u001b[39m\u001b[33m\"\u001b[39m\u001b[33m[LightningModule]\u001b[39m\u001b[38;5;132;01m{\u001b[39;00mpl_module.\u001b[34m__class__\u001b[39m.\u001b[34m__name__\u001b[39m\u001b[38;5;132;01m}\u001b[39;00m\u001b[33m.\u001b[39m\u001b[38;5;132;01m{\u001b[39;00mhook_name\u001b[38;5;132;01m}\u001b[39;00m\u001b[33m\"\u001b[39m):\n\u001b[32m--> \u001b[39m\u001b[32m176\u001b[39m     output = fn(*args, **kwargs)\n\u001b[32m    178\u001b[39m \u001b[38;5;66;03m# restore current_fx when nested context\u001b[39;00m\n",
            "\u001b[36mFile \u001b[39m\u001b[32mD:\\jupyter\\Lib\\site-packages\\pytorch_forecasting\\models\\base\\_base_model.py:722\u001b[39m, in \u001b[36mBaseModel.on_train_epoch_end\u001b[39m\u001b[34m(self)\u001b[39m\n\u001b[32m    721\u001b[39m \u001b[38;5;28mself\u001b[39m.on_epoch_end(\u001b[38;5;28mself\u001b[39m.training_step_outputs)\n\u001b[32m--> \u001b[39m\u001b[32m722\u001b[39m \u001b[38;5;28mself\u001b[39m.training_step_outputs.clear()\n",
            "\u001b[31mKeyboardInterrupt\u001b[39m: ",
            "\nDuring handling of the above exception, another exception occurred:\n",
            "\u001b[31mNameError\u001b[39m                                 Traceback (most recent call last)",
            "\u001b[36mCell\u001b[39m\u001b[36m \u001b[39m\u001b[32mIn[44]\u001b[39m\u001b[32m, line 29\u001b[39m\n\u001b[32m     13\u001b[39m tft = TemporalFusionTransformer.from_dataset(\n\u001b[32m     14\u001b[39m     training,\n\u001b[32m     15\u001b[39m     learning_rate=\u001b[32m0.03\u001b[39m,\n\u001b[32m   (...)\u001b[39m\u001b[32m     21\u001b[39m     optimizer=\u001b[33m\"\u001b[39m\u001b[33mranger\u001b[39m\u001b[33m\"\u001b[39m,\n\u001b[32m     22\u001b[39m )\n\u001b[32m     23\u001b[39m trainer = Trainer(\n\u001b[32m     24\u001b[39m     max_epochs=\u001b[32m8\u001b[39m,\n\u001b[32m     25\u001b[39m     gradient_clip_val=\u001b[32m0.1\u001b[39m,\n\u001b[32m     26\u001b[39m     accelerator=\u001b[33m\"\u001b[39m\u001b[33mauto\u001b[39m\u001b[33m\"\u001b[39m,\n\u001b[32m     27\u001b[39m )\n\u001b[32m---> \u001b[39m\u001b[32m29\u001b[39m trainer.fit(\n\u001b[32m     30\u001b[39m     tft,\n\u001b[32m     31\u001b[39m     train_dataloaders=train_dataloader,\n\u001b[32m     32\u001b[39m     val_dataloaders=val_dataloader\n\u001b[32m     33\u001b[39m )\n",
            "\u001b[36mFile \u001b[39m\u001b[32mD:\\jupyter\\Lib\\site-packages\\lightning\\pytorch\\trainer\\trainer.py:561\u001b[39m, in \u001b[36mTrainer.fit\u001b[39m\u001b[34m(self, model, train_dataloaders, val_dataloaders, datamodule, ckpt_path)\u001b[39m\n\u001b[32m    559\u001b[39m \u001b[38;5;28mself\u001b[39m.training = \u001b[38;5;28;01mTrue\u001b[39;00m\n\u001b[32m    560\u001b[39m \u001b[38;5;28mself\u001b[39m.should_stop = \u001b[38;5;28;01mFalse\u001b[39;00m\n\u001b[32m--> \u001b[39m\u001b[32m561\u001b[39m call._call_and_handle_interrupt(\n\u001b[32m    562\u001b[39m     \u001b[38;5;28mself\u001b[39m, \u001b[38;5;28mself\u001b[39m._fit_impl, model, train_dataloaders, val_dataloaders, datamodule, ckpt_path\n\u001b[32m    563\u001b[39m )\n",
            "\u001b[36mFile \u001b[39m\u001b[32mD:\\jupyter\\Lib\\site-packages\\lightning\\pytorch\\trainer\\call.py:65\u001b[39m, in \u001b[36m_call_and_handle_interrupt\u001b[39m\u001b[34m(trainer, trainer_fn, *args, **kwargs)\u001b[39m\n\u001b[32m     63\u001b[39m     \u001b[38;5;28;01mif\u001b[39;00m \u001b[38;5;28misinstance\u001b[39m(launcher, _SubprocessScriptLauncher):\n\u001b[32m     64\u001b[39m         launcher.kill(_get_sigkill_signal())\n\u001b[32m---> \u001b[39m\u001b[32m65\u001b[39m     exit(\u001b[32m1\u001b[39m)\n\u001b[32m     67\u001b[39m \u001b[38;5;28;01mexcept\u001b[39;00m \u001b[38;5;167;01mBaseException\u001b[39;00m \u001b[38;5;28;01mas\u001b[39;00m exception:\n\u001b[32m     68\u001b[39m     _interrupt(trainer, exception)\n",
            "\u001b[31mNameError\u001b[39m: name 'exit' is not defined"
          ]
        }
      ],
      "source": [
        "from pytorch_forecasting import TemporalFusionTransformer\n",
        "from lightning.pytorch import Trainer\n",
        "import pytorch_lightning as pl\n",
        "from pytorch_forecasting.metrics import RMSE\n",
        "\n",
        "pl.seed_everything(42)\n",
        "trainer = Trainer(\n",
        "    accelerator=\"cpu\",\n",
        "    gradient_clip_val=0.1,\n",
        ")\n",
        "\n",
        "\n",
        "tft = TemporalFusionTransformer.from_dataset(\n",
        "    training,\n",
        "    learning_rate=0.03,\n",
        "    hidden_size=8,\n",
        "    attention_head_size=1,\n",
        "    dropout=0.1,\n",
        "    hidden_continuous_size=8,\n",
        "    loss=RMSE(),\n",
        "    optimizer=\"ranger\",\n",
        ")\n",
        "trainer = Trainer(\n",
        "    max_epochs=8,\n",
        "    gradient_clip_val=0.1,\n",
        "    accelerator=\"auto\",\n",
        ")\n",
        "\n",
        "trainer.fit(\n",
        "    tft,\n",
        "    train_dataloaders=train_dataloader,\n",
        "    val_dataloaders=val_dataloader\n",
        ")"
      ]
    },
    {
      "cell_type": "code",
      "execution_count": null,
      "metadata": {
        "id": "xMGMu-gLmNgl",
        "outputId": "cd685302-bd26-43d2-f0d1-711a43c5d2cb"
      },
      "outputs": [
        {
          "name": "stdout",
          "output_type": "stream",
          "text": [
            "Validation DataLoader 0: 100%|█████████████████████████████████████████████████████████| 85/85 [00:07<00:00, 11.87it/s]\n"
          ]
        },
        {
          "data": {
            "text/html": [
              "<pre style=\"white-space:pre;overflow-x:auto;line-height:normal;font-family:Menlo,'DejaVu Sans Mono',consolas,'Courier New',monospace\">┏━━━━━━━━━━━━━━━━━━━━━━━━━━━┳━━━━━━━━━━━━━━━━━━━━━━━━━━━┓\n",
              "┃<span style=\"font-weight: bold\">      Validate metric      </span>┃<span style=\"font-weight: bold\">       DataLoader 0        </span>┃\n",
              "┡━━━━━━━━━━━━━━━━━━━━━━━━━━━╇━━━━━━━━━━━━━━━━━━━━━━━━━━━┩\n",
              "│<span style=\"color: #008080; text-decoration-color: #008080\">          val_MAE          </span>│<span style=\"color: #800080; text-decoration-color: #800080\">    0.4245656132698059     </span>│\n",
              "│<span style=\"color: #008080; text-decoration-color: #008080\">         val_MAPE          </span>│<span style=\"color: #800080; text-decoration-color: #800080\">        26861728.0         </span>│\n",
              "│<span style=\"color: #008080; text-decoration-color: #008080\">         val_RMSE          </span>│<span style=\"color: #800080; text-decoration-color: #800080\">    1.5108563899993896     </span>│\n",
              "│<span style=\"color: #008080; text-decoration-color: #008080\">         val_SMAPE         </span>│<span style=\"color: #800080; text-decoration-color: #800080\">    1.9773398637771606     </span>│\n",
              "│<span style=\"color: #008080; text-decoration-color: #008080\">         val_loss          </span>│<span style=\"color: #800080; text-decoration-color: #800080\">    1.5108563899993896     </span>│\n",
              "└───────────────────────────┴───────────────────────────┘\n",
              "</pre>\n"
            ],
            "text/plain": [
              "┏━━━━━━━━━━━━━━━━━━━━━━━━━━━┳━━━━━━━━━━━━━━━━━━━━━━━━━━━┓\n",
              "┃\u001b[1m \u001b[0m\u001b[1m     Validate metric     \u001b[0m\u001b[1m \u001b[0m┃\u001b[1m \u001b[0m\u001b[1m      DataLoader 0       \u001b[0m\u001b[1m \u001b[0m┃\n",
              "┡━━━━━━━━━━━━━━━━━━━━━━━━━━━╇━━━━━━━━━━━━━━━━━━━━━━━━━━━┩\n",
              "│\u001b[36m \u001b[0m\u001b[36m         val_MAE         \u001b[0m\u001b[36m \u001b[0m│\u001b[35m \u001b[0m\u001b[35m   0.4245656132698059    \u001b[0m\u001b[35m \u001b[0m│\n",
              "│\u001b[36m \u001b[0m\u001b[36m        val_MAPE         \u001b[0m\u001b[36m \u001b[0m│\u001b[35m \u001b[0m\u001b[35m       26861728.0        \u001b[0m\u001b[35m \u001b[0m│\n",
              "│\u001b[36m \u001b[0m\u001b[36m        val_RMSE         \u001b[0m\u001b[36m \u001b[0m│\u001b[35m \u001b[0m\u001b[35m   1.5108563899993896    \u001b[0m\u001b[35m \u001b[0m│\n",
              "│\u001b[36m \u001b[0m\u001b[36m        val_SMAPE        \u001b[0m\u001b[36m \u001b[0m│\u001b[35m \u001b[0m\u001b[35m   1.9773398637771606    \u001b[0m\u001b[35m \u001b[0m│\n",
              "│\u001b[36m \u001b[0m\u001b[36m        val_loss         \u001b[0m\u001b[36m \u001b[0m│\u001b[35m \u001b[0m\u001b[35m   1.5108563899993896    \u001b[0m\u001b[35m \u001b[0m│\n",
              "└───────────────────────────┴───────────────────────────┘\n"
            ]
          },
          "metadata": {},
          "output_type": "display_data"
        },
        {
          "data": {
            "text/plain": [
              "[{'val_loss': 1.5108563899993896,\n",
              "  'val_SMAPE': 1.9773398637771606,\n",
              "  'val_MAE': 0.4245656132698059,\n",
              "  'val_RMSE': 1.5108563899993896,\n",
              "  'val_MAPE': 26861728.0}]"
            ]
          },
          "execution_count": 46,
          "metadata": {},
          "output_type": "execute_result"
        }
      ],
      "source": [
        "trainer.validate(tft, dataloaders=val_dataloader)"
      ]
    },
    {
      "cell_type": "code",
      "execution_count": null,
      "metadata": {
        "id": "nwOmxxQOmNgl"
      },
      "outputs": [],
      "source": [
        "trainer.save_checkpoint(\"tft_checkpoint.ckpt\")"
      ]
    },
    {
      "cell_type": "code",
      "execution_count": null,
      "metadata": {
        "id": "Qu8FOLzSmNgl",
        "outputId": "bd8174bc-63db-4553-f0bd-56afe93d2956"
      },
      "outputs": [
        {
          "name": "stdout",
          "output_type": "stream",
          "text": [
            "Epoch 0:   7%|██▎                              | 96/1335 [3:02:13<39:11:49,  0.01it/s, v_num=11, train_loss_step=34.90]\n"
          ]
        }
      ],
      "source": [
        "tft_imported = TemporalFusionTransformer.load_from_checkpoint(\"tft_checkpoint.ckpt\")"
      ]
    },
    {
      "cell_type": "code",
      "execution_count": null,
      "metadata": {
        "id": "dtMXAEFgmNgl",
        "outputId": "60f89c4f-908a-4385-c0aa-c0f65132bbc1"
      },
      "outputs": [
        {
          "name": "stderr",
          "output_type": "stream",
          "text": [
            "D:\\jupyter\\Lib\\site-packages\\lightning\\pytorch\\trainer\\connectors\\data_connector.py:425: The 'val_dataloader' does not have many workers which may be a bottleneck. Consider increasing the value of the `num_workers` argument` to `num_workers=7` in the `DataLoader` to improve performance.\n"
          ]
        },
        {
          "name": "stdout",
          "output_type": "stream",
          "text": [
            "Validation DataLoader 0: 100%|█████████████████████████████████████████████████████████| 85/85 [00:07<00:00, 11.56it/s]\n"
          ]
        },
        {
          "data": {
            "text/html": [
              "<pre style=\"white-space:pre;overflow-x:auto;line-height:normal;font-family:Menlo,'DejaVu Sans Mono',consolas,'Courier New',monospace\">┏━━━━━━━━━━━━━━━━━━━━━━━━━━━┳━━━━━━━━━━━━━━━━━━━━━━━━━━━┓\n",
              "┃<span style=\"font-weight: bold\">      Validate metric      </span>┃<span style=\"font-weight: bold\">       DataLoader 0        </span>┃\n",
              "┡━━━━━━━━━━━━━━━━━━━━━━━━━━━╇━━━━━━━━━━━━━━━━━━━━━━━━━━━┩\n",
              "│<span style=\"color: #008080; text-decoration-color: #008080\">          val_MAE          </span>│<span style=\"color: #800080; text-decoration-color: #800080\">    0.4245656132698059     </span>│\n",
              "│<span style=\"color: #008080; text-decoration-color: #008080\">         val_MAPE          </span>│<span style=\"color: #800080; text-decoration-color: #800080\">        26861728.0         </span>│\n",
              "│<span style=\"color: #008080; text-decoration-color: #008080\">         val_RMSE          </span>│<span style=\"color: #800080; text-decoration-color: #800080\">    1.5108563899993896     </span>│\n",
              "│<span style=\"color: #008080; text-decoration-color: #008080\">         val_SMAPE         </span>│<span style=\"color: #800080; text-decoration-color: #800080\">    1.9773398637771606     </span>│\n",
              "│<span style=\"color: #008080; text-decoration-color: #008080\">         val_loss          </span>│<span style=\"color: #800080; text-decoration-color: #800080\">    1.5108563899993896     </span>│\n",
              "└───────────────────────────┴───────────────────────────┘\n",
              "</pre>\n"
            ],
            "text/plain": [
              "┏━━━━━━━━━━━━━━━━━━━━━━━━━━━┳━━━━━━━━━━━━━━━━━━━━━━━━━━━┓\n",
              "┃\u001b[1m \u001b[0m\u001b[1m     Validate metric     \u001b[0m\u001b[1m \u001b[0m┃\u001b[1m \u001b[0m\u001b[1m      DataLoader 0       \u001b[0m\u001b[1m \u001b[0m┃\n",
              "┡━━━━━━━━━━━━━━━━━━━━━━━━━━━╇━━━━━━━━━━━━━━━━━━━━━━━━━━━┩\n",
              "│\u001b[36m \u001b[0m\u001b[36m         val_MAE         \u001b[0m\u001b[36m \u001b[0m│\u001b[35m \u001b[0m\u001b[35m   0.4245656132698059    \u001b[0m\u001b[35m \u001b[0m│\n",
              "│\u001b[36m \u001b[0m\u001b[36m        val_MAPE         \u001b[0m\u001b[36m \u001b[0m│\u001b[35m \u001b[0m\u001b[35m       26861728.0        \u001b[0m\u001b[35m \u001b[0m│\n",
              "│\u001b[36m \u001b[0m\u001b[36m        val_RMSE         \u001b[0m\u001b[36m \u001b[0m│\u001b[35m \u001b[0m\u001b[35m   1.5108563899993896    \u001b[0m\u001b[35m \u001b[0m│\n",
              "│\u001b[36m \u001b[0m\u001b[36m        val_SMAPE        \u001b[0m\u001b[36m \u001b[0m│\u001b[35m \u001b[0m\u001b[35m   1.9773398637771606    \u001b[0m\u001b[35m \u001b[0m│\n",
              "│\u001b[36m \u001b[0m\u001b[36m        val_loss         \u001b[0m\u001b[36m \u001b[0m│\u001b[35m \u001b[0m\u001b[35m   1.5108563899993896    \u001b[0m\u001b[35m \u001b[0m│\n",
              "└───────────────────────────┴───────────────────────────┘\n"
            ]
          },
          "metadata": {},
          "output_type": "display_data"
        },
        {
          "data": {
            "text/plain": [
              "[{'val_loss': 1.5108563899993896,\n",
              "  'val_SMAPE': 1.9773398637771606,\n",
              "  'val_MAE': 0.4245656132698059,\n",
              "  'val_RMSE': 1.5108563899993896,\n",
              "  'val_MAPE': 26861728.0}]"
            ]
          },
          "execution_count": 53,
          "metadata": {},
          "output_type": "execute_result"
        }
      ],
      "source": [
        "trainer.validate(tft_imported, dataloaders=val_dataloader)"
      ]
    },
    {
      "cell_type": "markdown",
      "metadata": {
        "id": "uwlkaEx6mNgm"
      },
      "source": [
        "# Поиск оптимального сочетания цен с помощью Байесовской оптимизации"
      ]
    },
    {
      "cell_type": "code",
      "execution_count": null,
      "metadata": {
        "id": "QH6v97qsmNgm",
        "outputId": "9773c47d-cef6-444b-d9fa-f48cfc92c108"
      },
      "outputs": [
        {
          "data": {
            "text/plain": [
              "Sku (Sku)\n",
              "733215431    3\n",
              "Name: sales, dtype: int64"
            ]
          },
          "execution_count": 283,
          "metadata": {},
          "output_type": "execute_result"
        }
      ],
      "source": [
        "df_nn.groupby('Sku (Sku)')['sales'].nunique().sample()"
      ]
    },
    {
      "cell_type": "code",
      "execution_count": null,
      "metadata": {
        "id": "nVsuDGFJmNgm",
        "outputId": "ff4fd7b7-99d2-4ab7-a824-43e2ba386cda"
      },
      "outputs": [
        {
          "name": "stderr",
          "output_type": "stream",
          "text": [
            "D:\\jupyter\\Lib\\site-packages\\lightning\\pytorch\\trainer\\connectors\\data_connector.py:425: The 'predict_dataloader' does not have many workers which may be a bottleneck. Consider increasing the value of the `num_workers` argument` to `num_workers=7` in the `DataLoader` to improve performance.\n"
          ]
        },
        {
          "data": {
            "text/plain": [
              "tensor([0.4391, 0.4835, 0.4791, 0.5475, 0.5430, 0.5383, 0.5330, 0.5680, 0.5629,\n",
              "        0.5221, 0.5176, 0.5073, 0.5028, 0.5538, 0.5491, 0.5019, 0.4973, 0.4876,\n",
              "        0.4826])"
            ]
          },
          "execution_count": 378,
          "metadata": {},
          "output_type": "execute_result"
        }
      ],
      "source": [
        "tft.predict(\n",
        "    training.filter(lambda x: x['Sku (Sku)'] == 733215431), #.to_dataloader(train=False, batch_size=64),\n",
        "    trainer_kwargs=dict(accelerator=\"cpu\"),\n",
        ").mean(1)"
      ]
    },
    {
      "cell_type": "code",
      "execution_count": null,
      "metadata": {
        "scrolled": true,
        "id": "s-Yo6aMKmNgm"
      },
      "outputs": [],
      "source": [
        "df_nn[df_nn['Sku (Sku)'] == 733215431]"
      ]
    },
    {
      "cell_type": "code",
      "execution_count": null,
      "metadata": {
        "id": "56QJV6zmmNgm"
      },
      "outputs": [],
      "source": [
        "sku_id = 733215431\n",
        "sku_df = df_nn[df_nn[\"Sku (Sku)\"] == sku_id].groupby('days_from_min').mean().reset_index().copy()"
      ]
    },
    {
      "cell_type": "code",
      "execution_count": null,
      "metadata": {
        "id": "pvIsQb0NmNgm"
      },
      "outputs": [],
      "source": [
        "preds = tft.predict(sku_df.iloc[:18, :]).numpy()\n",
        "for i in range(1, sku_df.shape[0]-18):\n",
        "    preds = np.vstack([preds, tft.predict(sku_df.iloc[:i+18, :]).numpy()])"
      ]
    },
    {
      "cell_type": "code",
      "execution_count": null,
      "metadata": {
        "id": "grE_238MmNgm",
        "outputId": "fab5e3bd-a975-43ba-d52b-6023334d16ca"
      },
      "outputs": [
        {
          "name": "stdout",
          "output_type": "stream",
          "text": [
            "Выручка при текущей ценовой политике за последние 10 дней: 12527.220984091693\n"
          ]
        }
      ],
      "source": [
        "print(f'Выручка при текущей ценовой политике за последние 10 дней: {(sku_df.iloc[18:, :][['Цена (BasePrice)', 'Цена со скидкой (DiscountPrice)', 'Цена по карте (OzonCardPrice)']].mean(axis=1) * preds.mean(axis=1).clip(0)).sum()}')"
      ]
    },
    {
      "cell_type": "code",
      "execution_count": null,
      "metadata": {
        "id": "Q8SG3klXmNgn"
      },
      "outputs": [],
      "source": [
        "import warnings\n",
        "warnings.filterwarnings(\"ignore\")"
      ]
    },
    {
      "cell_type": "code",
      "execution_count": null,
      "metadata": {
        "id": "qS0aKbaSmNgn"
      },
      "outputs": [],
      "source": [
        "import scipy\n",
        "\n",
        "def kernel(a, b, l=0.1):\n",
        "    d = scipy.spatial.distance.cdist(a/l, b/l, metric='euclidean')\n",
        "    return (1 + 5**0.5 * d + (5/3) * d**2) * np.exp(-5**0.5 * d)"
      ]
    },
    {
      "cell_type": "code",
      "execution_count": null,
      "metadata": {
        "id": "z8tGLcKdmNgn"
      },
      "outputs": [],
      "source": [
        "def posterior(X_s, X_train, Y_train, l=1, sigma_y=0.01):\n",
        "\n",
        "    K = kernel(X_train, X_train, l) + sigma_y**2 * np.eye(len(X_train))\n",
        "    K_s = kernel(X_train, X_s, l)\n",
        "    K_ss = kernel(X_s, X_s, l) + 0.01 * np.eye(len(X_s))\n",
        "    K_inv = np.linalg.inv(K)\n",
        "\n",
        "    mu_s = K_s.T.dot(K_inv).dot(Y_train)\n",
        "\n",
        "    cov_s = K_ss - K_s.T.dot(K_inv).dot(K_s)\n",
        "\n",
        "    return mu_s, cov_s"
      ]
    },
    {
      "cell_type": "code",
      "execution_count": null,
      "metadata": {
        "id": "a7PjHpsJmNgn"
      },
      "outputs": [],
      "source": [
        "def expected_improvement(X, X_sample, Y_sample, beta=3, **kwargs):\n",
        "    mu, cov = posterior(X, X_sample, Y_sample, l=l_param, sigma_y=0.01)\n",
        "    sigma = np.sqrt(np.diag(cov))\n",
        "\n",
        "    return mu + beta * sigma"
      ]
    },
    {
      "cell_type": "code",
      "execution_count": null,
      "metadata": {
        "id": "MeQSFzcnmNgn"
      },
      "outputs": [],
      "source": [
        "def propose_location(acquisition, X_sample, Y_sample, bounds, n_restarts=10):\n",
        "\n",
        "    dim = X_sample.shape[1]\n",
        "    min_val = 1\n",
        "    min_x = None\n",
        "\n",
        "    def min_obj(X):\n",
        "\n",
        "        return -acquisition(X.reshape(-1, dim), X_sample, Y_sample).flatten().mean()\n",
        "\n",
        "    for x0 in np.random.uniform(bounds[:, 0], bounds[:, 1], size=(n_restarts, dim)):\n",
        "        res = scipy.optimize.minimize(min_obj, x0=x0, bounds=bounds, method='L-BFGS-B')\n",
        "        if res.fun < min_val:\n",
        "\n",
        "            min_val = res.fun\n",
        "            min_x = res.x\n",
        "\n",
        "    return min_x.reshape(-1, 1)"
      ]
    },
    {
      "cell_type": "code",
      "execution_count": null,
      "metadata": {
        "id": "8rX4XBr6mNgn"
      },
      "outputs": [],
      "source": [
        "def neuro_predict(X, i):\n",
        "    y = []\n",
        "    for j in range(X.shape[0]):\n",
        "        cur_day = pd.DataFrame(sku_df.iloc[i+17, :].copy()).T\n",
        "        cur_day[['Цена (BasePrice)', 'Цена со скидкой (DiscountPrice)', 'Цена по карте (OzonCardPrice)']] = X[j, :]\n",
        "        cur_day['days_from_min'] = cur_day['days_from_min'].astype('int64')\n",
        "        y.append(tft.predict(pd.concat([sku_df.iloc[:i+17, :], cur_day])).numpy().mean(axis=1).clip(0) * X[j, :].mean())\n",
        "    return np.array(y)"
      ]
    },
    {
      "cell_type": "code",
      "execution_count": null,
      "metadata": {
        "scrolled": true,
        "id": "kdMFOemtmNgn",
        "outputId": "98257175-0265-4837-b99a-831168dcb68e"
      },
      "outputs": [
        {
          "name": "stderr",
          "output_type": "stream",
          "text": [
            "\n",
            "\u001b[A%|                                                                                           | 0/20 [00:00<?, ?it/s]\n",
            "\u001b[A%|████▏                                                                              | 1/20 [00:03<01:00,  3.17s/it]\n",
            "\u001b[A%|████████▎                                                                          | 2/20 [00:06<00:55,  3.11s/it]\n",
            "\u001b[A%|████████████▍                                                                      | 3/20 [00:10<00:58,  3.41s/it]\n",
            "\u001b[A%|████████████████▌                                                                  | 4/20 [00:13<00:52,  3.25s/it]\n",
            "\u001b[A%|████████████████████▊                                                              | 5/20 [00:15<00:47,  3.14s/it]\n",
            "\u001b[A%|████████████████████████▉                                                          | 6/20 [00:19<00:47,  3.40s/it]\n",
            "\u001b[A%|█████████████████████████████                                                      | 7/20 [00:22<00:42,  3.27s/it]\n",
            "\u001b[A%|█████████████████████████████████▏                                                 | 8/20 [00:26<00:39,  3.33s/it]\n",
            "\u001b[A%|█████████████████████████████████████▎                                             | 9/20 [00:29<00:35,  3.22s/it]\n",
            "\u001b[A%|█████████████████████████████████████████                                         | 10/20 [00:32<00:31,  3.18s/it]\n",
            "\u001b[A%|█████████████████████████████████████████████                                     | 11/20 [00:35<00:29,  3.29s/it]\n",
            "\u001b[A%|█████████████████████████████████████████████████▏                                | 12/20 [00:38<00:25,  3.18s/it]\n",
            "\u001b[A%|█████████████████████████████████████████████████████▎                            | 13/20 [00:41<00:21,  3.13s/it]\n",
            "\u001b[A%|█████████████████████████████████████████████████████████▍                        | 14/20 [00:44<00:18,  3.04s/it]\n",
            "\u001b[A%|█████████████████████████████████████████████████████████████▌                    | 15/20 [00:47<00:15,  3.09s/it]\n",
            "\u001b[A%|█████████████████████████████████████████████████████████████████▌                | 16/20 [00:51<00:12,  3.23s/it]\n",
            "\u001b[A%|█████████████████████████████████████████████████████████████████████▋            | 17/20 [00:54<00:09,  3.32s/it]\n",
            "\u001b[A%|█████████████████████████████████████████████████████████████████████████▊        | 18/20 [00:57<00:06,  3.18s/it]\n",
            "\u001b[A%|█████████████████████████████████████████████████████████████████████████████▉    | 19/20 [01:00<00:03,  3.08s/it]\n",
            "100%|██████████████████████████████████████████████████████████████████████████████████| 20/20 [01:04<00:00,  3.23s/it]\n",
            "\n",
            "\u001b[A%|                                                                                           | 0/20 [00:00<?, ?it/s]\n",
            "\u001b[A%|████▏                                                                              | 1/20 [00:03<01:00,  3.19s/it]\n",
            "\u001b[A%|████████▎                                                                          | 2/20 [00:06<00:55,  3.06s/it]\n",
            "\u001b[A%|████████████▍                                                                      | 3/20 [00:09<00:53,  3.13s/it]\n",
            "\u001b[A%|████████████████▌                                                                  | 4/20 [00:12<00:52,  3.26s/it]\n",
            "\u001b[A%|████████████████████▊                                                              | 5/20 [00:16<00:50,  3.34s/it]\n",
            "\u001b[A%|████████████████████████▉                                                          | 6/20 [00:19<00:45,  3.27s/it]\n",
            "\u001b[A%|█████████████████████████████                                                      | 7/20 [00:22<00:42,  3.28s/it]\n",
            "\u001b[A%|█████████████████████████████████▏                                                 | 8/20 [00:25<00:38,  3.22s/it]\n",
            "\u001b[A%|█████████████████████████████████████▎                                             | 9/20 [00:29<00:37,  3.42s/it]\n",
            "\u001b[A%|█████████████████████████████████████████                                         | 10/20 [00:33<00:34,  3.44s/it]\n",
            "\u001b[A%|█████████████████████████████████████████████                                     | 11/20 [00:36<00:31,  3.51s/it]\n",
            "\u001b[A%|█████████████████████████████████████████████████▏                                | 12/20 [00:39<00:26,  3.36s/it]\n",
            "\u001b[A%|█████████████████████████████████████████████████████▎                            | 13/20 [00:43<00:23,  3.33s/it]\n",
            "\u001b[A%|█████████████████████████████████████████████████████████▍                        | 14/20 [00:46<00:19,  3.20s/it]\n",
            "\u001b[A%|█████████████████████████████████████████████████████████████▌                    | 15/20 [00:49<00:16,  3.26s/it]\n",
            "\u001b[A%|█████████████████████████████████████████████████████████████████▌                | 16/20 [00:52<00:13,  3.34s/it]\n",
            "\u001b[A%|█████████████████████████████████████████████████████████████████████▋            | 17/20 [00:56<00:09,  3.30s/it]\n",
            "\u001b[A%|█████████████████████████████████████████████████████████████████████████▊        | 18/20 [00:59<00:06,  3.26s/it]\n",
            "\u001b[A%|█████████████████████████████████████████████████████████████████████████████▉    | 19/20 [01:02<00:03,  3.22s/it]\n",
            "100%|██████████████████████████████████████████████████████████████████████████████████| 20/20 [01:06<00:00,  3.32s/it]\n",
            "\n",
            "\u001b[A%|                                                                                           | 0/20 [00:00<?, ?it/s]\n",
            "\u001b[A%|████▏                                                                              | 1/20 [00:03<00:58,  3.09s/it]\n",
            "\u001b[A%|████████▎                                                                          | 2/20 [00:06<00:59,  3.29s/it]\n",
            "\u001b[A%|████████████▍                                                                      | 3/20 [00:09<00:56,  3.32s/it]\n",
            "\u001b[A%|████████████████▌                                                                  | 4/20 [00:12<00:51,  3.21s/it]\n",
            "\u001b[A%|████████████████████▊                                                              | 5/20 [00:16<00:47,  3.19s/it]\n",
            "\u001b[A%|████████████████████████▉                                                          | 6/20 [00:19<00:44,  3.15s/it]\n",
            "\u001b[A%|█████████████████████████████                                                      | 7/20 [00:22<00:42,  3.27s/it]\n",
            "\u001b[A%|█████████████████████████████████▏                                                 | 8/20 [00:25<00:37,  3.16s/it]\n",
            "\u001b[A%|█████████████████████████████████████▎                                             | 9/20 [00:29<00:35,  3.25s/it]\n",
            "\u001b[A%|█████████████████████████████████████████                                         | 10/20 [00:32<00:34,  3.46s/it]\n",
            "\u001b[A%|█████████████████████████████████████████████                                     | 11/20 [00:36<00:30,  3.40s/it]\n",
            "\u001b[A%|█████████████████████████████████████████████████▏                                | 12/20 [00:40<00:28,  3.55s/it]\n",
            "\u001b[A%|█████████████████████████████████████████████████████▎                            | 13/20 [00:43<00:25,  3.58s/it]\n",
            "\u001b[A%|█████████████████████████████████████████████████████████▍                        | 14/20 [00:46<00:20,  3.45s/it]\n",
            "\u001b[A%|█████████████████████████████████████████████████████████████▌                    | 15/20 [00:50<00:16,  3.36s/it]\n",
            "\u001b[A%|█████████████████████████████████████████████████████████████████▌                | 16/20 [00:53<00:13,  3.27s/it]\n",
            "\u001b[A%|█████████████████████████████████████████████████████████████████████▋            | 17/20 [00:56<00:09,  3.19s/it]\n",
            "\u001b[A%|█████████████████████████████████████████████████████████████████████████▊        | 18/20 [00:59<00:06,  3.28s/it]\n",
            "\u001b[A%|█████████████████████████████████████████████████████████████████████████████▉    | 19/20 [01:02<00:03,  3.19s/it]\n",
            "100%|██████████████████████████████████████████████████████████████████████████████████| 20/20 [01:05<00:00,  3.28s/it]\n",
            "\n",
            "\u001b[A%|                                                                                           | 0/20 [00:00<?, ?it/s]\n",
            "\u001b[A%|████▏                                                                              | 1/20 [00:02<00:55,  2.92s/it]\n",
            "\u001b[A%|████████▎                                                                          | 2/20 [00:06<00:55,  3.07s/it]\n",
            "\u001b[A%|████████████▍                                                                      | 3/20 [00:09<00:51,  3.00s/it]\n",
            "\u001b[A%|████████████████▌                                                                  | 4/20 [00:11<00:47,  2.94s/it]\n",
            "\u001b[A%|████████████████████▊                                                              | 5/20 [00:15<00:45,  3.05s/it]\n",
            "\u001b[A%|████████████████████████▉                                                          | 6/20 [00:17<00:41,  2.99s/it]\n",
            "\u001b[A%|█████████████████████████████                                                      | 7/20 [00:21<00:39,  3.06s/it]\n",
            "\u001b[A%|█████████████████████████████████▏                                                 | 8/20 [00:24<00:36,  3.05s/it]\n",
            "\u001b[A%|█████████████████████████████████████▎                                             | 9/20 [00:27<00:33,  3.08s/it]\n",
            "\u001b[A%|█████████████████████████████████████████                                         | 10/20 [00:30<00:30,  3.06s/it]\n",
            "\u001b[A%|█████████████████████████████████████████████                                     | 11/20 [00:33<00:28,  3.15s/it]\n",
            "\u001b[A%|█████████████████████████████████████████████████▏                                | 12/20 [00:36<00:24,  3.12s/it]\n",
            "\u001b[A%|█████████████████████████████████████████████████████▎                            | 13/20 [00:39<00:21,  3.08s/it]\n",
            "\u001b[A%|█████████████████████████████████████████████████████████▍                        | 14/20 [00:42<00:18,  3.11s/it]\n",
            "\u001b[A%|█████████████████████████████████████████████████████████████▌                    | 15/20 [00:46<00:15,  3.15s/it]\n",
            "\u001b[A%|█████████████████████████████████████████████████████████████████▌                | 16/20 [00:50<00:13,  3.50s/it]\n",
            "\u001b[A%|█████████████████████████████████████████████████████████████████████▋            | 17/20 [00:53<00:10,  3.48s/it]\n",
            "\u001b[A%|█████████████████████████████████████████████████████████████████████████▊        | 18/20 [00:57<00:06,  3.39s/it]\n",
            "\u001b[A%|█████████████████████████████████████████████████████████████████████████████▉    | 19/20 [01:00<00:03,  3.32s/it]\n",
            "100%|██████████████████████████████████████████████████████████████████████████████████| 20/20 [01:03<00:00,  3.17s/it]\n",
            "\n",
            "\u001b[A%|                                                                                           | 0/20 [00:00<?, ?it/s]\n",
            "\u001b[A%|████▏                                                                              | 1/20 [00:03<01:04,  3.40s/it]\n",
            "\u001b[A%|████████▎                                                                          | 2/20 [00:06<00:57,  3.21s/it]\n",
            "\u001b[A%|████████████▍                                                                      | 3/20 [00:10<00:58,  3.46s/it]\n",
            "\u001b[A%|████████████████▌                                                                  | 4/20 [00:13<00:54,  3.39s/it]\n",
            "\u001b[A%|████████████████████▊                                                              | 5/20 [00:16<00:49,  3.29s/it]\n",
            "\u001b[A%|████████████████████████▉                                                          | 6/20 [00:19<00:45,  3.22s/it]\n",
            "\u001b[A%|█████████████████████████████                                                      | 7/20 [00:22<00:41,  3.19s/it]\n",
            "\u001b[A%|█████████████████████████████████▏                                                 | 8/20 [00:25<00:36,  3.06s/it]\n",
            "\u001b[A%|█████████████████████████████████████▎                                             | 9/20 [00:29<00:35,  3.21s/it]\n",
            "\u001b[A%|█████████████████████████████████████████                                         | 10/20 [00:32<00:31,  3.16s/it]\n",
            "\u001b[A%|█████████████████████████████████████████████                                     | 11/20 [00:35<00:27,  3.09s/it]\n",
            "\u001b[A%|█████████████████████████████████████████████████▏                                | 12/20 [00:38<00:24,  3.08s/it]\n",
            "\u001b[A%|█████████████████████████████████████████████████████▎                            | 13/20 [00:41<00:21,  3.04s/it]\n",
            "\u001b[A%|█████████████████████████████████████████████████████████▍                        | 14/20 [00:44<00:18,  3.11s/it]\n",
            "\u001b[A%|█████████████████████████████████████████████████████████████▌                    | 15/20 [00:47<00:15,  3.06s/it]\n",
            "\u001b[A%|█████████████████████████████████████████████████████████████████▌                | 16/20 [00:51<00:13,  3.33s/it]\n",
            "\u001b[A%|█████████████████████████████████████████████████████████████████████▋            | 17/20 [00:54<00:10,  3.41s/it]\n",
            "\u001b[A%|█████████████████████████████████████████████████████████████████████████▊        | 18/20 [00:58<00:06,  3.32s/it]\n",
            "\u001b[A%|█████████████████████████████████████████████████████████████████████████████▉    | 19/20 [01:01<00:03,  3.33s/it]\n",
            "100%|██████████████████████████████████████████████████████████████████████████████████| 20/20 [01:05<00:00,  3.26s/it]\n",
            "\n",
            "\u001b[A%|                                                                                           | 0/20 [00:00<?, ?it/s]\n",
            "\u001b[A%|████▏                                                                              | 1/20 [00:03<01:05,  3.43s/it]\n",
            "\u001b[A%|████████▎                                                                          | 2/20 [00:06<00:57,  3.20s/it]\n",
            "\u001b[A%|████████████▍                                                                      | 3/20 [00:09<00:56,  3.34s/it]\n",
            "\u001b[A%|████████████████▌                                                                  | 4/20 [00:13<00:53,  3.36s/it]\n",
            "\u001b[A%|████████████████████▊                                                              | 5/20 [00:17<00:52,  3.51s/it]\n",
            "\u001b[A%|████████████████████████▉                                                          | 6/20 [00:20<00:48,  3.49s/it]\n",
            "\u001b[A%|█████████████████████████████                                                      | 7/20 [00:24<00:47,  3.64s/it]\n",
            "\u001b[A%|█████████████████████████████████▏                                                 | 8/20 [00:28<00:45,  3.78s/it]\n",
            "\u001b[A%|█████████████████████████████████████▎                                             | 9/20 [00:31<00:39,  3.55s/it]\n",
            "\u001b[A%|█████████████████████████████████████████                                         | 10/20 [00:34<00:33,  3.37s/it]\n",
            "\u001b[A%|█████████████████████████████████████████████                                     | 11/20 [00:37<00:30,  3.37s/it]\n",
            "\u001b[A%|█████████████████████████████████████████████████▏                                | 12/20 [00:41<00:28,  3.54s/it]\n",
            "\u001b[A%|█████████████████████████████████████████████████████▎                            | 13/20 [00:44<00:23,  3.38s/it]\n",
            "\u001b[A%|█████████████████████████████████████████████████████████▍                        | 14/20 [00:47<00:19,  3.26s/it]\n",
            "\u001b[A%|█████████████████████████████████████████████████████████████▌                    | 15/20 [00:51<00:16,  3.22s/it]\n",
            "\u001b[A%|█████████████████████████████████████████████████████████████████▌                | 16/20 [00:54<00:12,  3.25s/it]\n",
            "\u001b[A%|█████████████████████████████████████████████████████████████████████▋            | 17/20 [00:57<00:09,  3.18s/it]\n",
            "\u001b[A%|█████████████████████████████████████████████████████████████████████████▊        | 18/20 [01:00<00:06,  3.30s/it]\n",
            "\u001b[A%|█████████████████████████████████████████████████████████████████████████████▉    | 19/20 [01:03<00:03,  3.18s/it]\n",
            "100%|██████████████████████████████████████████████████████████████████████████████████| 20/20 [01:06<00:00,  3.34s/it]\n",
            "\n",
            "\u001b[A%|                                                                                           | 0/20 [00:00<?, ?it/s]\n",
            "\u001b[A%|████▏                                                                              | 1/20 [00:03<01:05,  3.45s/it]\n",
            "\u001b[A%|████████▎                                                                          | 2/20 [00:06<01:02,  3.45s/it]\n",
            "\u001b[A%|████████████▍                                                                      | 3/20 [00:09<00:55,  3.25s/it]\n",
            "\u001b[A%|████████████████▌                                                                  | 4/20 [00:12<00:49,  3.12s/it]\n",
            "\u001b[A%|████████████████████▊                                                              | 5/20 [00:16<00:48,  3.27s/it]\n",
            "\u001b[A%|████████████████████████▉                                                          | 6/20 [00:19<00:44,  3.18s/it]\n",
            "\u001b[A%|█████████████████████████████                                                      | 7/20 [00:22<00:41,  3.16s/it]\n",
            "\u001b[A%|█████████████████████████████████▏                                                 | 8/20 [00:25<00:38,  3.18s/it]\n",
            "\u001b[A%|█████████████████████████████████████▎                                             | 9/20 [00:28<00:35,  3.19s/it]\n",
            "\u001b[A%|█████████████████████████████████████████                                         | 10/20 [00:32<00:32,  3.22s/it]\n",
            "\u001b[A%|█████████████████████████████████████████████                                     | 11/20 [00:35<00:27,  3.11s/it]\n",
            "\u001b[A%|█████████████████████████████████████████████████▏                                | 12/20 [00:38<00:24,  3.10s/it]\n",
            "\u001b[A%|█████████████████████████████████████████████████████▎                            | 13/20 [00:41<00:22,  3.23s/it]\n",
            "\u001b[A%|█████████████████████████████████████████████████████████▍                        | 14/20 [00:45<00:19,  3.26s/it]\n",
            "\u001b[A%|█████████████████████████████████████████████████████████████▌                    | 15/20 [00:49<00:17,  3.50s/it]\n",
            "\u001b[A%|█████████████████████████████████████████████████████████████████▌                | 16/20 [00:53<00:15,  3.82s/it]\n",
            "\u001b[A%|█████████████████████████████████████████████████████████████████████▋            | 17/20 [00:56<00:10,  3.57s/it]\n",
            "\u001b[A%|█████████████████████████████████████████████████████████████████████████▊        | 18/20 [00:59<00:06,  3.42s/it]\n",
            "\u001b[A%|█████████████████████████████████████████████████████████████████████████████▉    | 19/20 [01:02<00:03,  3.25s/it]\n",
            "100%|██████████████████████████████████████████████████████████████████████████████████| 20/20 [01:06<00:00,  3.34s/it]\n",
            "\n",
            "\u001b[A%|                                                                                           | 0/20 [00:00<?, ?it/s]\n",
            "\u001b[A%|████▏                                                                              | 1/20 [00:03<00:57,  3.01s/it]\n",
            "\u001b[A%|████████▎                                                                          | 2/20 [00:06<00:53,  3.00s/it]\n",
            "\u001b[A%|████████████▍                                                                      | 3/20 [00:09<00:56,  3.31s/it]\n",
            "\u001b[A%|████████████████▌                                                                  | 4/20 [00:12<00:50,  3.17s/it]\n",
            "\u001b[A%|████████████████████▊                                                              | 5/20 [00:15<00:46,  3.10s/it]\n",
            "\u001b[A%|████████████████████████▉                                                          | 6/20 [00:18<00:42,  3.07s/it]\n",
            "\u001b[A%|█████████████████████████████                                                      | 7/20 [00:21<00:40,  3.10s/it]\n",
            "\u001b[A%|█████████████████████████████████▏                                                 | 8/20 [00:25<00:38,  3.20s/it]\n",
            "\u001b[A%|█████████████████████████████████████▎                                             | 9/20 [00:28<00:33,  3.09s/it]\n",
            "\u001b[A%|█████████████████████████████████████████                                         | 10/20 [00:31<00:30,  3.09s/it]\n",
            "\u001b[A%|█████████████████████████████████████████████                                     | 11/20 [00:34<00:27,  3.07s/it]\n",
            "\u001b[A%|█████████████████████████████████████████████████▏                                | 12/20 [00:37<00:24,  3.04s/it]\n",
            "\u001b[A%|█████████████████████████████████████████████████████▎                            | 13/20 [00:40<00:21,  3.08s/it]\n",
            "\u001b[A%|█████████████████████████████████████████████████████████▍                        | 14/20 [00:43<00:19,  3.21s/it]\n",
            "\u001b[A%|█████████████████████████████████████████████████████████████▌                    | 15/20 [00:46<00:15,  3.13s/it]\n",
            "\u001b[A%|█████████████████████████████████████████████████████████████████▌                | 16/20 [00:49<00:12,  3.06s/it]\n",
            "\u001b[A%|█████████████████████████████████████████████████████████████████████▋            | 17/20 [00:52<00:09,  3.05s/it]\n",
            "\u001b[A%|█████████████████████████████████████████████████████████████████████████▊        | 18/20 [00:59<00:08,  4.28s/it]\n",
            "\u001b[A%|█████████████████████████████████████████████████████████████████████████████▉    | 19/20 [01:03<00:04,  4.13s/it]\n",
            "100%|██████████████████████████████████████████████████████████████████████████████████| 20/20 [01:06<00:00,  3.35s/it]\n",
            "\n",
            "\u001b[A%|                                                                                           | 0/20 [00:00<?, ?it/s]\n",
            "\u001b[A%|████▏                                                                              | 1/20 [00:03<01:08,  3.59s/it]\n",
            "\u001b[A%|████████▎                                                                          | 2/20 [00:07<01:04,  3.59s/it]\n",
            "\u001b[A%|████████████▍                                                                      | 3/20 [00:10<00:57,  3.38s/it]\n",
            "\u001b[A%|████████████████▌                                                                  | 4/20 [00:13<00:51,  3.22s/it]\n",
            "\u001b[A%|████████████████████▊                                                              | 5/20 [00:16<00:48,  3.20s/it]\n",
            "\u001b[A%|████████████████████████▉                                                          | 6/20 [00:19<00:45,  3.23s/it]\n",
            "\u001b[A%|█████████████████████████████                                                      | 7/20 [00:23<00:42,  3.26s/it]\n",
            "\u001b[A%|█████████████████████████████████▏                                                 | 8/20 [00:26<00:39,  3.32s/it]\n",
            "\u001b[A%|█████████████████████████████████████▎                                             | 9/20 [00:29<00:34,  3.16s/it]\n",
            "\u001b[A%|█████████████████████████████████████████                                         | 10/20 [00:32<00:30,  3.05s/it]\n",
            "\u001b[A%|█████████████████████████████████████████████                                     | 11/20 [00:35<00:28,  3.17s/it]\n",
            "\u001b[A%|█████████████████████████████████████████████████▏                                | 12/20 [00:39<00:26,  3.36s/it]\n",
            "\u001b[A%|█████████████████████████████████████████████████████▎                            | 13/20 [00:42<00:23,  3.38s/it]\n",
            "\u001b[A%|█████████████████████████████████████████████████████████▍                        | 14/20 [00:45<00:19,  3.29s/it]\n",
            "\u001b[A%|█████████████████████████████████████████████████████████████▌                    | 15/20 [00:48<00:15,  3.16s/it]\n",
            "\u001b[A%|█████████████████████████████████████████████████████████████████▌                | 16/20 [00:51<00:12,  3.10s/it]\n",
            "\u001b[A%|█████████████████████████████████████████████████████████████████████▋            | 17/20 [00:55<00:09,  3.22s/it]\n",
            "\u001b[A%|█████████████████████████████████████████████████████████████████████████▊        | 18/20 [00:58<00:06,  3.24s/it]\n",
            "\u001b[A%|█████████████████████████████████████████████████████████████████████████████▉    | 19/20 [01:01<00:03,  3.18s/it]\n",
            "100%|██████████████████████████████████████████████████████████████████████████████████| 20/20 [01:04<00:00,  3.24s/it]\n",
            "\n",
            "\u001b[A%|                                                                                           | 0/20 [00:00<?, ?it/s]\n",
            "\u001b[A%|████▏                                                                              | 1/20 [00:03<01:00,  3.19s/it]\n",
            "\u001b[A%|████████▎                                                                          | 2/20 [00:06<00:58,  3.23s/it]\n",
            "\u001b[A%|████████████▍                                                                      | 3/20 [00:09<00:55,  3.27s/it]\n",
            "\u001b[A%|████████████████▌                                                                  | 4/20 [00:14<00:54,  3.39s/it]\n",
            "\u001b[A%|████████████████████▊                                                              | 5/20 [00:17<00:53,  3.56s/it]\n",
            "\u001b[A%|████████████████████████▉                                                          | 6/20 [00:20<00:47,  3.38s/it]\n",
            "\u001b[A%|█████████████████████████████                                                      | 7/20 [00:23<00:44,  3.41s/it]\n",
            "\u001b[A%|█████████████████████████████████▏                                                 | 8/20 [00:26<00:39,  3.30s/it]\n",
            "\u001b[A%|█████████████████████████████████████▎                                             | 9/20 [00:29<00:34,  3.16s/it]\n",
            "\u001b[A%|█████████████████████████████████████████                                         | 10/20 [00:33<00:32,  3.29s/it]\n",
            "\u001b[A%|█████████████████████████████████████████████                                     | 11/20 [00:36<00:28,  3.20s/it]\n",
            "\u001b[A%|█████████████████████████████████████████████████▏                                | 12/20 [00:39<00:25,  3.15s/it]\n",
            "\u001b[A%|█████████████████████████████████████████████████████▎                            | 13/20 [00:42<00:21,  3.11s/it]\n",
            "\u001b[A%|█████████████████████████████████████████████████████████▍                        | 14/20 [00:45<00:18,  3.11s/it]\n",
            "\u001b[A%|█████████████████████████████████████████████████████████████▌                    | 15/20 [00:48<00:15,  3.18s/it]\n",
            "\u001b[A%|█████████████████████████████████████████████████████████████████▌                | 16/20 [00:52<00:13,  3.28s/it]\n",
            "\u001b[A%|█████████████████████████████████████████████████████████████████████▋            | 17/20 [00:56<00:10,  3.57s/it]\n",
            "\u001b[A%|█████████████████████████████████████████████████████████████████████████▊        | 18/20 [00:59<00:06,  3.42s/it]\n",
            "\u001b[A%|█████████████████████████████████████████████████████████████████████████████▉    | 19/20 [01:03<00:03,  3.53s/it]\n",
            "100%|██████████████████████████████████████████████████████████████████████████████████| 20/20 [01:06<00:00,  3.33s/it]\n",
            "\n",
            "\u001b[A%|                                                                                           | 0/20 [00:00<?, ?it/s]\n",
            "\u001b[A%|████▏                                                                              | 1/20 [00:03<01:09,  3.65s/it]\n",
            "\u001b[A%|████████▎                                                                          | 2/20 [00:07<01:09,  3.85s/it]\n",
            "\u001b[A%|████████████▍                                                                      | 3/20 [00:10<00:58,  3.45s/it]\n",
            "\u001b[A%|████████████████▌                                                                  | 4/20 [00:13<00:52,  3.30s/it]\n",
            "\u001b[A%|████████████████████▊                                                              | 5/20 [00:16<00:48,  3.21s/it]\n",
            "\u001b[A%|████████████████████████▉                                                          | 6/20 [00:20<00:45,  3.28s/it]\n",
            "\u001b[A%|█████████████████████████████                                                      | 7/20 [00:23<00:41,  3.23s/it]\n",
            "\u001b[A%|█████████████████████████████████▏                                                 | 8/20 [00:26<00:39,  3.30s/it]\n",
            "\u001b[A%|█████████████████████████████████████▎                                             | 9/20 [00:30<00:36,  3.30s/it]\n",
            "\u001b[A%|█████████████████████████████████████████                                         | 10/20 [00:33<00:33,  3.35s/it]\n",
            "\u001b[A%|█████████████████████████████████████████████                                     | 11/20 [00:36<00:29,  3.24s/it]\n",
            "\u001b[A%|█████████████████████████████████████████████████▏                                | 12/20 [00:39<00:25,  3.23s/it]\n",
            "\u001b[A%|█████████████████████████████████████████████████████▎                            | 13/20 [00:43<00:23,  3.38s/it]\n",
            "\u001b[A%|█████████████████████████████████████████████████████████▍                        | 14/20 [00:46<00:19,  3.27s/it]\n",
            "\u001b[A%|█████████████████████████████████████████████████████████████▌                    | 15/20 [00:49<00:16,  3.23s/it]\n",
            "\u001b[A%|█████████████████████████████████████████████████████████████████▌                | 16/20 [00:52<00:12,  3.15s/it]\n",
            "\u001b[A%|█████████████████████████████████████████████████████████████████████▋            | 17/20 [00:55<00:09,  3.12s/it]\n",
            "\u001b[A%|█████████████████████████████████████████████████████████████████████████▊        | 18/20 [00:58<00:06,  3.05s/it]\n",
            "\u001b[A%|█████████████████████████████████████████████████████████████████████████████▉    | 19/20 [01:02<00:03,  3.21s/it]\n",
            "100%|██████████████████████████████████████████████████████████████████████████████████| 20/20 [01:06<00:00,  3.30s/it]\n"
          ]
        }
      ],
      "source": [
        "np.random.seed(4)\n",
        "preds = tft.predict(sku_df.iloc[:18, :]).numpy()\n",
        "\n",
        "for i in range(1, sku_df.shape[0]-18):\n",
        "    cur = sku_df.iloc[i+17, :]\n",
        "    real_prices = np.array(cur[['Цена (BasePrice)', 'Цена со скидкой (DiscountPrice)', 'Цена по карте (OzonCardPrice)']])\n",
        "    X_init = np.vstack([real_prices, real_prices*np.array([0.8, 1, 1.2]), real_prices*np.array([1.2, 0.8, 1])])\n",
        "    Y_init = neuro_predict(X_init, i)\n",
        "\n",
        "    X_sample = X_init\n",
        "    Y_sample = Y_init\n",
        "\n",
        "    bounds = np.array([[0, 10000.0]])\n",
        "\n",
        "    n_iter = 20\n",
        "\n",
        "    l_param = 1.5\n",
        "\n",
        "    for k in tqdm(range(n_iter)):\n",
        "\n",
        "        X_next = propose_location(expected_improvement, X_sample, Y_sample, bounds).ravel()\n",
        "\n",
        "        Y_next = neuro_predict(np.array([X_next]), i)\n",
        "\n",
        "        X_sample = np.vstack((X_sample, X_next))\n",
        "        Y_sample = np.vstack((Y_sample, Y_next))\n",
        "\n",
        "    cur_day = pd.DataFrame(sku_df.iloc[i+17, :].copy()).T\n",
        "    cur_day[['Цена (BasePrice)', 'Цена со скидкой (DiscountPrice)', 'Цена по карте (OzonCardPrice)']] = X_sample[np.argmax(Y_sample)]\n",
        "    cur_day['days_from_min'] = cur_day['days_from_min'].astype('int64')\n",
        "    cur = pd.concat([sku_df.iloc[:i+17, :], cur_day])\n",
        "    preds = np.vstack([preds, tft.predict(cur).numpy()])"
      ]
    },
    {
      "cell_type": "code",
      "execution_count": null,
      "metadata": {
        "id": "kEw47-zemNgo",
        "outputId": "2c03c50e-b254-4458-8537-6694d221f321"
      },
      "outputs": [
        {
          "name": "stdout",
          "output_type": "stream",
          "text": [
            "Выручка при оптимизированной ценовой политике за последние 10 дней: 14508.888659428907\n"
          ]
        }
      ],
      "source": [
        "print(f'Выручка при оптимизированной ценовой политике за последние 10 дней: {(cur.iloc[17:, :][['Цена (BasePrice)', 'Цена со скидкой (DiscountPrice)', 'Цена по карте (OzonCardPrice)']].mean(axis=1) * preds.mean(axis=1).clip(0)).sum()}')"
      ]
    },
    {
      "cell_type": "code",
      "execution_count": null,
      "metadata": {
        "id": "V7vzSnJ8mNgo"
      },
      "outputs": [],
      "source": [
        "cur.drop('Unnamed: 0', axis=1)"
      ]
    }
  ],
  "metadata": {
    "colab": {
      "provenance": []
    },
    "kernelspec": {
      "display_name": "Python 3 (ipykernel)",
      "language": "python",
      "name": "python3"
    },
    "language_info": {
      "codemirror_mode": {
        "name": "ipython",
        "version": 3
      },
      "file_extension": ".py",
      "mimetype": "text/x-python",
      "name": "python",
      "nbconvert_exporter": "python",
      "pygments_lexer": "ipython3",
      "version": "3.13.2"
    }
  },
  "nbformat": 4,
  "nbformat_minor": 0
}